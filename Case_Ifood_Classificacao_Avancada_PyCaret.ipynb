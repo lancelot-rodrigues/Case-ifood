{
  "nbformat": 4,
  "nbformat_minor": 0,
  "metadata": {
    "colab": {
      "provenance": []
    },
    "kernelspec": {
      "name": "python3",
      "display_name": "Python 3"
    },
    "language_info": {
      "name": "python"
    },
    "widgets": {
      "application/vnd.jupyter.widget-state+json": {
        "f0c12a5e09dc4a5d8352cfb9cdbf6120": {
          "model_module": "@jupyter-widgets/controls",
          "model_name": "HBoxModel",
          "model_module_version": "1.5.0",
          "state": {
            "_dom_classes": [],
            "_model_module": "@jupyter-widgets/controls",
            "_model_module_version": "1.5.0",
            "_model_name": "HBoxModel",
            "_view_count": null,
            "_view_module": "@jupyter-widgets/controls",
            "_view_module_version": "1.5.0",
            "_view_name": "HBoxView",
            "box_style": "",
            "children": [
              "IPY_MODEL_cc2e6234dafa47fbb0e161f75d84d4b3",
              "IPY_MODEL_852908bc1d844a25b18e48879fc62afa",
              "IPY_MODEL_f32092652b0144aea2c84effe51b5ac3"
            ],
            "layout": "IPY_MODEL_4c6c7bd3dc9c459fb5580c503d6bdd34"
          }
        },
        "cc2e6234dafa47fbb0e161f75d84d4b3": {
          "model_module": "@jupyter-widgets/controls",
          "model_name": "HTMLModel",
          "model_module_version": "1.5.0",
          "state": {
            "_dom_classes": [],
            "_model_module": "@jupyter-widgets/controls",
            "_model_module_version": "1.5.0",
            "_model_name": "HTMLModel",
            "_view_count": null,
            "_view_module": "@jupyter-widgets/controls",
            "_view_module_version": "1.5.0",
            "_view_name": "HTMLView",
            "description": "",
            "description_tooltip": null,
            "layout": "IPY_MODEL_c44d197f54084ef792a9a76d80879510",
            "placeholder": "​",
            "style": "IPY_MODEL_066dd0e268d24889a34332ce46da937f",
            "value": "Processing: 100%"
          }
        },
        "852908bc1d844a25b18e48879fc62afa": {
          "model_module": "@jupyter-widgets/controls",
          "model_name": "FloatProgressModel",
          "model_module_version": "1.5.0",
          "state": {
            "_dom_classes": [],
            "_model_module": "@jupyter-widgets/controls",
            "_model_module_version": "1.5.0",
            "_model_name": "FloatProgressModel",
            "_view_count": null,
            "_view_module": "@jupyter-widgets/controls",
            "_view_module_version": "1.5.0",
            "_view_name": "ProgressView",
            "bar_style": "",
            "description": "",
            "description_tooltip": null,
            "layout": "IPY_MODEL_34ffe9c12d694476ae4a0c476f80f6c1",
            "max": 65,
            "min": 0,
            "orientation": "horizontal",
            "style": "IPY_MODEL_6b2516d37a45465dbb4f31ce058398aa",
            "value": 65
          }
        },
        "f32092652b0144aea2c84effe51b5ac3": {
          "model_module": "@jupyter-widgets/controls",
          "model_name": "HTMLModel",
          "model_module_version": "1.5.0",
          "state": {
            "_dom_classes": [],
            "_model_module": "@jupyter-widgets/controls",
            "_model_module_version": "1.5.0",
            "_model_name": "HTMLModel",
            "_view_count": null,
            "_view_module": "@jupyter-widgets/controls",
            "_view_module_version": "1.5.0",
            "_view_name": "HTMLView",
            "description": "",
            "description_tooltip": null,
            "layout": "IPY_MODEL_80ca38ac20184f5fa431ae7e68b61306",
            "placeholder": "​",
            "style": "IPY_MODEL_6e279c8ecf614aa5b54157256d7456f7",
            "value": " 65/65 [01:55&lt;00:00,  1.22s/it]"
          }
        },
        "4c6c7bd3dc9c459fb5580c503d6bdd34": {
          "model_module": "@jupyter-widgets/base",
          "model_name": "LayoutModel",
          "model_module_version": "1.2.0",
          "state": {
            "_model_module": "@jupyter-widgets/base",
            "_model_module_version": "1.2.0",
            "_model_name": "LayoutModel",
            "_view_count": null,
            "_view_module": "@jupyter-widgets/base",
            "_view_module_version": "1.2.0",
            "_view_name": "LayoutView",
            "align_content": null,
            "align_items": null,
            "align_self": null,
            "border": null,
            "bottom": null,
            "display": null,
            "flex": null,
            "flex_flow": null,
            "grid_area": null,
            "grid_auto_columns": null,
            "grid_auto_flow": null,
            "grid_auto_rows": null,
            "grid_column": null,
            "grid_gap": null,
            "grid_row": null,
            "grid_template_areas": null,
            "grid_template_columns": null,
            "grid_template_rows": null,
            "height": null,
            "justify_content": null,
            "justify_items": null,
            "left": null,
            "margin": null,
            "max_height": null,
            "max_width": null,
            "min_height": null,
            "min_width": null,
            "object_fit": null,
            "object_position": null,
            "order": null,
            "overflow": null,
            "overflow_x": null,
            "overflow_y": null,
            "padding": null,
            "right": null,
            "top": null,
            "visibility": "hidden",
            "width": null
          }
        },
        "c44d197f54084ef792a9a76d80879510": {
          "model_module": "@jupyter-widgets/base",
          "model_name": "LayoutModel",
          "model_module_version": "1.2.0",
          "state": {
            "_model_module": "@jupyter-widgets/base",
            "_model_module_version": "1.2.0",
            "_model_name": "LayoutModel",
            "_view_count": null,
            "_view_module": "@jupyter-widgets/base",
            "_view_module_version": "1.2.0",
            "_view_name": "LayoutView",
            "align_content": null,
            "align_items": null,
            "align_self": null,
            "border": null,
            "bottom": null,
            "display": null,
            "flex": null,
            "flex_flow": null,
            "grid_area": null,
            "grid_auto_columns": null,
            "grid_auto_flow": null,
            "grid_auto_rows": null,
            "grid_column": null,
            "grid_gap": null,
            "grid_row": null,
            "grid_template_areas": null,
            "grid_template_columns": null,
            "grid_template_rows": null,
            "height": null,
            "justify_content": null,
            "justify_items": null,
            "left": null,
            "margin": null,
            "max_height": null,
            "max_width": null,
            "min_height": null,
            "min_width": null,
            "object_fit": null,
            "object_position": null,
            "order": null,
            "overflow": null,
            "overflow_x": null,
            "overflow_y": null,
            "padding": null,
            "right": null,
            "top": null,
            "visibility": null,
            "width": null
          }
        },
        "066dd0e268d24889a34332ce46da937f": {
          "model_module": "@jupyter-widgets/controls",
          "model_name": "DescriptionStyleModel",
          "model_module_version": "1.5.0",
          "state": {
            "_model_module": "@jupyter-widgets/controls",
            "_model_module_version": "1.5.0",
            "_model_name": "DescriptionStyleModel",
            "_view_count": null,
            "_view_module": "@jupyter-widgets/base",
            "_view_module_version": "1.2.0",
            "_view_name": "StyleView",
            "description_width": ""
          }
        },
        "34ffe9c12d694476ae4a0c476f80f6c1": {
          "model_module": "@jupyter-widgets/base",
          "model_name": "LayoutModel",
          "model_module_version": "1.2.0",
          "state": {
            "_model_module": "@jupyter-widgets/base",
            "_model_module_version": "1.2.0",
            "_model_name": "LayoutModel",
            "_view_count": null,
            "_view_module": "@jupyter-widgets/base",
            "_view_module_version": "1.2.0",
            "_view_name": "LayoutView",
            "align_content": null,
            "align_items": null,
            "align_self": null,
            "border": null,
            "bottom": null,
            "display": null,
            "flex": null,
            "flex_flow": null,
            "grid_area": null,
            "grid_auto_columns": null,
            "grid_auto_flow": null,
            "grid_auto_rows": null,
            "grid_column": null,
            "grid_gap": null,
            "grid_row": null,
            "grid_template_areas": null,
            "grid_template_columns": null,
            "grid_template_rows": null,
            "height": null,
            "justify_content": null,
            "justify_items": null,
            "left": null,
            "margin": null,
            "max_height": null,
            "max_width": null,
            "min_height": null,
            "min_width": null,
            "object_fit": null,
            "object_position": null,
            "order": null,
            "overflow": null,
            "overflow_x": null,
            "overflow_y": null,
            "padding": null,
            "right": null,
            "top": null,
            "visibility": null,
            "width": null
          }
        },
        "6b2516d37a45465dbb4f31ce058398aa": {
          "model_module": "@jupyter-widgets/controls",
          "model_name": "ProgressStyleModel",
          "model_module_version": "1.5.0",
          "state": {
            "_model_module": "@jupyter-widgets/controls",
            "_model_module_version": "1.5.0",
            "_model_name": "ProgressStyleModel",
            "_view_count": null,
            "_view_module": "@jupyter-widgets/base",
            "_view_module_version": "1.2.0",
            "_view_name": "StyleView",
            "bar_color": null,
            "description_width": ""
          }
        },
        "80ca38ac20184f5fa431ae7e68b61306": {
          "model_module": "@jupyter-widgets/base",
          "model_name": "LayoutModel",
          "model_module_version": "1.2.0",
          "state": {
            "_model_module": "@jupyter-widgets/base",
            "_model_module_version": "1.2.0",
            "_model_name": "LayoutModel",
            "_view_count": null,
            "_view_module": "@jupyter-widgets/base",
            "_view_module_version": "1.2.0",
            "_view_name": "LayoutView",
            "align_content": null,
            "align_items": null,
            "align_self": null,
            "border": null,
            "bottom": null,
            "display": null,
            "flex": null,
            "flex_flow": null,
            "grid_area": null,
            "grid_auto_columns": null,
            "grid_auto_flow": null,
            "grid_auto_rows": null,
            "grid_column": null,
            "grid_gap": null,
            "grid_row": null,
            "grid_template_areas": null,
            "grid_template_columns": null,
            "grid_template_rows": null,
            "height": null,
            "justify_content": null,
            "justify_items": null,
            "left": null,
            "margin": null,
            "max_height": null,
            "max_width": null,
            "min_height": null,
            "min_width": null,
            "object_fit": null,
            "object_position": null,
            "order": null,
            "overflow": null,
            "overflow_x": null,
            "overflow_y": null,
            "padding": null,
            "right": null,
            "top": null,
            "visibility": null,
            "width": null
          }
        },
        "6e279c8ecf614aa5b54157256d7456f7": {
          "model_module": "@jupyter-widgets/controls",
          "model_name": "DescriptionStyleModel",
          "model_module_version": "1.5.0",
          "state": {
            "_model_module": "@jupyter-widgets/controls",
            "_model_module_version": "1.5.0",
            "_model_name": "DescriptionStyleModel",
            "_view_count": null,
            "_view_module": "@jupyter-widgets/base",
            "_view_module_version": "1.2.0",
            "_view_name": "StyleView",
            "description_width": ""
          }
        }
      }
    }
  },
  "cells": [
    {
      "cell_type": "code",
      "source": [
        "# Importações Essenciais\n",
        "import pandas as pd\n",
        "import numpy as np\n",
        "import seaborn as sns\n",
        "import matplotlib.pyplot as plt\n",
        "from datetime import datetime\n",
        "import warnings"
      ],
      "metadata": {
        "id": "vAbBAAEPW-Z6"
      },
      "execution_count": null,
      "outputs": []
    },
    {
      "cell_type": "code",
      "source": [
        "# Imports do PyCaret\n",
        "!pip install pycaret\n",
        "from pycaret.classification import *"
      ],
      "metadata": {
        "colab": {
          "base_uri": "https://localhost:8080/"
        },
        "id": "BFTLTJrqY7Pb",
        "outputId": "77ccead5-1015-4608-9aa5-cb904caa1a36"
      },
      "execution_count": null,
      "outputs": [
        {
          "output_type": "stream",
          "name": "stdout",
          "text": [
            "Requirement already satisfied: pycaret in /usr/local/lib/python3.11/dist-packages (3.3.2)\n",
            "Requirement already satisfied: ipython>=5.5.0 in /usr/local/lib/python3.11/dist-packages (from pycaret) (7.34.0)\n",
            "Requirement already satisfied: ipywidgets>=7.6.5 in /usr/local/lib/python3.11/dist-packages (from pycaret) (7.7.1)\n",
            "Requirement already satisfied: tqdm>=4.62.0 in /usr/local/lib/python3.11/dist-packages (from pycaret) (4.67.1)\n",
            "Requirement already satisfied: numpy<1.27,>=1.21 in /usr/local/lib/python3.11/dist-packages (from pycaret) (1.26.4)\n",
            "Requirement already satisfied: pandas<2.2.0 in /usr/local/lib/python3.11/dist-packages (from pycaret) (2.1.4)\n",
            "Requirement already satisfied: jinja2>=3 in /usr/local/lib/python3.11/dist-packages (from pycaret) (3.1.6)\n",
            "Requirement already satisfied: scipy<=1.11.4,>=1.6.1 in /usr/local/lib/python3.11/dist-packages (from pycaret) (1.11.4)\n",
            "Requirement already satisfied: joblib<1.4,>=1.2.0 in /usr/local/lib/python3.11/dist-packages (from pycaret) (1.3.2)\n",
            "Requirement already satisfied: scikit-learn>1.4.0 in /usr/local/lib/python3.11/dist-packages (from pycaret) (1.4.2)\n",
            "Requirement already satisfied: pyod>=1.1.3 in /usr/local/lib/python3.11/dist-packages (from pycaret) (2.0.4)\n",
            "Requirement already satisfied: imbalanced-learn>=0.12.0 in /usr/local/lib/python3.11/dist-packages (from pycaret) (0.13.0)\n",
            "Requirement already satisfied: category-encoders>=2.4.0 in /usr/local/lib/python3.11/dist-packages (from pycaret) (2.7.0)\n",
            "Requirement already satisfied: lightgbm>=3.0.0 in /usr/local/lib/python3.11/dist-packages (from pycaret) (4.5.0)\n",
            "Requirement already satisfied: numba>=0.55.0 in /usr/local/lib/python3.11/dist-packages (from pycaret) (0.60.0)\n",
            "Requirement already satisfied: requests>=2.27.1 in /usr/local/lib/python3.11/dist-packages (from pycaret) (2.32.3)\n",
            "Requirement already satisfied: psutil>=5.9.0 in /usr/local/lib/python3.11/dist-packages (from pycaret) (5.9.5)\n",
            "Requirement already satisfied: markupsafe>=2.0.1 in /usr/local/lib/python3.11/dist-packages (from pycaret) (3.0.2)\n",
            "Requirement already satisfied: importlib-metadata>=4.12.0 in /usr/local/lib/python3.11/dist-packages (from pycaret) (8.6.1)\n",
            "Requirement already satisfied: nbformat>=4.2.0 in /usr/local/lib/python3.11/dist-packages (from pycaret) (5.10.4)\n",
            "Requirement already satisfied: cloudpickle in /usr/local/lib/python3.11/dist-packages (from pycaret) (3.1.1)\n",
            "Requirement already satisfied: deprecation>=2.1.0 in /usr/local/lib/python3.11/dist-packages (from pycaret) (2.1.0)\n",
            "Requirement already satisfied: xxhash in /usr/local/lib/python3.11/dist-packages (from pycaret) (3.5.0)\n",
            "Requirement already satisfied: matplotlib<3.8.0 in /usr/local/lib/python3.11/dist-packages (from pycaret) (3.7.5)\n",
            "Requirement already satisfied: scikit-plot>=0.3.7 in /usr/local/lib/python3.11/dist-packages (from pycaret) (0.3.7)\n",
            "Requirement already satisfied: yellowbrick>=1.4 in /usr/local/lib/python3.11/dist-packages (from pycaret) (1.5)\n",
            "Requirement already satisfied: plotly>=5.14.0 in /usr/local/lib/python3.11/dist-packages (from pycaret) (5.24.1)\n",
            "Requirement already satisfied: kaleido>=0.2.1 in /usr/local/lib/python3.11/dist-packages (from pycaret) (0.2.1)\n",
            "Requirement already satisfied: schemdraw==0.15 in /usr/local/lib/python3.11/dist-packages (from pycaret) (0.15)\n",
            "Requirement already satisfied: plotly-resampler>=0.8.3.1 in /usr/local/lib/python3.11/dist-packages (from pycaret) (0.10.0)\n",
            "Requirement already satisfied: statsmodels>=0.12.1 in /usr/local/lib/python3.11/dist-packages (from pycaret) (0.14.4)\n",
            "Requirement already satisfied: sktime==0.26.0 in /usr/local/lib/python3.11/dist-packages (from pycaret) (0.26.0)\n",
            "Requirement already satisfied: tbats>=1.1.3 in /usr/local/lib/python3.11/dist-packages (from pycaret) (1.1.3)\n",
            "Requirement already satisfied: pmdarima>=2.0.4 in /usr/local/lib/python3.11/dist-packages (from pycaret) (2.0.4)\n",
            "Requirement already satisfied: wurlitzer in /usr/local/lib/python3.11/dist-packages (from pycaret) (3.1.1)\n",
            "Requirement already satisfied: packaging in /usr/local/lib/python3.11/dist-packages (from sktime==0.26.0->pycaret) (24.2)\n",
            "Requirement already satisfied: scikit-base<0.8.0 in /usr/local/lib/python3.11/dist-packages (from sktime==0.26.0->pycaret) (0.7.8)\n",
            "Requirement already satisfied: patsy>=0.5.1 in /usr/local/lib/python3.11/dist-packages (from category-encoders>=2.4.0->pycaret) (1.0.1)\n",
            "Requirement already satisfied: sklearn-compat<1,>=0.1 in /usr/local/lib/python3.11/dist-packages (from imbalanced-learn>=0.12.0->pycaret) (0.1.3)\n",
            "Requirement already satisfied: threadpoolctl<4,>=2.0.0 in /usr/local/lib/python3.11/dist-packages (from imbalanced-learn>=0.12.0->pycaret) (3.6.0)\n",
            "Requirement already satisfied: zipp>=3.20 in /usr/local/lib/python3.11/dist-packages (from importlib-metadata>=4.12.0->pycaret) (3.21.0)\n",
            "Requirement already satisfied: setuptools>=18.5 in /usr/local/lib/python3.11/dist-packages (from ipython>=5.5.0->pycaret) (75.2.0)\n",
            "Requirement already satisfied: jedi>=0.16 in /usr/local/lib/python3.11/dist-packages (from ipython>=5.5.0->pycaret) (0.19.2)\n",
            "Requirement already satisfied: decorator in /usr/local/lib/python3.11/dist-packages (from ipython>=5.5.0->pycaret) (4.4.2)\n",
            "Requirement already satisfied: pickleshare in /usr/local/lib/python3.11/dist-packages (from ipython>=5.5.0->pycaret) (0.7.5)\n",
            "Requirement already satisfied: traitlets>=4.2 in /usr/local/lib/python3.11/dist-packages (from ipython>=5.5.0->pycaret) (5.7.1)\n",
            "Requirement already satisfied: prompt-toolkit!=3.0.0,!=3.0.1,<3.1.0,>=2.0.0 in /usr/local/lib/python3.11/dist-packages (from ipython>=5.5.0->pycaret) (3.0.50)\n",
            "Requirement already satisfied: pygments in /usr/local/lib/python3.11/dist-packages (from ipython>=5.5.0->pycaret) (2.18.0)\n",
            "Requirement already satisfied: backcall in /usr/local/lib/python3.11/dist-packages (from ipython>=5.5.0->pycaret) (0.2.0)\n",
            "Requirement already satisfied: matplotlib-inline in /usr/local/lib/python3.11/dist-packages (from ipython>=5.5.0->pycaret) (0.1.7)\n",
            "Requirement already satisfied: pexpect>4.3 in /usr/local/lib/python3.11/dist-packages (from ipython>=5.5.0->pycaret) (4.9.0)\n",
            "Requirement already satisfied: ipykernel>=4.5.1 in /usr/local/lib/python3.11/dist-packages (from ipywidgets>=7.6.5->pycaret) (6.17.1)\n",
            "Requirement already satisfied: ipython-genutils~=0.2.0 in /usr/local/lib/python3.11/dist-packages (from ipywidgets>=7.6.5->pycaret) (0.2.0)\n",
            "Requirement already satisfied: widgetsnbextension~=3.6.0 in /usr/local/lib/python3.11/dist-packages (from ipywidgets>=7.6.5->pycaret) (3.6.10)\n",
            "Requirement already satisfied: jupyterlab-widgets>=1.0.0 in /usr/local/lib/python3.11/dist-packages (from ipywidgets>=7.6.5->pycaret) (3.0.13)\n",
            "Requirement already satisfied: contourpy>=1.0.1 in /usr/local/lib/python3.11/dist-packages (from matplotlib<3.8.0->pycaret) (1.3.1)\n",
            "Requirement already satisfied: cycler>=0.10 in /usr/local/lib/python3.11/dist-packages (from matplotlib<3.8.0->pycaret) (0.12.1)\n",
            "Requirement already satisfied: fonttools>=4.22.0 in /usr/local/lib/python3.11/dist-packages (from matplotlib<3.8.0->pycaret) (4.57.0)\n",
            "Requirement already satisfied: kiwisolver>=1.0.1 in /usr/local/lib/python3.11/dist-packages (from matplotlib<3.8.0->pycaret) (1.4.8)\n",
            "Requirement already satisfied: pillow>=6.2.0 in /usr/local/lib/python3.11/dist-packages (from matplotlib<3.8.0->pycaret) (11.1.0)\n",
            "Requirement already satisfied: pyparsing>=2.3.1 in /usr/local/lib/python3.11/dist-packages (from matplotlib<3.8.0->pycaret) (3.2.3)\n",
            "Requirement already satisfied: python-dateutil>=2.7 in /usr/local/lib/python3.11/dist-packages (from matplotlib<3.8.0->pycaret) (2.8.2)\n",
            "Requirement already satisfied: fastjsonschema>=2.15 in /usr/local/lib/python3.11/dist-packages (from nbformat>=4.2.0->pycaret) (2.21.1)\n",
            "Requirement already satisfied: jsonschema>=2.6 in /usr/local/lib/python3.11/dist-packages (from nbformat>=4.2.0->pycaret) (4.23.0)\n",
            "Requirement already satisfied: jupyter-core!=5.0.*,>=4.12 in /usr/local/lib/python3.11/dist-packages (from nbformat>=4.2.0->pycaret) (5.7.2)\n",
            "Requirement already satisfied: llvmlite<0.44,>=0.43.0dev0 in /usr/local/lib/python3.11/dist-packages (from numba>=0.55.0->pycaret) (0.43.0)\n",
            "Requirement already satisfied: pytz>=2020.1 in /usr/local/lib/python3.11/dist-packages (from pandas<2.2.0->pycaret) (2025.2)\n",
            "Requirement already satisfied: tzdata>=2022.1 in /usr/local/lib/python3.11/dist-packages (from pandas<2.2.0->pycaret) (2025.2)\n",
            "Requirement already satisfied: tenacity>=6.2.0 in /usr/local/lib/python3.11/dist-packages (from plotly>=5.14.0->pycaret) (9.1.2)\n",
            "Requirement already satisfied: dash>=2.9.0 in /usr/local/lib/python3.11/dist-packages (from plotly-resampler>=0.8.3.1->pycaret) (3.0.2)\n",
            "Requirement already satisfied: orjson<4.0.0,>=3.8.0 in /usr/local/lib/python3.11/dist-packages (from plotly-resampler>=0.8.3.1->pycaret) (3.10.16)\n",
            "Requirement already satisfied: tsdownsample>=0.1.3 in /usr/local/lib/python3.11/dist-packages (from plotly-resampler>=0.8.3.1->pycaret) (0.1.4.1)\n",
            "Requirement already satisfied: Cython!=0.29.18,!=0.29.31,>=0.29 in /usr/local/lib/python3.11/dist-packages (from pmdarima>=2.0.4->pycaret) (3.0.12)\n",
            "Requirement already satisfied: urllib3 in /usr/local/lib/python3.11/dist-packages (from pmdarima>=2.0.4->pycaret) (2.3.0)\n",
            "Requirement already satisfied: charset-normalizer<4,>=2 in /usr/local/lib/python3.11/dist-packages (from requests>=2.27.1->pycaret) (3.4.1)\n",
            "Requirement already satisfied: idna<4,>=2.5 in /usr/local/lib/python3.11/dist-packages (from requests>=2.27.1->pycaret) (3.10)\n",
            "Requirement already satisfied: certifi>=2017.4.17 in /usr/local/lib/python3.11/dist-packages (from requests>=2.27.1->pycaret) (2025.1.31)\n",
            "Requirement already satisfied: Flask<3.1,>=1.0.4 in /usr/local/lib/python3.11/dist-packages (from dash>=2.9.0->plotly-resampler>=0.8.3.1->pycaret) (3.0.3)\n",
            "Requirement already satisfied: Werkzeug<3.1 in /usr/local/lib/python3.11/dist-packages (from dash>=2.9.0->plotly-resampler>=0.8.3.1->pycaret) (3.0.6)\n",
            "Requirement already satisfied: typing-extensions>=4.1.1 in /usr/local/lib/python3.11/dist-packages (from dash>=2.9.0->plotly-resampler>=0.8.3.1->pycaret) (4.13.1)\n",
            "Requirement already satisfied: retrying in /usr/local/lib/python3.11/dist-packages (from dash>=2.9.0->plotly-resampler>=0.8.3.1->pycaret) (1.3.4)\n",
            "Requirement already satisfied: nest-asyncio in /usr/local/lib/python3.11/dist-packages (from dash>=2.9.0->plotly-resampler>=0.8.3.1->pycaret) (1.6.0)\n",
            "Requirement already satisfied: debugpy>=1.0 in /usr/local/lib/python3.11/dist-packages (from ipykernel>=4.5.1->ipywidgets>=7.6.5->pycaret) (1.8.0)\n",
            "Requirement already satisfied: jupyter-client>=6.1.12 in /usr/local/lib/python3.11/dist-packages (from ipykernel>=4.5.1->ipywidgets>=7.6.5->pycaret) (6.1.12)\n",
            "Requirement already satisfied: pyzmq>=17 in /usr/local/lib/python3.11/dist-packages (from ipykernel>=4.5.1->ipywidgets>=7.6.5->pycaret) (24.0.1)\n",
            "Requirement already satisfied: tornado>=6.1 in /usr/local/lib/python3.11/dist-packages (from ipykernel>=4.5.1->ipywidgets>=7.6.5->pycaret) (6.4.2)\n",
            "Requirement already satisfied: parso<0.9.0,>=0.8.4 in /usr/local/lib/python3.11/dist-packages (from jedi>=0.16->ipython>=5.5.0->pycaret) (0.8.4)\n",
            "Requirement already satisfied: attrs>=22.2.0 in /usr/local/lib/python3.11/dist-packages (from jsonschema>=2.6->nbformat>=4.2.0->pycaret) (25.3.0)\n",
            "Requirement already satisfied: jsonschema-specifications>=2023.03.6 in /usr/local/lib/python3.11/dist-packages (from jsonschema>=2.6->nbformat>=4.2.0->pycaret) (2024.10.1)\n",
            "Requirement already satisfied: referencing>=0.28.4 in /usr/local/lib/python3.11/dist-packages (from jsonschema>=2.6->nbformat>=4.2.0->pycaret) (0.36.2)\n",
            "Requirement already satisfied: rpds-py>=0.7.1 in /usr/local/lib/python3.11/dist-packages (from jsonschema>=2.6->nbformat>=4.2.0->pycaret) (0.24.0)\n",
            "Requirement already satisfied: platformdirs>=2.5 in /usr/local/lib/python3.11/dist-packages (from jupyter-core!=5.0.*,>=4.12->nbformat>=4.2.0->pycaret) (4.3.7)\n",
            "Requirement already satisfied: ptyprocess>=0.5 in /usr/local/lib/python3.11/dist-packages (from pexpect>4.3->ipython>=5.5.0->pycaret) (0.7.0)\n",
            "Requirement already satisfied: wcwidth in /usr/local/lib/python3.11/dist-packages (from prompt-toolkit!=3.0.0,!=3.0.1,<3.1.0,>=2.0.0->ipython>=5.5.0->pycaret) (0.2.13)\n",
            "Requirement already satisfied: six>=1.5 in /usr/local/lib/python3.11/dist-packages (from python-dateutil>=2.7->matplotlib<3.8.0->pycaret) (1.17.0)\n",
            "Requirement already satisfied: notebook>=4.4.1 in /usr/local/lib/python3.11/dist-packages (from widgetsnbextension~=3.6.0->ipywidgets>=7.6.5->pycaret) (6.5.7)\n",
            "Requirement already satisfied: itsdangerous>=2.1.2 in /usr/local/lib/python3.11/dist-packages (from Flask<3.1,>=1.0.4->dash>=2.9.0->plotly-resampler>=0.8.3.1->pycaret) (2.2.0)\n",
            "Requirement already satisfied: click>=8.1.3 in /usr/local/lib/python3.11/dist-packages (from Flask<3.1,>=1.0.4->dash>=2.9.0->plotly-resampler>=0.8.3.1->pycaret) (8.1.8)\n",
            "Requirement already satisfied: blinker>=1.6.2 in /usr/local/lib/python3.11/dist-packages (from Flask<3.1,>=1.0.4->dash>=2.9.0->plotly-resampler>=0.8.3.1->pycaret) (1.9.0)\n",
            "Requirement already satisfied: argon2-cffi in /usr/local/lib/python3.11/dist-packages (from notebook>=4.4.1->widgetsnbextension~=3.6.0->ipywidgets>=7.6.5->pycaret) (23.1.0)\n",
            "Requirement already satisfied: nbconvert>=5 in /usr/local/lib/python3.11/dist-packages (from notebook>=4.4.1->widgetsnbextension~=3.6.0->ipywidgets>=7.6.5->pycaret) (7.16.6)\n",
            "Requirement already satisfied: Send2Trash>=1.8.0 in /usr/local/lib/python3.11/dist-packages (from notebook>=4.4.1->widgetsnbextension~=3.6.0->ipywidgets>=7.6.5->pycaret) (1.8.3)\n",
            "Requirement already satisfied: terminado>=0.8.3 in /usr/local/lib/python3.11/dist-packages (from notebook>=4.4.1->widgetsnbextension~=3.6.0->ipywidgets>=7.6.5->pycaret) (0.18.1)\n",
            "Requirement already satisfied: prometheus-client in /usr/local/lib/python3.11/dist-packages (from notebook>=4.4.1->widgetsnbextension~=3.6.0->ipywidgets>=7.6.5->pycaret) (0.21.1)\n",
            "Requirement already satisfied: nbclassic>=0.4.7 in /usr/local/lib/python3.11/dist-packages (from notebook>=4.4.1->widgetsnbextension~=3.6.0->ipywidgets>=7.6.5->pycaret) (1.2.0)\n",
            "Requirement already satisfied: notebook-shim>=0.2.3 in /usr/local/lib/python3.11/dist-packages (from nbclassic>=0.4.7->notebook>=4.4.1->widgetsnbextension~=3.6.0->ipywidgets>=7.6.5->pycaret) (0.2.4)\n",
            "Requirement already satisfied: beautifulsoup4 in /usr/local/lib/python3.11/dist-packages (from nbconvert>=5->notebook>=4.4.1->widgetsnbextension~=3.6.0->ipywidgets>=7.6.5->pycaret) (4.13.3)\n",
            "Requirement already satisfied: bleach!=5.0.0 in /usr/local/lib/python3.11/dist-packages (from bleach[css]!=5.0.0->nbconvert>=5->notebook>=4.4.1->widgetsnbextension~=3.6.0->ipywidgets>=7.6.5->pycaret) (6.2.0)\n",
            "Requirement already satisfied: defusedxml in /usr/local/lib/python3.11/dist-packages (from nbconvert>=5->notebook>=4.4.1->widgetsnbextension~=3.6.0->ipywidgets>=7.6.5->pycaret) (0.7.1)\n",
            "Requirement already satisfied: jupyterlab-pygments in /usr/local/lib/python3.11/dist-packages (from nbconvert>=5->notebook>=4.4.1->widgetsnbextension~=3.6.0->ipywidgets>=7.6.5->pycaret) (0.3.0)\n",
            "Requirement already satisfied: mistune<4,>=2.0.3 in /usr/local/lib/python3.11/dist-packages (from nbconvert>=5->notebook>=4.4.1->widgetsnbextension~=3.6.0->ipywidgets>=7.6.5->pycaret) (3.1.3)\n",
            "Requirement already satisfied: nbclient>=0.5.0 in /usr/local/lib/python3.11/dist-packages (from nbconvert>=5->notebook>=4.4.1->widgetsnbextension~=3.6.0->ipywidgets>=7.6.5->pycaret) (0.10.2)\n",
            "Requirement already satisfied: pandocfilters>=1.4.1 in /usr/local/lib/python3.11/dist-packages (from nbconvert>=5->notebook>=4.4.1->widgetsnbextension~=3.6.0->ipywidgets>=7.6.5->pycaret) (1.5.1)\n",
            "Requirement already satisfied: argon2-cffi-bindings in /usr/local/lib/python3.11/dist-packages (from argon2-cffi->notebook>=4.4.1->widgetsnbextension~=3.6.0->ipywidgets>=7.6.5->pycaret) (21.2.0)\n",
            "Requirement already satisfied: webencodings in /usr/local/lib/python3.11/dist-packages (from bleach!=5.0.0->bleach[css]!=5.0.0->nbconvert>=5->notebook>=4.4.1->widgetsnbextension~=3.6.0->ipywidgets>=7.6.5->pycaret) (0.5.1)\n",
            "Requirement already satisfied: tinycss2<1.5,>=1.1.0 in /usr/local/lib/python3.11/dist-packages (from bleach[css]!=5.0.0->nbconvert>=5->notebook>=4.4.1->widgetsnbextension~=3.6.0->ipywidgets>=7.6.5->pycaret) (1.4.0)\n",
            "Requirement already satisfied: jupyter-server<3,>=1.8 in /usr/local/lib/python3.11/dist-packages (from notebook-shim>=0.2.3->nbclassic>=0.4.7->notebook>=4.4.1->widgetsnbextension~=3.6.0->ipywidgets>=7.6.5->pycaret) (1.16.0)\n",
            "Requirement already satisfied: cffi>=1.0.1 in /usr/local/lib/python3.11/dist-packages (from argon2-cffi-bindings->argon2-cffi->notebook>=4.4.1->widgetsnbextension~=3.6.0->ipywidgets>=7.6.5->pycaret) (1.17.1)\n",
            "Requirement already satisfied: soupsieve>1.2 in /usr/local/lib/python3.11/dist-packages (from beautifulsoup4->nbconvert>=5->notebook>=4.4.1->widgetsnbextension~=3.6.0->ipywidgets>=7.6.5->pycaret) (2.6)\n",
            "Requirement already satisfied: pycparser in /usr/local/lib/python3.11/dist-packages (from cffi>=1.0.1->argon2-cffi-bindings->argon2-cffi->notebook>=4.4.1->widgetsnbextension~=3.6.0->ipywidgets>=7.6.5->pycaret) (2.22)\n",
            "Requirement already satisfied: anyio>=3.1.0 in /usr/local/lib/python3.11/dist-packages (from jupyter-server<3,>=1.8->notebook-shim>=0.2.3->nbclassic>=0.4.7->notebook>=4.4.1->widgetsnbextension~=3.6.0->ipywidgets>=7.6.5->pycaret) (4.9.0)\n",
            "Requirement already satisfied: websocket-client in /usr/local/lib/python3.11/dist-packages (from jupyter-server<3,>=1.8->notebook-shim>=0.2.3->nbclassic>=0.4.7->notebook>=4.4.1->widgetsnbextension~=3.6.0->ipywidgets>=7.6.5->pycaret) (1.8.0)\n",
            "Requirement already satisfied: sniffio>=1.1 in /usr/local/lib/python3.11/dist-packages (from anyio>=3.1.0->jupyter-server<3,>=1.8->notebook-shim>=0.2.3->nbclassic>=0.4.7->notebook>=4.4.1->widgetsnbextension~=3.6.0->ipywidgets>=7.6.5->pycaret) (1.3.1)\n"
          ]
        }
      ]
    },
    {
      "cell_type": "code",
      "source": [
        "# Configurações do Pandas e Warnings\n",
        "pd.set_option('display.max_columns', None) # Mostrar todas as colunas\n",
        "warnings.filterwarnings(\"ignore\") # Ignorar avisos"
      ],
      "metadata": {
        "id": "I-3Kvf-MY6nY"
      },
      "execution_count": null,
      "outputs": []
    },
    {
      "cell_type": "markdown",
      "source": [
        "# Etapa 1: Carregamento dos Dados"
      ],
      "metadata": {
        "id": "trudm0xJXpqm"
      }
    },
    {
      "cell_type": "code",
      "source": [
        "print(\"=\"*30)\n",
        "print(\"ETAPA 1: CARREGAMENTO DOS DADOS\")\n",
        "print(\"=\"*30)\n",
        "print(\"Carregando dados...\")"
      ],
      "metadata": {
        "colab": {
          "base_uri": "https://localhost:8080/"
        },
        "id": "bhOO_GfBXn2h",
        "outputId": "1a5739ab-add9-462e-c650-cba8f3aa8b49"
      },
      "execution_count": null,
      "outputs": [
        {
          "output_type": "stream",
          "name": "stdout",
          "text": [
            "==============================\n",
            "ETAPA 1: CARREGAMENTO DOS DADOS\n",
            "==============================\n",
            "Carregando dados...\n"
          ]
        }
      ]
    },
    {
      "cell_type": "code",
      "source": [
        "# Tentar carregar os arquivos CSV\n",
        "# Presume-se que os arquivos estão no mesmo diretório do notebook ou foram carregados no Colab\n",
        "try:\n",
        "    df_treino_completo = pd.read_csv('data (2).csv', encoding='utf-8')\n",
        "    df_teste_final = pd.read_csv('Xtest.csv', encoding='utf-8') # Dados para previsão final (sem a coluna alvo)\n",
        "    print(\"Dados carregados com sucesso.\")\n",
        "    print(\"Shape Dados de Treino:\", df_treino_completo.shape)\n",
        "    print(\"Shape Dados de Teste Final (Xtest.csv):\", df_teste_final.shape)\n",
        "except FileNotFoundError:\n",
        "    print(\"\\nErro: Arquivo(s) CSV não encontrado(s).\")\n",
        "    print(\"Certifique-se de que 'data (2).csv' e 'Xtest.csv' estão no ambiente do Colab.\")\n",
        "    print(\"Você pode carregá-los usando o painel 'Arquivos' à esquerda.\")\n",
        "    # Interromper a execução se os arquivos não forem encontrados\n",
        "    exit()"
      ],
      "metadata": {
        "colab": {
          "base_uri": "https://localhost:8080/"
        },
        "id": "8fDHpULhX2Qy",
        "outputId": "c3998bb6-52f9-4f20-9f65-49aa0262d905"
      },
      "execution_count": null,
      "outputs": [
        {
          "output_type": "stream",
          "name": "stdout",
          "text": [
            "Dados carregados com sucesso.\n",
            "Shape Dados de Treino: (2240, 29)\n",
            "Shape Dados de Teste Final (Xtest.csv): (110, 25)\n"
          ]
        }
      ]
    },
    {
      "cell_type": "code",
      "source": [
        "# Exibir as primeiras linhas dos dados de treino\n",
        "print(\"\\nCabeçalho dos Dados de Treino:\")\n",
        "print(df_treino_completo.head())\n",
        "print(\"\\n\" + \"=\"*60 + \"\\n\")"
      ],
      "metadata": {
        "colab": {
          "base_uri": "https://localhost:8080/"
        },
        "id": "YYFWtWKbX8nJ",
        "outputId": "4757c4b5-03b5-422b-ce1c-21e3afe76d4c"
      },
      "execution_count": null,
      "outputs": [
        {
          "output_type": "stream",
          "name": "stdout",
          "text": [
            "\n",
            "Cabeçalho dos Dados de Treino:\n",
            "     ID  Year_Birth   Education Marital_Status   Income  Kidhome  Teenhome  \\\n",
            "0  5524        1957  Graduation         Single  58138.0        0         0   \n",
            "1  2174        1954  Graduation         Single  46344.0        1         1   \n",
            "2  4141        1965  Graduation       Together  71613.0        0         0   \n",
            "3  6182        1984  Graduation       Together  26646.0        1         0   \n",
            "4  5324        1981         PhD        Married  58293.0        1         0   \n",
            "\n",
            "  Dt_Customer  Recency  MntWines  MntFruits  MntMeatProducts  MntFishProducts  \\\n",
            "0  2012-09-04       58       635         88              546              172   \n",
            "1  2014-03-08       38        11          1                6                2   \n",
            "2  2013-08-21       26       426         49              127              111   \n",
            "3  2014-02-10       26        11          4               20               10   \n",
            "4  2014-01-19       94       173         43              118               46   \n",
            "\n",
            "   MntSweetProducts  MntGoldProds  NumDealsPurchases  NumWebPurchases  \\\n",
            "0                88            88                  3                8   \n",
            "1                 1             6                  2                1   \n",
            "2                21            42                  1                8   \n",
            "3                 3             5                  2                2   \n",
            "4                27            15                  5                5   \n",
            "\n",
            "   NumCatalogPurchases  NumStorePurchases  NumWebVisitsMonth  AcceptedCmp3  \\\n",
            "0                   10                  4                  7             0   \n",
            "1                    1                  2                  5             0   \n",
            "2                    2                 10                  4             0   \n",
            "3                    0                  4                  6             0   \n",
            "4                    3                  6                  5             0   \n",
            "\n",
            "   AcceptedCmp4  AcceptedCmp5  AcceptedCmp1  AcceptedCmp2  Complain  \\\n",
            "0             0             0             0             0         0   \n",
            "1             0             0             0             0         0   \n",
            "2             0             0             0             0         0   \n",
            "3             0             0             0             0         0   \n",
            "4             0             0             0             0         0   \n",
            "\n",
            "   Z_CostContact  Z_Revenue  Response  \n",
            "0              3         11         1  \n",
            "1              3         11         0  \n",
            "2              3         11         0  \n",
            "3              3         11         0  \n",
            "4              3         11         0  \n",
            "\n",
            "============================================================\n",
            "\n"
          ]
        }
      ]
    },
    {
      "cell_type": "markdown",
      "source": [
        "# Etapa 2: Limpeza e Pré-processamento dos Dados (Aplicado aos Dados de Treino)"
      ],
      "metadata": {
        "id": "0w3UUp7rX7Qn"
      }
    },
    {
      "cell_type": "code",
      "source": [
        "print(\"=\"*30)\n",
        "print(\"ETAPA 2: LIMPEZA E PRÉ-PROCESSAMENTO (DADOS DE TREINO)\")\n",
        "print(\"=\"*30)"
      ],
      "metadata": {
        "colab": {
          "base_uri": "https://localhost:8080/"
        },
        "id": "HVdTY2rbYAAC",
        "outputId": "f8dc2f6d-c314-46fd-bb46-c710964e263b"
      },
      "execution_count": null,
      "outputs": [
        {
          "output_type": "stream",
          "name": "stdout",
          "text": [
            "==============================\n",
            "ETAPA 2: LIMPEZA E PRÉ-PROCESSAMENTO (DADOS DE TREINO)\n",
            "==============================\n"
          ]
        }
      ]
    },
    {
      "cell_type": "code",
      "source": [
        "# Criar uma cópia para limpeza\n",
        "df_limpo = df_treino_completo.copy()"
      ],
      "metadata": {
        "id": "OBcofV-2YKoR"
      },
      "execution_count": null,
      "outputs": []
    },
    {
      "cell_type": "code",
      "source": [
        "# --- 2.1 Remover Colunas Irrelevantes e Constantes ---\n",
        "print(\"Removendo colunas ID, Z_CostContact, Z_Revenue...\")\n",
        "colunas_para_remover = ['ID', 'Z_CostContact', 'Z_Revenue']\n",
        "df_limpo.drop(colunas_para_remover, axis=1, inplace=True, errors='ignore')\n",
        "print(f\"Colunas removidas. Shape atual: {df_limpo.shape}\")"
      ],
      "metadata": {
        "colab": {
          "base_uri": "https://localhost:8080/"
        },
        "id": "Q4dfLy80YKfr",
        "outputId": "76b0cd00-955d-4d4c-ad5e-9fcc468dd7f5"
      },
      "execution_count": null,
      "outputs": [
        {
          "output_type": "stream",
          "name": "stdout",
          "text": [
            "Removendo colunas ID, Z_CostContact, Z_Revenue...\n",
            "Colunas removidas. Shape atual: (2240, 26)\n"
          ]
        }
      ]
    },
    {
      "cell_type": "code",
      "source": [
        "# --- 2.2 Tratar Valores Ausentes (NaN) na Coluna 'Income' ---\n",
        "print(f\"\\nLinhas iniciais: {df_limpo.shape[0]}\")\n",
        "print(f\"Número de NaNs em 'Income': {df_limpo['Income'].isna().sum()}\")\n",
        "# Estratégia: Remover linhas com NaN em 'Income', pois representam uma pequena porcentagem\n",
        "# e, com base na análise de referência, são majoritariamente de não-respondentes.\n",
        "df_limpo.dropna(subset=['Income'], axis=0, inplace=True)\n",
        "print(f\"Linhas após remover NaNs em 'Income': {df_limpo.shape[0]}\")\n",
        "print(\"NaNs tratados.\")"
      ],
      "metadata": {
        "colab": {
          "base_uri": "https://localhost:8080/"
        },
        "id": "0zrIRkSRYOVm",
        "outputId": "0e971f59-eda2-4b2a-c2f1-935e08850940"
      },
      "execution_count": null,
      "outputs": [
        {
          "output_type": "stream",
          "name": "stdout",
          "text": [
            "\n",
            "Linhas iniciais: 2240\n",
            "Número de NaNs em 'Income': 24\n",
            "Linhas após remover NaNs em 'Income': 2216\n",
            "NaNs tratados.\n"
          ]
        }
      ]
    },
    {
      "cell_type": "code",
      "source": [
        "# --- 2.3 Corrigir Inconsistências em 'Marital_Status' ---\n",
        "print(\"\\nCorrigindo valores inconsistentes em 'Marital_Status'...\")\n",
        "# Agrupar categorias raras/ambíguas em 'Single' (ou outra categoria apropriada)\n",
        "df_limpo['Marital_Status'] = df_limpo['Marital_Status'].replace({'Alone': 'Single', 'Absurd': 'Single', 'YOLO': 'Single'})\n",
        "print(\"Valores únicos de 'Marital_Status' após correção:\", df_limpo['Marital_Status'].unique())"
      ],
      "metadata": {
        "colab": {
          "base_uri": "https://localhost:8080/"
        },
        "id": "5E8fQB76YOMT",
        "outputId": "37c34496-d8c9-420b-a6c5-f1bf4eb870b7"
      },
      "execution_count": null,
      "outputs": [
        {
          "output_type": "stream",
          "name": "stdout",
          "text": [
            "\n",
            "Corrigindo valores inconsistentes em 'Marital_Status'...\n",
            "Valores únicos de 'Marital_Status' após correção: ['Single' 'Together' 'Married' 'Divorced' 'Widow']\n"
          ]
        }
      ]
    },
    {
      "cell_type": "code",
      "source": [
        "# --- 2.4 Ajustar Tipos de Dados ---\n",
        "print(\"\\nAjustando tipos de dados...\")\n",
        "df_limpo = df_limpo.convert_dtypes() # Tenta inferir os melhores tipos possíveis (Int64, string, etc.)"
      ],
      "metadata": {
        "colab": {
          "base_uri": "https://localhost:8080/"
        },
        "id": "TglPzm_qYRyA",
        "outputId": "66e78cf4-1fa3-4265-98d4-3ca140e470dc"
      },
      "execution_count": null,
      "outputs": [
        {
          "output_type": "stream",
          "name": "stdout",
          "text": [
            "\n",
            "Ajustando tipos de dados...\n"
          ]
        }
      ]
    },
    {
      "cell_type": "code",
      "source": [
        "# Ajustes específicos\n",
        "df_limpo['Dt_Customer'] = pd.to_datetime(df_limpo['Dt_Customer'])\n",
        "df_limpo['Response'] = df_limpo['Response'].astype('int') # PyCaret prefere target como int ou string\n",
        "df_limpo['Income'] = df_limpo['Income'].astype('float64') # Garantir que Income seja float para cálculos\n",
        "print(\"Tipos de dados ajustados.\")\n",
        "print(\"\\nInformações dos Dados Limpos:\")\n",
        "df_limpo.info()\n",
        "print(\"\\n\" + \"=\"*60 + \"\\n\")"
      ],
      "metadata": {
        "colab": {
          "base_uri": "https://localhost:8080/"
        },
        "id": "awbq8FpYYN23",
        "outputId": "5f48e667-03a0-4441-b400-017dd1f17d53"
      },
      "execution_count": null,
      "outputs": [
        {
          "output_type": "stream",
          "name": "stdout",
          "text": [
            "Tipos de dados ajustados.\n",
            "\n",
            "Informações dos Dados Limpos:\n",
            "<class 'pandas.core.frame.DataFrame'>\n",
            "Index: 2216 entries, 0 to 2239\n",
            "Data columns (total 26 columns):\n",
            " #   Column               Non-Null Count  Dtype         \n",
            "---  ------               --------------  -----         \n",
            " 0   Year_Birth           2216 non-null   Int64         \n",
            " 1   Education            2216 non-null   string        \n",
            " 2   Marital_Status       2216 non-null   string        \n",
            " 3   Income               2216 non-null   float64       \n",
            " 4   Kidhome              2216 non-null   Int64         \n",
            " 5   Teenhome             2216 non-null   Int64         \n",
            " 6   Dt_Customer          2216 non-null   datetime64[ns]\n",
            " 7   Recency              2216 non-null   Int64         \n",
            " 8   MntWines             2216 non-null   Int64         \n",
            " 9   MntFruits            2216 non-null   Int64         \n",
            " 10  MntMeatProducts      2216 non-null   Int64         \n",
            " 11  MntFishProducts      2216 non-null   Int64         \n",
            " 12  MntSweetProducts     2216 non-null   Int64         \n",
            " 13  MntGoldProds         2216 non-null   Int64         \n",
            " 14  NumDealsPurchases    2216 non-null   Int64         \n",
            " 15  NumWebPurchases      2216 non-null   Int64         \n",
            " 16  NumCatalogPurchases  2216 non-null   Int64         \n",
            " 17  NumStorePurchases    2216 non-null   Int64         \n",
            " 18  NumWebVisitsMonth    2216 non-null   Int64         \n",
            " 19  AcceptedCmp3         2216 non-null   Int64         \n",
            " 20  AcceptedCmp4         2216 non-null   Int64         \n",
            " 21  AcceptedCmp5         2216 non-null   Int64         \n",
            " 22  AcceptedCmp1         2216 non-null   Int64         \n",
            " 23  AcceptedCmp2         2216 non-null   Int64         \n",
            " 24  Complain             2216 non-null   Int64         \n",
            " 25  Response             2216 non-null   int64         \n",
            "dtypes: Int64(21), datetime64[ns](1), float64(1), int64(1), string(2)\n",
            "memory usage: 512.9 KB\n",
            "\n",
            "============================================================\n",
            "\n"
          ]
        }
      ]
    },
    {
      "cell_type": "markdown",
      "source": [
        "# Etapa 3: Engenharia de Atributos (Aplicada aos Dados de Treino)"
      ],
      "metadata": {
        "id": "6uDsk1q6Zzyu"
      }
    },
    {
      "cell_type": "code",
      "source": [
        "print(\"=\"*30)\n",
        "print(\"ETAPA 3: ENGENHARIA DE ATRIBUTOS (DADOS DE TREINO)\")\n",
        "print(\"=\"*30)"
      ],
      "metadata": {
        "colab": {
          "base_uri": "https://localhost:8080/"
        },
        "id": "3--UbI76aRDe",
        "outputId": "9209d125-6f7d-4f86-8c6d-5cfd511f848a"
      },
      "execution_count": null,
      "outputs": [
        {
          "output_type": "stream",
          "name": "stdout",
          "text": [
            "==============================\n",
            "ETAPA 3: ENGENHARIA DE ATRIBUTOS (DADOS DE TREINO)\n",
            "==============================\n"
          ]
        }
      ]
    },
    {
      "cell_type": "code",
      "source": [
        "# Criar uma cópia para engenharia de atributos\n",
        "df_eng = df_limpo.copy()"
      ],
      "metadata": {
        "id": "Fbas1B3nb1cl"
      },
      "execution_count": null,
      "outputs": []
    },
    {
      "cell_type": "code",
      "source": [
        "# --- 3.1 Calcular Idade ---\n",
        "print(\"Calculando 'Age' a partir de 'Year_Birth'...\")\n",
        "ano_atual = datetime.now().year\n",
        "df_eng['Age'] = ano_atual - df_eng['Year_Birth']\n",
        "# Remover coluna original\n",
        "df_eng.drop('Year_Birth', axis=1, inplace=True, errors='ignore')\n",
        "print(\"'Age' calculada, 'Year_Birth' removida.\")"
      ],
      "metadata": {
        "colab": {
          "base_uri": "https://localhost:8080/"
        },
        "id": "d3AgED-jb1TY",
        "outputId": "0e0f7610-7bde-4651-fa89-a1eaf28cbb7a"
      },
      "execution_count": null,
      "outputs": [
        {
          "output_type": "stream",
          "name": "stdout",
          "text": [
            "Calculando 'Age' a partir de 'Year_Birth'...\n",
            "'Age' calculada, 'Year_Birth' removida.\n"
          ]
        }
      ]
    },
    {
      "cell_type": "code",
      "source": [
        "# --- 3.2 Calcular Tempo como Cliente (em anos) ---\n",
        "# Usar a data máxima do dataset como referência para reprodutibilidade\n",
        "print(\"\\nCalculando 'Time_Customer' (em anos) a partir de 'Dt_Customer'...\")\n",
        "data_maxima = df_eng['Dt_Customer'].max()\n",
        "df_eng['Time_Customer'] = (data_maxima - df_eng['Dt_Customer']).dt.days / 365.25\n",
        "# Remover coluna original\n",
        "df_eng.drop('Dt_Customer', axis=1, inplace=True, errors='ignore')\n",
        "print(\"'Time_Customer' calculado, 'Dt_Customer' removida.\")"
      ],
      "metadata": {
        "colab": {
          "base_uri": "https://localhost:8080/"
        },
        "id": "IwUYl-2zb5ai",
        "outputId": "b6533c74-9bb4-4430-bc39-388591c1e5a2"
      },
      "execution_count": null,
      "outputs": [
        {
          "output_type": "stream",
          "name": "stdout",
          "text": [
            "\n",
            "Calculando 'Time_Customer' (em anos) a partir de 'Dt_Customer'...\n",
            "'Time_Customer' calculado, 'Dt_Customer' removida.\n"
          ]
        }
      ]
    },
    {
      "cell_type": "code",
      "source": [
        "# --- 3.3 Criar Novas Features ---\n",
        "print(\"\\nCriando novas features...\")\n",
        "# Total de filhos/adolescentes em casa\n",
        "df_eng['Children_Total'] = df_eng['Kidhome'] + df_eng['Teenhome']\n",
        "print(\"- Feature 'Children_Total' criada.\")"
      ],
      "metadata": {
        "colab": {
          "base_uri": "https://localhost:8080/"
        },
        "id": "bwFt9VEOb5BQ",
        "outputId": "c5aa87c4-f6c8-422b-e1cf-a511325a888a"
      },
      "execution_count": null,
      "outputs": [
        {
          "output_type": "stream",
          "name": "stdout",
          "text": [
            "\n",
            "Criando novas features...\n",
            "- Feature 'Children_Total' criada.\n"
          ]
        }
      ]
    },
    {
      "cell_type": "code",
      "source": [
        "# Gasto total em produtos\n",
        "colunas_mnt = [col for col in df_eng.columns if 'Mnt' in col]\n",
        "df_eng['Total_Spending'] = df_eng[colunas_mnt].sum(axis=1)\n",
        "print(\"- Feature 'Total_Spending' criada.\")"
      ],
      "metadata": {
        "colab": {
          "base_uri": "https://localhost:8080/"
        },
        "id": "1vWtH8Irb8iV",
        "outputId": "30c92d5f-05dd-4f6e-c355-620070c557a6"
      },
      "execution_count": null,
      "outputs": [
        {
          "output_type": "stream",
          "name": "stdout",
          "text": [
            "- Feature 'Total_Spending' criada.\n"
          ]
        }
      ]
    },
    {
      "cell_type": "code",
      "source": [
        "# Total de compras realizadas\n",
        "colunas_purch = [col for col in df_eng.columns if 'Purchases' in col]\n",
        "df_eng['Total_Purchases'] = df_eng[colunas_purch].sum(axis=1)\n",
        "print(\"- Feature 'Total_Purchases' criada.\")"
      ],
      "metadata": {
        "colab": {
          "base_uri": "https://localhost:8080/"
        },
        "id": "atT--Ttvb8Wl",
        "outputId": "b1c7813b-69a7-498a-fca6-4b6707267aa6"
      },
      "execution_count": null,
      "outputs": [
        {
          "output_type": "stream",
          "name": "stdout",
          "text": [
            "- Feature 'Total_Purchases' criada.\n"
          ]
        }
      ]
    },
    {
      "cell_type": "code",
      "source": [
        "# Proporção de aceitação de campanhas anteriores (útil se houver muitas campanhas)\n",
        "# Exemplo: Soma das AcceptedCmp1 a AcceptedCmp5\n",
        "cmp_cols = ['AcceptedCmp1', 'AcceptedCmp2', 'AcceptedCmp3', 'AcceptedCmp4', 'AcceptedCmp5']\n",
        "df_eng['Total_Acc_Cmp'] = df_eng[cmp_cols].sum(axis=1)\n",
        "print(\"- Feature 'Total_Acc_Cmp' criada.\")"
      ],
      "metadata": {
        "colab": {
          "base_uri": "https://localhost:8080/"
        },
        "id": "Ume1g8Y0b8PS",
        "outputId": "a5f70872-f56c-4464-ff10-4df70afa5513"
      },
      "execution_count": null,
      "outputs": [
        {
          "output_type": "stream",
          "name": "stdout",
          "text": [
            "- Feature 'Total_Acc_Cmp' criada.\n"
          ]
        }
      ]
    },
    {
      "cell_type": "code",
      "source": [
        "# Renda per capita (considerando status marital para estimar tamanho da família - simplificado)\n",
        "# Mapeamento simplificado: Single/Divorced/Widow -> 1; Together/Married -> 2\n",
        "# Poderia ser mais complexo considerando filhos, mas vamos manter simples\n",
        "def family_size_approx(status):\n",
        "    if status in ['Single', 'Divorced', 'Widow']:\n",
        "        return 1\n",
        "    else: # Together, Married\n",
        "        return 2\n",
        "\n",
        "df_eng['Family_Size_Approx'] = df_eng['Marital_Status'].apply(family_size_approx)\n",
        "df_eng['Income_Per_Capita'] = df_eng['Income'] / (df_eng['Family_Size_Approx'] + df_eng['Children_Total'])\n",
        "df_eng['Income_Per_Capita'].replace([np.inf, -np.inf], 0, inplace=True) # Tratar divisão por zero se não houver ninguém na casa\n",
        "df_eng['Income_Per_Capita'].fillna(0, inplace=True) # Tratar NaNs restantes\n",
        "df_eng.drop('Family_Size_Approx', axis=1, inplace=True) # Remover coluna auxiliar\n",
        "print(\"- Feature 'Income_Per_Capita' criada.\")"
      ],
      "metadata": {
        "colab": {
          "base_uri": "https://localhost:8080/"
        },
        "id": "_rSDHDC2cIas",
        "outputId": "b53aab59-4195-43ff-b5f6-1d5b5ca22303"
      },
      "execution_count": null,
      "outputs": [
        {
          "output_type": "stream",
          "name": "stdout",
          "text": [
            "- Feature 'Income_Per_Capita' criada.\n"
          ]
        }
      ]
    },
    {
      "cell_type": "code",
      "source": [
        "# Reordenar colunas (foi opcional, coloca o alvo 'Response' no final)\n",
        "colunas_principais = [col for col in df_eng.columns if col != 'Response']\n",
        "df_final_features = df_eng[colunas_principais + ['Response']]"
      ],
      "metadata": {
        "id": "EY1lbpbXcIS-"
      },
      "execution_count": null,
      "outputs": []
    },
    {
      "cell_type": "code",
      "source": [
        "print(\"\\nNovas features criadas com sucesso.\")\n",
        "print(\"\\nCabeçalho dos Dados com Novas Features:\")\n",
        "print(df_final_features.head())\n",
        "print(\"Shape dos Dados com Novas Features:\", df_final_features.shape)\n",
        "print(\"\\n\" + \"=\"*60 + \"\\n\")"
      ],
      "metadata": {
        "colab": {
          "base_uri": "https://localhost:8080/"
        },
        "id": "AEj9Sj2GcRdK",
        "outputId": "54139897-1396-40d8-fb14-d0a11b2b7859"
      },
      "execution_count": null,
      "outputs": [
        {
          "output_type": "stream",
          "name": "stdout",
          "text": [
            "\n",
            "Novas features criadas com sucesso.\n",
            "\n",
            "Cabeçalho dos Dados com Novas Features:\n",
            "    Education Marital_Status   Income  Kidhome  Teenhome  Recency  MntWines  \\\n",
            "0  Graduation         Single  58138.0        0         0       58       635   \n",
            "1  Graduation         Single  46344.0        1         1       38        11   \n",
            "2  Graduation       Together  71613.0        0         0       26       426   \n",
            "3  Graduation       Together  26646.0        1         0       26        11   \n",
            "4         PhD        Married  58293.0        1         0       94       173   \n",
            "\n",
            "   MntFruits  MntMeatProducts  MntFishProducts  MntSweetProducts  \\\n",
            "0         88              546              172                88   \n",
            "1          1                6                2                 1   \n",
            "2         49              127              111                21   \n",
            "3          4               20               10                 3   \n",
            "4         43              118               46                27   \n",
            "\n",
            "   MntGoldProds  NumDealsPurchases  NumWebPurchases  NumCatalogPurchases  \\\n",
            "0            88                  3                8                   10   \n",
            "1             6                  2                1                    1   \n",
            "2            42                  1                8                    2   \n",
            "3             5                  2                2                    0   \n",
            "4            15                  5                5                    3   \n",
            "\n",
            "   NumStorePurchases  NumWebVisitsMonth  AcceptedCmp3  AcceptedCmp4  \\\n",
            "0                  4                  7             0             0   \n",
            "1                  2                  5             0             0   \n",
            "2                 10                  4             0             0   \n",
            "3                  4                  6             0             0   \n",
            "4                  6                  5             0             0   \n",
            "\n",
            "   AcceptedCmp5  AcceptedCmp1  AcceptedCmp2  Complain  Age  Time_Customer  \\\n",
            "0             0             0             0         0   68       1.815195   \n",
            "1             0             0             0         0   71       0.309377   \n",
            "2             0             0             0         0   60       0.854209   \n",
            "3             0             0             0         0   41       0.380561   \n",
            "4             0             0             0         0   44       0.440794   \n",
            "\n",
            "   Children_Total  Total_Spending  Total_Purchases  Total_Acc_Cmp  \\\n",
            "0               0            1617               25              0   \n",
            "1               2              27                6              0   \n",
            "2               0             776               21              0   \n",
            "3               1              53                8              0   \n",
            "4               1             422               19              0   \n",
            "\n",
            "   Income_Per_Capita  Response  \n",
            "0            58138.0         1  \n",
            "1            15448.0         0  \n",
            "2            35806.5         0  \n",
            "3             8882.0         0  \n",
            "4            19431.0         0  \n",
            "Shape dos Dados com Novas Features: (2216, 31)\n",
            "\n",
            "============================================================\n",
            "\n"
          ]
        }
      ]
    },
    {
      "cell_type": "markdown",
      "source": [
        "# Etapa 4: Divisão Treino/Validação"
      ],
      "metadata": {
        "id": "QvHO68E6dIA4"
      }
    },
    {
      "cell_type": "code",
      "source": [
        "print(\"=\"*30)\n",
        "print(\"ETAPA 4: DIVISÃO TREINO/VALIDAÇÃO\")\n",
        "print(\"=\"*30)"
      ],
      "metadata": {
        "colab": {
          "base_uri": "https://localhost:8080/"
        },
        "id": "RsRB_bGwdEQc",
        "outputId": "e110dc51-c477-41f2-f3b2-2564d27d65d1"
      },
      "execution_count": null,
      "outputs": [
        {
          "output_type": "stream",
          "name": "stdout",
          "text": [
            "==============================\n",
            "ETAPA 4: DIVISÃO TREINO/VALIDAÇÃO\n",
            "==============================\n"
          ]
        }
      ]
    },
    {
      "cell_type": "code",
      "source": [
        "# Dividir os dados em treino (95%) e validação (5%) para avaliar o modelo final\n",
        "# O conjunto de validação (df_validacao) não será visto durante o treinamento e tuning\n",
        "df_treino = df_final_features.sample(frac=0.95, random_state=123)\n",
        "df_validacao = df_final_features.drop(df_treino.index)"
      ],
      "metadata": {
        "id": "IMf8f57hdNSO"
      },
      "execution_count": null,
      "outputs": []
    },
    {
      "cell_type": "code",
      "source": [
        "# Resetar os índices\n",
        "df_treino.reset_index(inplace=True, drop=True)\n",
        "df_validacao.reset_index(inplace=True, drop=True)"
      ],
      "metadata": {
        "id": "gD-um_j3dNM9"
      },
      "execution_count": null,
      "outputs": []
    },
    {
      "cell_type": "code",
      "source": [
        "print(f'Dados para Modelagem (Treino): {df_treino.shape}')\n",
        "print(f'Dados Não Vistos para Predição (Validação): {df_validacao.shape}')\n",
        "print(\"\\n\" + \"=\"*60 + \"\\n\")"
      ],
      "metadata": {
        "colab": {
          "base_uri": "https://localhost:8080/"
        },
        "id": "H-QfGVr-dNEY",
        "outputId": "1804ee16-ddcc-48d0-a9c3-21f006d615b9"
      },
      "execution_count": null,
      "outputs": [
        {
          "output_type": "stream",
          "name": "stdout",
          "text": [
            "Dados para Modelagem (Treino): (2105, 31)\n",
            "Dados Não Vistos para Predição (Validação): (111, 31)\n",
            "\n",
            "============================================================\n",
            "\n"
          ]
        }
      ]
    },
    {
      "cell_type": "markdown",
      "source": [
        "# Etapa 5: Configuração do PyCaret"
      ],
      "metadata": {
        "id": "3y1ySM12dVuL"
      }
    },
    {
      "cell_type": "code",
      "source": [
        "print(\"=\"*30)\n",
        "print(\"ETAPA 5: CONFIGURAÇÃO DO PYCARET\")\n",
        "print(\"=\"*30)"
      ],
      "metadata": {
        "colab": {
          "base_uri": "https://localhost:8080/"
        },
        "id": "xuFMRwA6dY2Y",
        "outputId": "4f6bfdc3-b10e-40f5-dd46-74752292acda"
      },
      "execution_count": null,
      "outputs": [
        {
          "output_type": "stream",
          "name": "stdout",
          "text": [
            "==============================\n",
            "ETAPA 5: CONFIGURAÇÃO DO PYCARET\n",
            "==============================\n"
          ]
        }
      ]
    },
    {
      "cell_type": "code",
      "source": [
        "# Definir explicitamente as features categóricas e numéricas\n",
        "# (PyCaret pode inferir, mas é boa prática definir para evitar erros)\n",
        "features_categoricas = ['Education', 'Marital_Status']\n",
        "features_numericas = [col for col in df_treino.columns if df_treino[col].dtype in ['int64', 'float64', 'Int64', 'Float64'] and col not in features_categoricas + ['Response']]"
      ],
      "metadata": {
        "id": "Zbrqe9XYdb69"
      },
      "execution_count": null,
      "outputs": []
    },
    {
      "cell_type": "code",
      "source": [
        "print(\"Iniciando setup do PyCaret...\")\n",
        "# Configurar o ambiente do PyCaret para classificação\n",
        "# Usaremos df_treino para treinar e comparar modelos\n",
        "clf_setup = setup(\n",
        "    data=df_treino,                 # Dados de treino (95% do original)\n",
        "    target='Response',              # Coluna alvo\n",
        "    session_id=123,                 # Para reprodutibilidade\n",
        "    fix_imbalance=True,             # Lidar com desbalanceamento de classe (usando SMOTE por padrão)\n",
        "    remove_outliers=True,           # Remover outliers (usando Isolation Forest por padrão)\n",
        "    outliers_threshold=0.05,        # Limiar padrão para outliers\n",
        "    normalize=True,                 # Normalizar features numéricas\n",
        "    normalize_method='zscore',      # Método de normalização Z-score\n",
        "    categorical_features=features_categoricas, # Features categóricas definidas\n",
        "    numeric_features=features_numericas,       # Features numéricas definidas\n",
        "    preprocess=True,                # Habilitar pré-processamento automático do PyCaret\n",
        "                                    # (inclui imputação, one-hot encoding, etc.)\n",
        "    # fold_strategy='stratifiedkfold', # Estratégia de validação cruzada (padrão para classificação)\n",
        "    # fold=10,                       # Número de folds (padrão)\n",
        "    verbose=True                   # Mostrar detalhes do setup\n",
        ")\n",
        "print(\"\\nSetup do PyCaret concluído.\")\n",
        "print(\"\\n\" + \"=\"*60 + \"\\n\")"
      ],
      "metadata": {
        "colab": {
          "base_uri": "https://localhost:8080/",
          "height": 1000
        },
        "id": "y0XT5qCFdb2y",
        "outputId": "ea65324a-472e-45d4-9a94-353cc1de1030"
      },
      "execution_count": null,
      "outputs": [
        {
          "output_type": "stream",
          "name": "stdout",
          "text": [
            "Iniciando setup do PyCaret...\n"
          ]
        },
        {
          "output_type": "display_data",
          "data": {
            "text/plain": [
              "<pandas.io.formats.style.Styler at 0x7ca1437a3d10>"
            ],
            "text/html": [
              "<style type=\"text/css\">\n",
              "#T_283b8_row9_col1, #T_283b8_row15_col1, #T_283b8_row17_col1, #T_283b8_row19_col1 {\n",
              "  background-color: lightgreen;\n",
              "}\n",
              "</style>\n",
              "<table id=\"T_283b8\" class=\"dataframe\">\n",
              "  <thead>\n",
              "    <tr>\n",
              "      <th class=\"blank level0\" >&nbsp;</th>\n",
              "      <th id=\"T_283b8_level0_col0\" class=\"col_heading level0 col0\" >Description</th>\n",
              "      <th id=\"T_283b8_level0_col1\" class=\"col_heading level0 col1\" >Value</th>\n",
              "    </tr>\n",
              "  </thead>\n",
              "  <tbody>\n",
              "    <tr>\n",
              "      <th id=\"T_283b8_level0_row0\" class=\"row_heading level0 row0\" >0</th>\n",
              "      <td id=\"T_283b8_row0_col0\" class=\"data row0 col0\" >Session id</td>\n",
              "      <td id=\"T_283b8_row0_col1\" class=\"data row0 col1\" >123</td>\n",
              "    </tr>\n",
              "    <tr>\n",
              "      <th id=\"T_283b8_level0_row1\" class=\"row_heading level0 row1\" >1</th>\n",
              "      <td id=\"T_283b8_row1_col0\" class=\"data row1 col0\" >Target</td>\n",
              "      <td id=\"T_283b8_row1_col1\" class=\"data row1 col1\" >Response</td>\n",
              "    </tr>\n",
              "    <tr>\n",
              "      <th id=\"T_283b8_level0_row2\" class=\"row_heading level0 row2\" >2</th>\n",
              "      <td id=\"T_283b8_row2_col0\" class=\"data row2 col0\" >Target type</td>\n",
              "      <td id=\"T_283b8_row2_col1\" class=\"data row2 col1\" >Binary</td>\n",
              "    </tr>\n",
              "    <tr>\n",
              "      <th id=\"T_283b8_level0_row3\" class=\"row_heading level0 row3\" >3</th>\n",
              "      <td id=\"T_283b8_row3_col0\" class=\"data row3 col0\" >Original data shape</td>\n",
              "      <td id=\"T_283b8_row3_col1\" class=\"data row3 col1\" >(2105, 31)</td>\n",
              "    </tr>\n",
              "    <tr>\n",
              "      <th id=\"T_283b8_level0_row4\" class=\"row_heading level0 row4\" >4</th>\n",
              "      <td id=\"T_283b8_row4_col0\" class=\"data row4 col0\" >Transformed data shape</td>\n",
              "      <td id=\"T_283b8_row4_col1\" class=\"data row4 col1\" >(3086, 39)</td>\n",
              "    </tr>\n",
              "    <tr>\n",
              "      <th id=\"T_283b8_level0_row5\" class=\"row_heading level0 row5\" >5</th>\n",
              "      <td id=\"T_283b8_row5_col0\" class=\"data row5 col0\" >Transformed train set shape</td>\n",
              "      <td id=\"T_283b8_row5_col1\" class=\"data row5 col1\" >(2454, 39)</td>\n",
              "    </tr>\n",
              "    <tr>\n",
              "      <th id=\"T_283b8_level0_row6\" class=\"row_heading level0 row6\" >6</th>\n",
              "      <td id=\"T_283b8_row6_col0\" class=\"data row6 col0\" >Transformed test set shape</td>\n",
              "      <td id=\"T_283b8_row6_col1\" class=\"data row6 col1\" >(632, 39)</td>\n",
              "    </tr>\n",
              "    <tr>\n",
              "      <th id=\"T_283b8_level0_row7\" class=\"row_heading level0 row7\" >7</th>\n",
              "      <td id=\"T_283b8_row7_col0\" class=\"data row7 col0\" >Numeric features</td>\n",
              "      <td id=\"T_283b8_row7_col1\" class=\"data row7 col1\" >28</td>\n",
              "    </tr>\n",
              "    <tr>\n",
              "      <th id=\"T_283b8_level0_row8\" class=\"row_heading level0 row8\" >8</th>\n",
              "      <td id=\"T_283b8_row8_col0\" class=\"data row8 col0\" >Categorical features</td>\n",
              "      <td id=\"T_283b8_row8_col1\" class=\"data row8 col1\" >2</td>\n",
              "    </tr>\n",
              "    <tr>\n",
              "      <th id=\"T_283b8_level0_row9\" class=\"row_heading level0 row9\" >9</th>\n",
              "      <td id=\"T_283b8_row9_col0\" class=\"data row9 col0\" >Preprocess</td>\n",
              "      <td id=\"T_283b8_row9_col1\" class=\"data row9 col1\" >True</td>\n",
              "    </tr>\n",
              "    <tr>\n",
              "      <th id=\"T_283b8_level0_row10\" class=\"row_heading level0 row10\" >10</th>\n",
              "      <td id=\"T_283b8_row10_col0\" class=\"data row10 col0\" >Imputation type</td>\n",
              "      <td id=\"T_283b8_row10_col1\" class=\"data row10 col1\" >simple</td>\n",
              "    </tr>\n",
              "    <tr>\n",
              "      <th id=\"T_283b8_level0_row11\" class=\"row_heading level0 row11\" >11</th>\n",
              "      <td id=\"T_283b8_row11_col0\" class=\"data row11 col0\" >Numeric imputation</td>\n",
              "      <td id=\"T_283b8_row11_col1\" class=\"data row11 col1\" >mean</td>\n",
              "    </tr>\n",
              "    <tr>\n",
              "      <th id=\"T_283b8_level0_row12\" class=\"row_heading level0 row12\" >12</th>\n",
              "      <td id=\"T_283b8_row12_col0\" class=\"data row12 col0\" >Categorical imputation</td>\n",
              "      <td id=\"T_283b8_row12_col1\" class=\"data row12 col1\" >mode</td>\n",
              "    </tr>\n",
              "    <tr>\n",
              "      <th id=\"T_283b8_level0_row13\" class=\"row_heading level0 row13\" >13</th>\n",
              "      <td id=\"T_283b8_row13_col0\" class=\"data row13 col0\" >Maximum one-hot encoding</td>\n",
              "      <td id=\"T_283b8_row13_col1\" class=\"data row13 col1\" >25</td>\n",
              "    </tr>\n",
              "    <tr>\n",
              "      <th id=\"T_283b8_level0_row14\" class=\"row_heading level0 row14\" >14</th>\n",
              "      <td id=\"T_283b8_row14_col0\" class=\"data row14 col0\" >Encoding method</td>\n",
              "      <td id=\"T_283b8_row14_col1\" class=\"data row14 col1\" >None</td>\n",
              "    </tr>\n",
              "    <tr>\n",
              "      <th id=\"T_283b8_level0_row15\" class=\"row_heading level0 row15\" >15</th>\n",
              "      <td id=\"T_283b8_row15_col0\" class=\"data row15 col0\" >Remove outliers</td>\n",
              "      <td id=\"T_283b8_row15_col1\" class=\"data row15 col1\" >True</td>\n",
              "    </tr>\n",
              "    <tr>\n",
              "      <th id=\"T_283b8_level0_row16\" class=\"row_heading level0 row16\" >16</th>\n",
              "      <td id=\"T_283b8_row16_col0\" class=\"data row16 col0\" >Outliers threshold</td>\n",
              "      <td id=\"T_283b8_row16_col1\" class=\"data row16 col1\" >0.050000</td>\n",
              "    </tr>\n",
              "    <tr>\n",
              "      <th id=\"T_283b8_level0_row17\" class=\"row_heading level0 row17\" >17</th>\n",
              "      <td id=\"T_283b8_row17_col0\" class=\"data row17 col0\" >Fix imbalance</td>\n",
              "      <td id=\"T_283b8_row17_col1\" class=\"data row17 col1\" >True</td>\n",
              "    </tr>\n",
              "    <tr>\n",
              "      <th id=\"T_283b8_level0_row18\" class=\"row_heading level0 row18\" >18</th>\n",
              "      <td id=\"T_283b8_row18_col0\" class=\"data row18 col0\" >Fix imbalance method</td>\n",
              "      <td id=\"T_283b8_row18_col1\" class=\"data row18 col1\" >SMOTE</td>\n",
              "    </tr>\n",
              "    <tr>\n",
              "      <th id=\"T_283b8_level0_row19\" class=\"row_heading level0 row19\" >19</th>\n",
              "      <td id=\"T_283b8_row19_col0\" class=\"data row19 col0\" >Normalize</td>\n",
              "      <td id=\"T_283b8_row19_col1\" class=\"data row19 col1\" >True</td>\n",
              "    </tr>\n",
              "    <tr>\n",
              "      <th id=\"T_283b8_level0_row20\" class=\"row_heading level0 row20\" >20</th>\n",
              "      <td id=\"T_283b8_row20_col0\" class=\"data row20 col0\" >Normalize method</td>\n",
              "      <td id=\"T_283b8_row20_col1\" class=\"data row20 col1\" >zscore</td>\n",
              "    </tr>\n",
              "    <tr>\n",
              "      <th id=\"T_283b8_level0_row21\" class=\"row_heading level0 row21\" >21</th>\n",
              "      <td id=\"T_283b8_row21_col0\" class=\"data row21 col0\" >Fold Generator</td>\n",
              "      <td id=\"T_283b8_row21_col1\" class=\"data row21 col1\" >StratifiedKFold</td>\n",
              "    </tr>\n",
              "    <tr>\n",
              "      <th id=\"T_283b8_level0_row22\" class=\"row_heading level0 row22\" >22</th>\n",
              "      <td id=\"T_283b8_row22_col0\" class=\"data row22 col0\" >Fold Number</td>\n",
              "      <td id=\"T_283b8_row22_col1\" class=\"data row22 col1\" >10</td>\n",
              "    </tr>\n",
              "    <tr>\n",
              "      <th id=\"T_283b8_level0_row23\" class=\"row_heading level0 row23\" >23</th>\n",
              "      <td id=\"T_283b8_row23_col0\" class=\"data row23 col0\" >CPU Jobs</td>\n",
              "      <td id=\"T_283b8_row23_col1\" class=\"data row23 col1\" >-1</td>\n",
              "    </tr>\n",
              "    <tr>\n",
              "      <th id=\"T_283b8_level0_row24\" class=\"row_heading level0 row24\" >24</th>\n",
              "      <td id=\"T_283b8_row24_col0\" class=\"data row24 col0\" >Use GPU</td>\n",
              "      <td id=\"T_283b8_row24_col1\" class=\"data row24 col1\" >False</td>\n",
              "    </tr>\n",
              "    <tr>\n",
              "      <th id=\"T_283b8_level0_row25\" class=\"row_heading level0 row25\" >25</th>\n",
              "      <td id=\"T_283b8_row25_col0\" class=\"data row25 col0\" >Log Experiment</td>\n",
              "      <td id=\"T_283b8_row25_col1\" class=\"data row25 col1\" >False</td>\n",
              "    </tr>\n",
              "    <tr>\n",
              "      <th id=\"T_283b8_level0_row26\" class=\"row_heading level0 row26\" >26</th>\n",
              "      <td id=\"T_283b8_row26_col0\" class=\"data row26 col0\" >Experiment Name</td>\n",
              "      <td id=\"T_283b8_row26_col1\" class=\"data row26 col1\" >clf-default-name</td>\n",
              "    </tr>\n",
              "    <tr>\n",
              "      <th id=\"T_283b8_level0_row27\" class=\"row_heading level0 row27\" >27</th>\n",
              "      <td id=\"T_283b8_row27_col0\" class=\"data row27 col0\" >USI</td>\n",
              "      <td id=\"T_283b8_row27_col1\" class=\"data row27 col1\" >05e6</td>\n",
              "    </tr>\n",
              "  </tbody>\n",
              "</table>\n"
            ]
          },
          "metadata": {}
        },
        {
          "output_type": "stream",
          "name": "stdout",
          "text": [
            "\n",
            "Setup do PyCaret concluído.\n",
            "\n",
            "============================================================\n",
            "\n"
          ]
        }
      ]
    },
    {
      "cell_type": "markdown",
      "source": [
        "# Etapa 6: Comparação de Modelos"
      ],
      "metadata": {
        "id": "bOyusukgd5Ub"
      }
    },
    {
      "cell_type": "code",
      "source": [
        "print(\"=\"*30)\n",
        "print(\"ETAPA 6: COMPARAÇÃO DE MODELOS\")\n",
        "print(\"=\"*30)"
      ],
      "metadata": {
        "colab": {
          "base_uri": "https://localhost:8080/"
        },
        "id": "BWYKcNvjdbuq",
        "outputId": "2e0f75ef-ccca-4de2-8ac2-a3ca35971a8a"
      },
      "execution_count": null,
      "outputs": [
        {
          "output_type": "stream",
          "name": "stdout",
          "text": [
            "==============================\n",
            "ETAPA 6: COMPARAÇÃO DE MODELOS\n",
            "==============================\n"
          ]
        }
      ]
    },
    {
      "cell_type": "code",
      "source": [
        "print(\"Comparando modelos com base na AUC (usando validação cruzada)...\")\n",
        "# Comparar diversos modelos usando validação cruzada e ordenar por AUC\n",
        "# Isso dará uma ideia dos modelos mais promissores para este dataset\n",
        "melhor_modelo_comparacao = compare_models(sort='AUC')\n",
        "\n",
        "print(\"\\nMelhor Modelo encontrado na comparação inicial:\")\n",
        "print(melhor_modelo_comparacao)\n",
        "print(\"\\n\" + \"=\"*60 + \"\\n\")"
      ],
      "metadata": {
        "colab": {
          "base_uri": "https://localhost:8080/",
          "height": 728,
          "referenced_widgets": [
            "f0c12a5e09dc4a5d8352cfb9cdbf6120",
            "cc2e6234dafa47fbb0e161f75d84d4b3",
            "852908bc1d844a25b18e48879fc62afa",
            "f32092652b0144aea2c84effe51b5ac3",
            "4c6c7bd3dc9c459fb5580c503d6bdd34",
            "c44d197f54084ef792a9a76d80879510",
            "066dd0e268d24889a34332ce46da937f",
            "34ffe9c12d694476ae4a0c476f80f6c1",
            "6b2516d37a45465dbb4f31ce058398aa",
            "80ca38ac20184f5fa431ae7e68b61306",
            "6e279c8ecf614aa5b54157256d7456f7"
          ]
        },
        "id": "byss-ue8eATf",
        "outputId": "4f36503c-08da-4643-b029-4c58a52b9360"
      },
      "execution_count": null,
      "outputs": [
        {
          "output_type": "stream",
          "name": "stdout",
          "text": [
            "Comparando modelos com base na AUC (usando validação cruzada)...\n"
          ]
        },
        {
          "output_type": "display_data",
          "data": {
            "text/plain": [
              "<IPython.core.display.HTML object>"
            ],
            "text/html": []
          },
          "metadata": {}
        },
        {
          "output_type": "display_data",
          "data": {
            "text/plain": [
              "<pandas.io.formats.style.Styler at 0x7c9ff56a78d0>"
            ],
            "text/html": [
              "<style type=\"text/css\">\n",
              "#T_cf9be th {\n",
              "  text-align: left;\n",
              "}\n",
              "#T_cf9be_row0_col0, #T_cf9be_row0_col3, #T_cf9be_row0_col4, #T_cf9be_row0_col5, #T_cf9be_row0_col6, #T_cf9be_row0_col7, #T_cf9be_row1_col0, #T_cf9be_row1_col1, #T_cf9be_row1_col2, #T_cf9be_row1_col4, #T_cf9be_row1_col5, #T_cf9be_row1_col6, #T_cf9be_row1_col7, #T_cf9be_row2_col0, #T_cf9be_row2_col1, #T_cf9be_row2_col2, #T_cf9be_row2_col4, #T_cf9be_row2_col5, #T_cf9be_row2_col6, #T_cf9be_row2_col7, #T_cf9be_row3_col0, #T_cf9be_row3_col1, #T_cf9be_row3_col2, #T_cf9be_row3_col4, #T_cf9be_row3_col6, #T_cf9be_row3_col7, #T_cf9be_row4_col0, #T_cf9be_row4_col1, #T_cf9be_row4_col2, #T_cf9be_row4_col3, #T_cf9be_row4_col4, #T_cf9be_row4_col5, #T_cf9be_row4_col6, #T_cf9be_row4_col7, #T_cf9be_row5_col0, #T_cf9be_row5_col1, #T_cf9be_row5_col2, #T_cf9be_row5_col3, #T_cf9be_row5_col4, #T_cf9be_row5_col5, #T_cf9be_row5_col6, #T_cf9be_row5_col7, #T_cf9be_row6_col0, #T_cf9be_row6_col1, #T_cf9be_row6_col2, #T_cf9be_row6_col3, #T_cf9be_row6_col5, #T_cf9be_row6_col6, #T_cf9be_row6_col7, #T_cf9be_row7_col0, #T_cf9be_row7_col1, #T_cf9be_row7_col2, #T_cf9be_row7_col3, #T_cf9be_row7_col4, #T_cf9be_row7_col5, #T_cf9be_row8_col0, #T_cf9be_row8_col1, #T_cf9be_row8_col2, #T_cf9be_row8_col3, #T_cf9be_row8_col4, #T_cf9be_row8_col5, #T_cf9be_row8_col6, #T_cf9be_row8_col7, #T_cf9be_row9_col0, #T_cf9be_row9_col1, #T_cf9be_row9_col2, #T_cf9be_row9_col3, #T_cf9be_row9_col4, #T_cf9be_row9_col5, #T_cf9be_row9_col6, #T_cf9be_row9_col7, #T_cf9be_row10_col0, #T_cf9be_row10_col1, #T_cf9be_row10_col2, #T_cf9be_row10_col3, #T_cf9be_row10_col4, #T_cf9be_row10_col5, #T_cf9be_row10_col6, #T_cf9be_row10_col7, #T_cf9be_row11_col0, #T_cf9be_row11_col1, #T_cf9be_row11_col2, #T_cf9be_row11_col3, #T_cf9be_row11_col4, #T_cf9be_row11_col5, #T_cf9be_row11_col6, #T_cf9be_row11_col7, #T_cf9be_row12_col0, #T_cf9be_row12_col1, #T_cf9be_row12_col2, #T_cf9be_row12_col3, #T_cf9be_row12_col4, #T_cf9be_row12_col5, #T_cf9be_row12_col6, #T_cf9be_row12_col7, #T_cf9be_row13_col0, #T_cf9be_row13_col1, #T_cf9be_row13_col2, #T_cf9be_row13_col3, #T_cf9be_row13_col4, #T_cf9be_row13_col5, #T_cf9be_row13_col6, #T_cf9be_row13_col7, #T_cf9be_row14_col0, #T_cf9be_row14_col1, #T_cf9be_row14_col2, #T_cf9be_row14_col3, #T_cf9be_row14_col4, #T_cf9be_row14_col5, #T_cf9be_row14_col6, #T_cf9be_row14_col7 {\n",
              "  text-align: left;\n",
              "}\n",
              "#T_cf9be_row0_col1, #T_cf9be_row0_col2, #T_cf9be_row1_col3, #T_cf9be_row2_col3, #T_cf9be_row3_col3, #T_cf9be_row3_col5, #T_cf9be_row6_col4, #T_cf9be_row7_col6, #T_cf9be_row7_col7 {\n",
              "  text-align: left;\n",
              "  background-color: yellow;\n",
              "}\n",
              "#T_cf9be_row0_col8, #T_cf9be_row1_col8, #T_cf9be_row2_col8, #T_cf9be_row3_col8, #T_cf9be_row4_col8, #T_cf9be_row5_col8, #T_cf9be_row6_col8, #T_cf9be_row7_col8, #T_cf9be_row8_col8, #T_cf9be_row9_col8, #T_cf9be_row10_col8, #T_cf9be_row11_col8, #T_cf9be_row12_col8, #T_cf9be_row13_col8 {\n",
              "  text-align: left;\n",
              "  background-color: lightgrey;\n",
              "}\n",
              "#T_cf9be_row14_col8 {\n",
              "  text-align: left;\n",
              "  background-color: yellow;\n",
              "  background-color: lightgrey;\n",
              "}\n",
              "</style>\n",
              "<table id=\"T_cf9be\" class=\"dataframe\">\n",
              "  <thead>\n",
              "    <tr>\n",
              "      <th class=\"blank level0\" >&nbsp;</th>\n",
              "      <th id=\"T_cf9be_level0_col0\" class=\"col_heading level0 col0\" >Model</th>\n",
              "      <th id=\"T_cf9be_level0_col1\" class=\"col_heading level0 col1\" >Accuracy</th>\n",
              "      <th id=\"T_cf9be_level0_col2\" class=\"col_heading level0 col2\" >AUC</th>\n",
              "      <th id=\"T_cf9be_level0_col3\" class=\"col_heading level0 col3\" >Recall</th>\n",
              "      <th id=\"T_cf9be_level0_col4\" class=\"col_heading level0 col4\" >Prec.</th>\n",
              "      <th id=\"T_cf9be_level0_col5\" class=\"col_heading level0 col5\" >F1</th>\n",
              "      <th id=\"T_cf9be_level0_col6\" class=\"col_heading level0 col6\" >Kappa</th>\n",
              "      <th id=\"T_cf9be_level0_col7\" class=\"col_heading level0 col7\" >MCC</th>\n",
              "      <th id=\"T_cf9be_level0_col8\" class=\"col_heading level0 col8\" >TT (Sec)</th>\n",
              "    </tr>\n",
              "  </thead>\n",
              "  <tbody>\n",
              "    <tr>\n",
              "      <th id=\"T_cf9be_level0_row0\" class=\"row_heading level0 row0\" >lightgbm</th>\n",
              "      <td id=\"T_cf9be_row0_col0\" class=\"data row0 col0\" >Light Gradient Boosting Machine</td>\n",
              "      <td id=\"T_cf9be_row0_col1\" class=\"data row0 col1\" >0.8934</td>\n",
              "      <td id=\"T_cf9be_row0_col2\" class=\"data row0 col2\" >0.9020</td>\n",
              "      <td id=\"T_cf9be_row0_col3\" class=\"data row0 col3\" >0.4757</td>\n",
              "      <td id=\"T_cf9be_row0_col4\" class=\"data row0 col4\" >0.7183</td>\n",
              "      <td id=\"T_cf9be_row0_col5\" class=\"data row0 col5\" >0.5679</td>\n",
              "      <td id=\"T_cf9be_row0_col6\" class=\"data row0 col6\" >0.5109</td>\n",
              "      <td id=\"T_cf9be_row0_col7\" class=\"data row0 col7\" >0.5271</td>\n",
              "      <td id=\"T_cf9be_row0_col8\" class=\"data row0 col8\" >1.5130</td>\n",
              "    </tr>\n",
              "    <tr>\n",
              "      <th id=\"T_cf9be_level0_row1\" class=\"row_heading level0 row1\" >ridge</th>\n",
              "      <td id=\"T_cf9be_row1_col0\" class=\"data row1 col0\" >Ridge Classifier</td>\n",
              "      <td id=\"T_cf9be_row1_col1\" class=\"data row1 col1\" >0.8120</td>\n",
              "      <td id=\"T_cf9be_row1_col2\" class=\"data row1 col2\" >0.8983</td>\n",
              "      <td id=\"T_cf9be_row1_col3\" class=\"data row1 col3\" >0.8243</td>\n",
              "      <td id=\"T_cf9be_row1_col4\" class=\"data row1 col4\" >0.4354</td>\n",
              "      <td id=\"T_cf9be_row1_col5\" class=\"data row1 col5\" >0.5683</td>\n",
              "      <td id=\"T_cf9be_row1_col6\" class=\"data row1 col6\" >0.4629</td>\n",
              "      <td id=\"T_cf9be_row1_col7\" class=\"data row1 col7\" >0.5026</td>\n",
              "      <td id=\"T_cf9be_row1_col8\" class=\"data row1 col8\" >0.2630</td>\n",
              "    </tr>\n",
              "    <tr>\n",
              "      <th id=\"T_cf9be_level0_row2\" class=\"row_heading level0 row2\" >lda</th>\n",
              "      <td id=\"T_cf9be_row2_col0\" class=\"data row2 col0\" >Linear Discriminant Analysis</td>\n",
              "      <td id=\"T_cf9be_row2_col1\" class=\"data row2 col1\" >0.8120</td>\n",
              "      <td id=\"T_cf9be_row2_col2\" class=\"data row2 col2\" >0.8982</td>\n",
              "      <td id=\"T_cf9be_row2_col3\" class=\"data row2 col3\" >0.8243</td>\n",
              "      <td id=\"T_cf9be_row2_col4\" class=\"data row2 col4\" >0.4354</td>\n",
              "      <td id=\"T_cf9be_row2_col5\" class=\"data row2 col5\" >0.5683</td>\n",
              "      <td id=\"T_cf9be_row2_col6\" class=\"data row2 col6\" >0.4629</td>\n",
              "      <td id=\"T_cf9be_row2_col7\" class=\"data row2 col7\" >0.5026</td>\n",
              "      <td id=\"T_cf9be_row2_col8\" class=\"data row2 col8\" >0.2850</td>\n",
              "    </tr>\n",
              "    <tr>\n",
              "      <th id=\"T_cf9be_level0_row3\" class=\"row_heading level0 row3\" >lr</th>\n",
              "      <td id=\"T_cf9be_row3_col0\" class=\"data row3 col0\" >Logistic Regression</td>\n",
              "      <td id=\"T_cf9be_row3_col1\" class=\"data row3 col1\" >0.8214</td>\n",
              "      <td id=\"T_cf9be_row3_col2\" class=\"data row3 col2\" >0.8950</td>\n",
              "      <td id=\"T_cf9be_row3_col3\" class=\"data row3 col3\" >0.8243</td>\n",
              "      <td id=\"T_cf9be_row3_col4\" class=\"data row3 col4\" >0.4498</td>\n",
              "      <td id=\"T_cf9be_row3_col5\" class=\"data row3 col5\" >0.5807</td>\n",
              "      <td id=\"T_cf9be_row3_col6\" class=\"data row3 col6\" >0.4798</td>\n",
              "      <td id=\"T_cf9be_row3_col7\" class=\"data row3 col7\" >0.5164</td>\n",
              "      <td id=\"T_cf9be_row3_col8\" class=\"data row3 col8\" >1.9100</td>\n",
              "    </tr>\n",
              "    <tr>\n",
              "      <th id=\"T_cf9be_level0_row4\" class=\"row_heading level0 row4\" >rf</th>\n",
              "      <td id=\"T_cf9be_row4_col0\" class=\"data row4 col0\" >Random Forest Classifier</td>\n",
              "      <td id=\"T_cf9be_row4_col1\" class=\"data row4 col1\" >0.8832</td>\n",
              "      <td id=\"T_cf9be_row4_col2\" class=\"data row4 col2\" >0.8899</td>\n",
              "      <td id=\"T_cf9be_row4_col3\" class=\"data row4 col3\" >0.3800</td>\n",
              "      <td id=\"T_cf9be_row4_col4\" class=\"data row4 col4\" >0.7139</td>\n",
              "      <td id=\"T_cf9be_row4_col5\" class=\"data row4 col5\" >0.4933</td>\n",
              "      <td id=\"T_cf9be_row4_col6\" class=\"data row4 col6\" >0.4344</td>\n",
              "      <td id=\"T_cf9be_row4_col7\" class=\"data row4 col7\" >0.4633</td>\n",
              "      <td id=\"T_cf9be_row4_col8\" class=\"data row4 col8\" >0.9110</td>\n",
              "    </tr>\n",
              "    <tr>\n",
              "      <th id=\"T_cf9be_level0_row5\" class=\"row_heading level0 row5\" >xgboost</th>\n",
              "      <td id=\"T_cf9be_row5_col0\" class=\"data row5 col0\" >Extreme Gradient Boosting</td>\n",
              "      <td id=\"T_cf9be_row5_col1\" class=\"data row5 col1\" >0.8873</td>\n",
              "      <td id=\"T_cf9be_row5_col2\" class=\"data row5 col2\" >0.8897</td>\n",
              "      <td id=\"T_cf9be_row5_col3\" class=\"data row5 col3\" >0.4621</td>\n",
              "      <td id=\"T_cf9be_row5_col4\" class=\"data row5 col4\" >0.6878</td>\n",
              "      <td id=\"T_cf9be_row5_col5\" class=\"data row5 col5\" >0.5492</td>\n",
              "      <td id=\"T_cf9be_row5_col6\" class=\"data row5 col6\" >0.4882</td>\n",
              "      <td id=\"T_cf9be_row5_col7\" class=\"data row5 col7\" >0.5026</td>\n",
              "      <td id=\"T_cf9be_row5_col8\" class=\"data row5 col8\" >0.7190</td>\n",
              "    </tr>\n",
              "    <tr>\n",
              "      <th id=\"T_cf9be_level0_row6\" class=\"row_heading level0 row6\" >et</th>\n",
              "      <td id=\"T_cf9be_row6_col0\" class=\"data row6 col0\" >Extra Trees Classifier</td>\n",
              "      <td id=\"T_cf9be_row6_col1\" class=\"data row6 col1\" >0.8894</td>\n",
              "      <td id=\"T_cf9be_row6_col2\" class=\"data row6 col2\" >0.8869</td>\n",
              "      <td id=\"T_cf9be_row6_col3\" class=\"data row6 col3\" >0.4073</td>\n",
              "      <td id=\"T_cf9be_row6_col4\" class=\"data row6 col4\" >0.7346</td>\n",
              "      <td id=\"T_cf9be_row6_col5\" class=\"data row6 col5\" >0.5184</td>\n",
              "      <td id=\"T_cf9be_row6_col6\" class=\"data row6 col6\" >0.4629</td>\n",
              "      <td id=\"T_cf9be_row6_col7\" class=\"data row6 col7\" >0.4910</td>\n",
              "      <td id=\"T_cf9be_row6_col8\" class=\"data row6 col8\" >0.5460</td>\n",
              "    </tr>\n",
              "    <tr>\n",
              "      <th id=\"T_cf9be_level0_row7\" class=\"row_heading level0 row7\" >gbc</th>\n",
              "      <td id=\"T_cf9be_row7_col0\" class=\"data row7 col0\" >Gradient Boosting Classifier</td>\n",
              "      <td id=\"T_cf9be_row7_col1\" class=\"data row7 col1\" >0.8914</td>\n",
              "      <td id=\"T_cf9be_row7_col2\" class=\"data row7 col2\" >0.8810</td>\n",
              "      <td id=\"T_cf9be_row7_col3\" class=\"data row7 col3\" >0.5069</td>\n",
              "      <td id=\"T_cf9be_row7_col4\" class=\"data row7 col4\" >0.6935</td>\n",
              "      <td id=\"T_cf9be_row7_col5\" class=\"data row7 col5\" >0.5804</td>\n",
              "      <td id=\"T_cf9be_row7_col6\" class=\"data row7 col6\" >0.5204</td>\n",
              "      <td id=\"T_cf9be_row7_col7\" class=\"data row7 col7\" >0.5315</td>\n",
              "      <td id=\"T_cf9be_row7_col8\" class=\"data row7 col8\" >1.6100</td>\n",
              "    </tr>\n",
              "    <tr>\n",
              "      <th id=\"T_cf9be_level0_row8\" class=\"row_heading level0 row8\" >svm</th>\n",
              "      <td id=\"T_cf9be_row8_col0\" class=\"data row8 col0\" >SVM - Linear Kernel</td>\n",
              "      <td id=\"T_cf9be_row8_col1\" class=\"data row8 col1\" >0.7963</td>\n",
              "      <td id=\"T_cf9be_row8_col2\" class=\"data row8 col2\" >0.8705</td>\n",
              "      <td id=\"T_cf9be_row8_col3\" class=\"data row8 col3\" >0.7789</td>\n",
              "      <td id=\"T_cf9be_row8_col4\" class=\"data row8 col4\" >0.4154</td>\n",
              "      <td id=\"T_cf9be_row8_col5\" class=\"data row8 col5\" >0.5381</td>\n",
              "      <td id=\"T_cf9be_row8_col6\" class=\"data row8 col6\" >0.4249</td>\n",
              "      <td id=\"T_cf9be_row8_col7\" class=\"data row8 col7\" >0.4614</td>\n",
              "      <td id=\"T_cf9be_row8_col8\" class=\"data row8 col8\" >0.3680</td>\n",
              "    </tr>\n",
              "    <tr>\n",
              "      <th id=\"T_cf9be_level0_row9\" class=\"row_heading level0 row9\" >ada</th>\n",
              "      <td id=\"T_cf9be_row9_col0\" class=\"data row9 col0\" >Ada Boost Classifier</td>\n",
              "      <td id=\"T_cf9be_row9_col1\" class=\"data row9 col1\" >0.8601</td>\n",
              "      <td id=\"T_cf9be_row9_col2\" class=\"data row9 col2\" >0.8385</td>\n",
              "      <td id=\"T_cf9be_row9_col3\" class=\"data row9 col3\" >0.5338</td>\n",
              "      <td id=\"T_cf9be_row9_col4\" class=\"data row9 col4\" >0.5365</td>\n",
              "      <td id=\"T_cf9be_row9_col5\" class=\"data row9 col5\" >0.5326</td>\n",
              "      <td id=\"T_cf9be_row9_col6\" class=\"data row9 col6\" >0.4507</td>\n",
              "      <td id=\"T_cf9be_row9_col7\" class=\"data row9 col7\" >0.4522</td>\n",
              "      <td id=\"T_cf9be_row9_col8\" class=\"data row9 col8\" >0.5520</td>\n",
              "    </tr>\n",
              "    <tr>\n",
              "      <th id=\"T_cf9be_level0_row10\" class=\"row_heading level0 row10\" >knn</th>\n",
              "      <td id=\"T_cf9be_row10_col0\" class=\"data row10 col0\" >K Neighbors Classifier</td>\n",
              "      <td id=\"T_cf9be_row10_col1\" class=\"data row10 col1\" >0.7719</td>\n",
              "      <td id=\"T_cf9be_row10_col2\" class=\"data row10 col2\" >0.8070</td>\n",
              "      <td id=\"T_cf9be_row10_col3\" class=\"data row10 col3\" >0.6976</td>\n",
              "      <td id=\"T_cf9be_row10_col4\" class=\"data row10 col4\" >0.3643</td>\n",
              "      <td id=\"T_cf9be_row10_col5\" class=\"data row10 col5\" >0.4777</td>\n",
              "      <td id=\"T_cf9be_row10_col6\" class=\"data row10 col6\" >0.3498</td>\n",
              "      <td id=\"T_cf9be_row10_col7\" class=\"data row10 col7\" >0.3810</td>\n",
              "      <td id=\"T_cf9be_row10_col8\" class=\"data row10 col8\" >0.7150</td>\n",
              "    </tr>\n",
              "    <tr>\n",
              "      <th id=\"T_cf9be_level0_row11\" class=\"row_heading level0 row11\" >nb</th>\n",
              "      <td id=\"T_cf9be_row11_col0\" class=\"data row11 col0\" >Naive Bayes</td>\n",
              "      <td id=\"T_cf9be_row11_col1\" class=\"data row11 col1\" >0.7120</td>\n",
              "      <td id=\"T_cf9be_row11_col2\" class=\"data row11 col2\" >0.8066</td>\n",
              "      <td id=\"T_cf9be_row11_col3\" class=\"data row11 col3\" >0.7379</td>\n",
              "      <td id=\"T_cf9be_row11_col4\" class=\"data row11 col4\" >0.3388</td>\n",
              "      <td id=\"T_cf9be_row11_col5\" class=\"data row11 col5\" >0.4564</td>\n",
              "      <td id=\"T_cf9be_row11_col6\" class=\"data row11 col6\" >0.3130</td>\n",
              "      <td id=\"T_cf9be_row11_col7\" class=\"data row11 col7\" >0.3496</td>\n",
              "      <td id=\"T_cf9be_row11_col8\" class=\"data row11 col8\" >0.5040</td>\n",
              "    </tr>\n",
              "    <tr>\n",
              "      <th id=\"T_cf9be_level0_row12\" class=\"row_heading level0 row12\" >qda</th>\n",
              "      <td id=\"T_cf9be_row12_col0\" class=\"data row12 col0\" >Quadratic Discriminant Analysis</td>\n",
              "      <td id=\"T_cf9be_row12_col1\" class=\"data row12 col1\" >0.7086</td>\n",
              "      <td id=\"T_cf9be_row12_col2\" class=\"data row12 col2\" >0.7642</td>\n",
              "      <td id=\"T_cf9be_row12_col3\" class=\"data row12 col3\" >0.6381</td>\n",
              "      <td id=\"T_cf9be_row12_col4\" class=\"data row12 col4\" >0.3315</td>\n",
              "      <td id=\"T_cf9be_row12_col5\" class=\"data row12 col5\" >0.4182</td>\n",
              "      <td id=\"T_cf9be_row12_col6\" class=\"data row12 col6\" >0.2738</td>\n",
              "      <td id=\"T_cf9be_row12_col7\" class=\"data row12 col7\" >0.2993</td>\n",
              "      <td id=\"T_cf9be_row12_col8\" class=\"data row12 col8\" >0.2660</td>\n",
              "    </tr>\n",
              "    <tr>\n",
              "      <th id=\"T_cf9be_level0_row13\" class=\"row_heading level0 row13\" >dt</th>\n",
              "      <td id=\"T_cf9be_row13_col0\" class=\"data row13 col0\" >Decision Tree Classifier</td>\n",
              "      <td id=\"T_cf9be_row13_col1\" class=\"data row13 col1\" >0.8255</td>\n",
              "      <td id=\"T_cf9be_row13_col2\" class=\"data row13 col2\" >0.6599</td>\n",
              "      <td id=\"T_cf9be_row13_col3\" class=\"data row13 col3\" >0.4249</td>\n",
              "      <td id=\"T_cf9be_row13_col4\" class=\"data row13 col4\" >0.4202</td>\n",
              "      <td id=\"T_cf9be_row13_col5\" class=\"data row13 col5\" >0.4207</td>\n",
              "      <td id=\"T_cf9be_row13_col6\" class=\"data row13 col6\" >0.3184</td>\n",
              "      <td id=\"T_cf9be_row13_col7\" class=\"data row13 col7\" >0.3194</td>\n",
              "      <td id=\"T_cf9be_row13_col8\" class=\"data row13 col8\" >0.3140</td>\n",
              "    </tr>\n",
              "    <tr>\n",
              "      <th id=\"T_cf9be_level0_row14\" class=\"row_heading level0 row14\" >dummy</th>\n",
              "      <td id=\"T_cf9be_row14_col0\" class=\"data row14 col0\" >Dummy Classifier</td>\n",
              "      <td id=\"T_cf9be_row14_col1\" class=\"data row14 col1\" >0.8500</td>\n",
              "      <td id=\"T_cf9be_row14_col2\" class=\"data row14 col2\" >0.5000</td>\n",
              "      <td id=\"T_cf9be_row14_col3\" class=\"data row14 col3\" >0.0000</td>\n",
              "      <td id=\"T_cf9be_row14_col4\" class=\"data row14 col4\" >0.0000</td>\n",
              "      <td id=\"T_cf9be_row14_col5\" class=\"data row14 col5\" >0.0000</td>\n",
              "      <td id=\"T_cf9be_row14_col6\" class=\"data row14 col6\" >0.0000</td>\n",
              "      <td id=\"T_cf9be_row14_col7\" class=\"data row14 col7\" >0.0000</td>\n",
              "      <td id=\"T_cf9be_row14_col8\" class=\"data row14 col8\" >0.2560</td>\n",
              "    </tr>\n",
              "  </tbody>\n",
              "</table>\n"
            ]
          },
          "metadata": {}
        },
        {
          "output_type": "display_data",
          "data": {
            "text/plain": [
              "Processing:   0%|          | 0/65 [00:00<?, ?it/s]"
            ],
            "application/vnd.jupyter.widget-view+json": {
              "version_major": 2,
              "version_minor": 0,
              "model_id": "f0c12a5e09dc4a5d8352cfb9cdbf6120"
            }
          },
          "metadata": {
            "application/vnd.jupyter.widget-view+json": {
              "colab": {
                "custom_widget_manager": {
                  "url": "https://ssl.gstatic.com/colaboratory-static/widgets/colab-cdn-widget-manager/2b70e893a8ba7c0f/manager.min.js"
                }
              }
            }
          }
        },
        {
          "output_type": "display_data",
          "data": {
            "text/plain": [
              "<IPython.core.display.HTML object>"
            ],
            "text/html": []
          },
          "metadata": {}
        },
        {
          "output_type": "stream",
          "name": "stdout",
          "text": [
            "\n",
            "Melhor Modelo encontrado na comparação inicial:\n",
            "LGBMClassifier(boosting_type='gbdt', class_weight=None, colsample_bytree=1.0,\n",
            "               importance_type='split', learning_rate=0.1, max_depth=-1,\n",
            "               min_child_samples=20, min_child_weight=0.001, min_split_gain=0.0,\n",
            "               n_estimators=100, n_jobs=-1, num_leaves=31, objective=None,\n",
            "               random_state=123, reg_alpha=0.0, reg_lambda=0.0, subsample=1.0,\n",
            "               subsample_for_bin=200000, subsample_freq=0)\n",
            "\n",
            "============================================================\n",
            "\n"
          ]
        }
      ]
    },
    {
      "cell_type": "markdown",
      "source": [
        "# Etapa 7: Tuning de Hiperparâmetros"
      ],
      "metadata": {
        "id": "owATRzRmel2L"
      }
    },
    {
      "cell_type": "code",
      "source": [
        "print(\"=\"*30)\n",
        "print(\"ETAPA 7: TUNING DE HIPERPARÂMETROS\")\n",
        "print(\"=\"*30)"
      ],
      "metadata": {
        "colab": {
          "base_uri": "https://localhost:8080/"
        },
        "id": "0Z8Z9AU1egq1",
        "outputId": "5293879c-7a49-4e8b-e05a-d0f5c6798046"
      },
      "execution_count": null,
      "outputs": [
        {
          "output_type": "stream",
          "name": "stdout",
          "text": [
            "==============================\n",
            "ETAPA 7: TUNING DE HIPERPARÂMETROS\n",
            "==============================\n"
          ]
        }
      ]
    },
    {
      "cell_type": "code",
      "source": [
        "# Realizar tuning nos modelos mais promissores identificados na etapa anterior\n",
        "# Otimizar pela métrica AUC\n",
        "\n",
        "# --- Tuning do Melhor Modelo da Comparação ---\n",
        "print(f\"\\nRealizando tuning do melhor modelo da comparação ({type(melhor_modelo_comparacao).__name__})...\")\n",
        "try:\n",
        "    modelo_tunado_melhor = tune_model(melhor_modelo_comparacao, optimize='AUC', verbose=False)\n",
        "    print(\"Tuning do melhor modelo concluído.\")\n",
        "    print(modelo_tunado_melhor)\n",
        "except Exception as e:\n",
        "    print(f\"Erro ao fazer tuning do {type(melhor_modelo_comparacao).__name__}: {e}\")\n",
        "    modelo_tunado_melhor = melhor_modelo_comparacao # Usar o modelo original se o tuning falhar"
      ],
      "metadata": {
        "colab": {
          "base_uri": "https://localhost:8080/"
        },
        "id": "87zz8pvwerV3",
        "outputId": "06df1c95-a811-42bd-b272-31ff0841bde3"
      },
      "execution_count": null,
      "outputs": [
        {
          "output_type": "stream",
          "name": "stdout",
          "text": [
            "\n",
            "Realizando tuning do melhor modelo da comparação (LGBMClassifier)...\n",
            "Tuning do melhor modelo concluído.\n",
            "LGBMClassifier(boosting_type='gbdt', class_weight=None, colsample_bytree=1.0,\n",
            "               importance_type='split', learning_rate=0.1, max_depth=-1,\n",
            "               min_child_samples=20, min_child_weight=0.001, min_split_gain=0.0,\n",
            "               n_estimators=100, n_jobs=-1, num_leaves=31, objective=None,\n",
            "               random_state=123, reg_alpha=0.0, reg_lambda=0.0, subsample=1.0,\n",
            "               subsample_for_bin=200000, subsample_freq=0)\n"
          ]
        }
      ]
    },
    {
      "cell_type": "code",
      "source": [
        "# --- Tuning de Outros Modelos Promissores (Exemplos) ---\n",
        "# Pode-se adicionar mais modelos aqui se a comparação inicial indicar outros bons candidatos\n",
        "\n",
        "# Exemplo: Tuning LightGBM (geralmente performa bem)\n",
        "print(\"\\nRealizando tuning do LightGBM...\")\n",
        "try:\n",
        "    lgbm = create_model('lightgbm', verbose=False) # Criar o modelo primeiro\n",
        "    modelo_tunado_lgbm = tune_model(lgbm, optimize='AUC', verbose=False)\n",
        "    print(\"Tuning do LightGBM concluído.\")\n",
        "    print(modelo_tunado_lgbm)\n",
        "except Exception as e:\n",
        "    print(f\"Erro ao fazer tuning do LightGBM: {e}\")\n",
        "    modelo_tunado_lgbm = None # Marcar como None se falhar"
      ],
      "metadata": {
        "colab": {
          "base_uri": "https://localhost:8080/"
        },
        "id": "DI3kS6QZerBV",
        "outputId": "55a2ce81-40df-4739-bfa6-629e028fee57"
      },
      "execution_count": null,
      "outputs": [
        {
          "output_type": "stream",
          "name": "stdout",
          "text": [
            "\n",
            "Realizando tuning do LightGBM...\n",
            "Tuning do LightGBM concluído.\n",
            "LGBMClassifier(boosting_type='gbdt', class_weight=None, colsample_bytree=1.0,\n",
            "               importance_type='split', learning_rate=0.1, max_depth=-1,\n",
            "               min_child_samples=20, min_child_weight=0.001, min_split_gain=0.0,\n",
            "               n_estimators=100, n_jobs=-1, num_leaves=31, objective=None,\n",
            "               random_state=123, reg_alpha=0.0, reg_lambda=0.0, subsample=1.0,\n",
            "               subsample_for_bin=200000, subsample_freq=0)\n"
          ]
        }
      ]
    },
    {
      "cell_type": "code",
      "source": [
        "# Exemplo: Tuning XGBoost\n",
        "print(\"\\nRealizando tuning do XGBoost...\")\n",
        "try:\n",
        "    xgboost = create_model('xgboost', verbose=False)\n",
        "    modelo_tunado_xgboost = tune_model(xgboost, optimize='AUC', verbose=False)\n",
        "    print(\"Tuning do XGBoost concluído.\")\n",
        "    print(modelo_tunado_xgboost)\n",
        "except Exception as e:\n",
        "    print(f\"Erro ao fazer tuning do XGBoost: {e}\")\n",
        "    modelo_tunado_xgboost = None\n",
        "\n",
        "print(\"\\n\" + \"=\"*60 + \"\\n\")\n"
      ],
      "metadata": {
        "colab": {
          "base_uri": "https://localhost:8080/"
        },
        "id": "GOFfsOV0fBMI",
        "outputId": "4fd0a126-c76c-4d25-cc61-74ff1fa06c6b"
      },
      "execution_count": null,
      "outputs": [
        {
          "output_type": "stream",
          "name": "stdout",
          "text": [
            "\n",
            "Realizando tuning do XGBoost...\n",
            "Tuning do XGBoost concluído.\n",
            "XGBClassifier(base_score=None, booster='gbtree', callbacks=None,\n",
            "              colsample_bylevel=None, colsample_bynode=None,\n",
            "              colsample_bytree=None, device='cpu', early_stopping_rounds=None,\n",
            "              enable_categorical=False, eval_metric=None, feature_types=None,\n",
            "              gamma=None, grow_policy=None, importance_type=None,\n",
            "              interaction_constraints=None, learning_rate=None, max_bin=None,\n",
            "              max_cat_threshold=None, max_cat_to_onehot=None,\n",
            "              max_delta_step=None, max_depth=None, max_leaves=None,\n",
            "              min_child_weight=None, missing=nan, monotone_constraints=None,\n",
            "              multi_strategy=None, n_estimators=None, n_jobs=-1,\n",
            "              num_parallel_tree=None, objective='binary:logistic', ...)\n",
            "\n",
            "============================================================\n",
            "\n"
          ]
        }
      ]
    },
    {
      "cell_type": "markdown",
      "source": [
        "# Etapa 8: Blending de Modelos\n"
      ],
      "metadata": {
        "id": "GrQdovxngVK0"
      }
    },
    {
      "cell_type": "code",
      "source": [
        "print(\"=\"*30)\n",
        "print(\"ETAPA 8: BLENDING DE MODELOS\")\n",
        "print(\"=\"*30)"
      ],
      "metadata": {
        "colab": {
          "base_uri": "https://localhost:8080/"
        },
        "id": "sjZ5Z7U9gZAV",
        "outputId": "2f687031-206d-435f-f7ce-ca068d32a645"
      },
      "execution_count": null,
      "outputs": [
        {
          "output_type": "stream",
          "name": "stdout",
          "text": [
            "==============================\n",
            "ETAPA 8: BLENDING DE MODELOS\n",
            "==============================\n"
          ]
        }
      ]
    },
    {
      "cell_type": "code",
      "source": [
        "# Combinar as previsões dos melhores modelos tunados pode melhorar a performance\n",
        "\n",
        "# Selecionar os modelos tunados para o blend (ajuste conforme resultados do tuning)\n",
        "modelos_para_blend = [m for m in [modelo_tunado_melhor, modelo_tunado_lgbm, modelo_tunado_xgboost] if m is not None]\n",
        "\n",
        "modelo_blend = None\n",
        "if len(modelos_para_blend) >= 2:\n",
        "    print(f\"Realizando blend de {len(modelos_para_blend)} modelos...\")\n",
        "    try:\n",
        "        # Usar os top 2 ou 3 melhores tunados\n",
        "        modelo_blend = blend_models(estimator_list=modelos_para_blend[:3], optimize='AUC', verbose=False)\n",
        "        print(\"Blend de modelos concluído.\")\n",
        "        print(modelo_blend)\n",
        "    except Exception as e:\n",
        "        print(f\"Erro ao realizar o blend: {e}. Usaremos o melhor modelo tunado individualmente.\")\n",
        "        modelo_blend = None # Resetar se o blend falhar\n",
        "else:\n",
        "    print(\"Não há modelos suficientes tunados com sucesso para realizar o blend.\")\n",
        "\n",
        "print(\"\\n\" + \"=\"*60 + \"\\n\")"
      ],
      "metadata": {
        "colab": {
          "base_uri": "https://localhost:8080/"
        },
        "id": "sz5tSYdNg2n4",
        "outputId": "8f1dd2f1-202d-4dcc-fa23-27900b0f3ab2"
      },
      "execution_count": null,
      "outputs": [
        {
          "output_type": "stream",
          "name": "stdout",
          "text": [
            "Realizando blend de 3 modelos...\n",
            "Blend de modelos concluído.\n",
            "VotingClassifier(estimators=[('Light Gradient Boosting Machine',\n",
            "                              LGBMClassifier(boosting_type='gbdt',\n",
            "                                             class_weight=None,\n",
            "                                             colsample_bytree=1.0,\n",
            "                                             importance_type='split',\n",
            "                                             learning_rate=0.1, max_depth=-1,\n",
            "                                             min_child_samples=20,\n",
            "                                             min_child_weight=0.001,\n",
            "                                             min_split_gain=0.0,\n",
            "                                             n_estimators=100, n_jobs=-1,\n",
            "                                             num_leaves=31, objective=None,\n",
            "                                             random_state=123, reg_alpha=0.0,\n",
            "                                             reg_lambd...\n",
            "                                            learning_rate=None, max_bin=None,\n",
            "                                            max_cat_threshold=None,\n",
            "                                            max_cat_to_onehot=None,\n",
            "                                            max_delta_step=None, max_depth=None,\n",
            "                                            max_leaves=None,\n",
            "                                            min_child_weight=None, missing=nan,\n",
            "                                            monotone_constraints=None,\n",
            "                                            multi_strategy=None,\n",
            "                                            n_estimators=None, n_jobs=-1,\n",
            "                                            num_parallel_tree=None,\n",
            "                                            objective='binary:logistic', ...))],\n",
            "                 flatten_transform=True, n_jobs=-1, verbose=False,\n",
            "                 voting='soft', weights=None)\n",
            "\n",
            "============================================================\n",
            "\n"
          ]
        }
      ]
    },
    {
      "cell_type": "markdown",
      "source": [
        "# Etapa 9: Seleção e Finalização do Modelo Final"
      ],
      "metadata": {
        "id": "MLWhtncghKgS"
      }
    },
    {
      "cell_type": "code",
      "source": [
        "print(\"=\"*30)\n",
        "print(\"ETAPA 9: SELEÇÃO E FINALIZAÇÃO DO MODELO\")\n",
        "print(\"=\"*30)"
      ],
      "metadata": {
        "colab": {
          "base_uri": "https://localhost:8080/"
        },
        "id": "J_kfDmMtg2ZT",
        "outputId": "7c822d93-c6ea-4951-8128-dde2bce6f9b5"
      },
      "execution_count": null,
      "outputs": [
        {
          "output_type": "stream",
          "name": "stdout",
          "text": [
            "==============================\n",
            "ETAPA 9: SELEÇÃO E FINALIZAÇÃO DO MODELO\n",
            "==============================\n"
          ]
        }
      ]
    },
    {
      "cell_type": "code",
      "source": [
        "# Selecionar o melhor modelo entre o blend (se bem-sucedido) e os tunados individuais\n",
        "# **Nota:** A seleção rigorosa requer comparar as métricas de validação cruzada (AUC) impressas\n",
        "# nas etapas anteriores (compare_models, tune_model, blend_models).\n",
        "# Para este exemplo, vamos priorizar o blend se ele foi criado, caso contrário, o melhor tunado.\n",
        "\n",
        "modelo_final_escolhido = None\n",
        "if modelo_blend:\n",
        "    print(\"Selecionando o modelo Blended como modelo final.\")\n",
        "    modelo_final_escolhido = modelo_blend\n",
        "else:\n",
        "    print(\"Selecionando o melhor modelo tunado individualmente como modelo final (verifique AUCs acima).\")\n",
        "    # Aqui, você precisaria verificar qual dos 'modelo_tunado_*' teve o melhor AUC na validação cruzada.\n",
        "    # Vamos usar o melhor modelo tunado da comparação inicial como fallback se outros falharam.\n",
        "    if modelo_tunado_melhor:\n",
        "       modelo_final_escolhido = modelo_tunado_melhor\n",
        "       print(f\"Modelo final escolhido: {type(modelo_final_escolhido).__name__} (tunado)\")\n",
        "    else:\n",
        "       modelo_final_escolhido = melhor_modelo_comparacao\n",
        "       print(f\"Modelo final escolhido: {type(modelo_final_escolhido).__name__} (original da comparação)\")"
      ],
      "metadata": {
        "colab": {
          "base_uri": "https://localhost:8080/"
        },
        "id": "r00WM0mQhOQv",
        "outputId": "b08227ce-1009-45c2-99b6-d0693f2a48a4"
      },
      "execution_count": null,
      "outputs": [
        {
          "output_type": "stream",
          "name": "stdout",
          "text": [
            "Selecionando o modelo Blended como modelo final.\n"
          ]
        }
      ]
    },
    {
      "cell_type": "code",
      "source": [
        "# Finalizar o modelo escolhido (treina novamente com todos os dados de df_treino)\n",
        "modelo_final = None\n",
        "if modelo_final_escolhido:\n",
        "    print(f\"\\nFinalizando o modelo {type(modelo_final_escolhido).__name__}...\")\n",
        "    modelo_final = finalize_model(modelo_final_escolhido)\n",
        "    print(\"Modelo finalizado com sucesso.\")\n",
        "    print(modelo_final)\n",
        "else:\n",
        "    print(\"\\nERRO: Nenhum modelo foi selecionado para finalização.\")\n",
        "\n",
        "print(\"\\n\" + \"=\"*60 + \"\\n\")"
      ],
      "metadata": {
        "colab": {
          "base_uri": "https://localhost:8080/"
        },
        "id": "T3-aWFgShXJ8",
        "outputId": "a4c8b9c5-6a36-4b04-c942-a2a4fdd9fe27"
      },
      "execution_count": null,
      "outputs": [
        {
          "output_type": "stream",
          "name": "stdout",
          "text": [
            "\n",
            "Finalizando o modelo VotingClassifier...\n",
            "Modelo finalizado com sucesso.\n",
            "Pipeline(memory=Memory(location=None),\n",
            "         steps=[('numerical_imputer',\n",
            "                 TransformerWrapper(exclude=None,\n",
            "                                    include=['Income', 'Kidhome', 'Teenhome',\n",
            "                                             'Recency', 'MntWines', 'MntFruits',\n",
            "                                             'MntMeatProducts',\n",
            "                                             'MntFishProducts',\n",
            "                                             'MntSweetProducts', 'MntGoldProds',\n",
            "                                             'NumDealsPurchases',\n",
            "                                             'NumWebPurchases',\n",
            "                                             'NumCatalogPurchases',\n",
            "                                             'NumStorePurchases',\n",
            "                                             'NumWebVisitsMonth',\n",
            "                                             'AcceptedC...\n",
            "                                                             max_cat_threshold=None,\n",
            "                                                             max_cat_to_onehot=None,\n",
            "                                                             max_delta_step=None,\n",
            "                                                             max_depth=None,\n",
            "                                                             max_leaves=None,\n",
            "                                                             min_child_weight=None,\n",
            "                                                             missing=nan,\n",
            "                                                             monotone_constraints=None,\n",
            "                                                             multi_strategy=None,\n",
            "                                                             n_estimators=None,\n",
            "                                                             n_jobs=-1,\n",
            "                                                             num_parallel_tree=None,\n",
            "                                                             objective='binary:logistic', ...))],\n",
            "                                  flatten_transform=True, n_jobs=-1,\n",
            "                                  verbose=False, voting='soft',\n",
            "                                  weights=None))],\n",
            "         verbose=False)\n",
            "\n",
            "============================================================\n",
            "\n"
          ]
        }
      ]
    },
    {
      "cell_type": "markdown",
      "source": [
        "# Etapa 10: Avaliação no Conjunto de Validação (Hold-out)"
      ],
      "metadata": {
        "id": "iZPu04YJmSY3"
      }
    },
    {
      "cell_type": "code",
      "source": [
        "print(\"=\"*30)\n",
        "print(\"ETAPA 10: AVALIAÇÃO NO CONJUNTO DE VALIDAÇÃO\")\n",
        "print(\"=\"*30)"
      ],
      "metadata": {
        "colab": {
          "base_uri": "https://localhost:8080/"
        },
        "id": "Gb6Fpa1gmQou",
        "outputId": "bad48b84-5060-4851-e059-07502efd6f52"
      },
      "execution_count": null,
      "outputs": [
        {
          "output_type": "stream",
          "name": "stdout",
          "text": [
            "==============================\n",
            "ETAPA 10: AVALIAÇÃO NO CONJUNTO DE VALIDAÇÃO\n",
            "==============================\n"
          ]
        }
      ]
    },
    {
      "cell_type": "code",
      "source": [
        "if modelo_final:\n",
        "    print(\"Realizando predições no conjunto de validação (dados não vistos)...\")\n",
        "    # CORREÇÃO AQUI: Adicionar raw_score=True\n",
        "    predicoes_validacao = predict_model(modelo_final, data=df_validacao, raw_score=True)\n",
        "\n",
        "    print(\"\\nPrimeiras linhas das predições na validação (com scores):\")\n",
        "    # Agora a coluna prediction_score_1 estará disponível\n",
        "    print(predicoes_validacao[['Response', 'prediction_label', 'prediction_score_1']].head())\n",
        "    # Calcular AUC e outras métricas no conjunto de validação\n",
        "    try:\n",
        "        from sklearn.metrics import roc_auc_score, accuracy_score, precision_score, recall_score, f1_score, classification_report\n",
        "        auc_validacao = roc_auc_score(predicoes_validacao['Response'], predicoes_validacao['prediction_score_1'])\n",
        "        accuracy_validacao = accuracy_score(predicoes_validacao['Response'], predicoes_validacao['prediction_label'])\n",
        "        precision_validacao = precision_score(predicoes_validacao['Response'], predicoes_validacao['prediction_label'])\n",
        "        recall_validacao = recall_score(predicoes_validacao['Response'], predicoes_validacao['prediction_label'])\n",
        "        f1_validacao = f1_score(predicoes_validacao['Response'], predicoes_validacao['prediction_label'])\n",
        "\n",
        "        print(f\"\\nMétricas no Conjunto de Validação:\")\n",
        "        print(f\"- AUC:      {auc_validacao:.4f}\")\n",
        "        print(f\"- Acurácia: {accuracy_validacao:.4f}\")\n",
        "        print(f\"- Precisão: {precision_validacao:.4f}\")\n",
        "        print(f\"- Recall:   {recall_validacao:.4f}\")\n",
        "        print(f\"- F1-Score: {f1_validacao:.4f}\")\n",
        "        print(\"\\nRelatório de Classificação (Validação):\")\n",
        "        print(classification_report(predicoes_validacao['Response'], predicoes_validacao['prediction_label']))\n",
        "\n",
        "    except Exception as e:\n",
        "        print(f\"\\nErro ao calcular métricas de validação: {e}\")\n",
        "else:\n",
        "    print(\"Não é possível avaliar no conjunto de validação, pois nenhum modelo foi finalizado.\")\n",
        "\n",
        "print(\"\\n\" + \"=\"*60 + \"\\n\")"
      ],
      "metadata": {
        "colab": {
          "base_uri": "https://localhost:8080/",
          "height": 601
        },
        "id": "NGUjUBComVaF",
        "outputId": "1559341d-1632-4eea-b79a-f40b3c325a6f"
      },
      "execution_count": null,
      "outputs": [
        {
          "output_type": "stream",
          "name": "stdout",
          "text": [
            "Realizando predições no conjunto de validação (dados não vistos)...\n"
          ]
        },
        {
          "output_type": "display_data",
          "data": {
            "text/plain": [
              "<pandas.io.formats.style.Styler at 0x7c9ff378cb10>"
            ],
            "text/html": [
              "<style type=\"text/css\">\n",
              "</style>\n",
              "<table id=\"T_f9d25\" class=\"dataframe\">\n",
              "  <thead>\n",
              "    <tr>\n",
              "      <th class=\"blank level0\" >&nbsp;</th>\n",
              "      <th id=\"T_f9d25_level0_col0\" class=\"col_heading level0 col0\" >Model</th>\n",
              "      <th id=\"T_f9d25_level0_col1\" class=\"col_heading level0 col1\" >Accuracy</th>\n",
              "      <th id=\"T_f9d25_level0_col2\" class=\"col_heading level0 col2\" >AUC</th>\n",
              "      <th id=\"T_f9d25_level0_col3\" class=\"col_heading level0 col3\" >Recall</th>\n",
              "      <th id=\"T_f9d25_level0_col4\" class=\"col_heading level0 col4\" >Prec.</th>\n",
              "      <th id=\"T_f9d25_level0_col5\" class=\"col_heading level0 col5\" >F1</th>\n",
              "      <th id=\"T_f9d25_level0_col6\" class=\"col_heading level0 col6\" >Kappa</th>\n",
              "      <th id=\"T_f9d25_level0_col7\" class=\"col_heading level0 col7\" >MCC</th>\n",
              "    </tr>\n",
              "  </thead>\n",
              "  <tbody>\n",
              "    <tr>\n",
              "      <th id=\"T_f9d25_level0_row0\" class=\"row_heading level0 row0\" >0</th>\n",
              "      <td id=\"T_f9d25_row0_col0\" class=\"data row0 col0\" >Voting Classifier</td>\n",
              "      <td id=\"T_f9d25_row0_col1\" class=\"data row0 col1\" >0.8559</td>\n",
              "      <td id=\"T_f9d25_row0_col2\" class=\"data row0 col2\" >0.8786</td>\n",
              "      <td id=\"T_f9d25_row0_col3\" class=\"data row0 col3\" >0.5294</td>\n",
              "      <td id=\"T_f9d25_row0_col4\" class=\"data row0 col4\" >0.5294</td>\n",
              "      <td id=\"T_f9d25_row0_col5\" class=\"data row0 col5\" >0.5294</td>\n",
              "      <td id=\"T_f9d25_row0_col6\" class=\"data row0 col6\" >0.4443</td>\n",
              "      <td id=\"T_f9d25_row0_col7\" class=\"data row0 col7\" >0.4443</td>\n",
              "    </tr>\n",
              "  </tbody>\n",
              "</table>\n"
            ]
          },
          "metadata": {}
        },
        {
          "output_type": "stream",
          "name": "stdout",
          "text": [
            "\n",
            "Primeiras linhas das predições na validação (com scores):\n",
            "   Response  prediction_label  prediction_score_1\n",
            "0         0                 0              0.0004\n",
            "1         0                 0              0.0111\n",
            "2         0                 0              0.0007\n",
            "3         0                 0              0.0002\n",
            "4         0                 0              0.0537\n",
            "\n",
            "Métricas no Conjunto de Validação:\n",
            "- AUC:      0.8786\n",
            "- Acurácia: 0.8559\n",
            "- Precisão: 0.5294\n",
            "- Recall:   0.5294\n",
            "- F1-Score: 0.5294\n",
            "\n",
            "Relatório de Classificação (Validação):\n",
            "              precision    recall  f1-score   support\n",
            "\n",
            "           0       0.91      0.91      0.91        94\n",
            "           1       0.53      0.53      0.53        17\n",
            "\n",
            "    accuracy                           0.86       111\n",
            "   macro avg       0.72      0.72      0.72       111\n",
            "weighted avg       0.86      0.86      0.86       111\n",
            "\n",
            "\n",
            "============================================================\n",
            "\n"
          ]
        }
      ]
    },
    {
      "cell_type": "markdown",
      "source": [
        "# Etapa 11: Previsão nos Dados de Teste Finais (Xtest.csv)"
      ],
      "metadata": {
        "id": "EqPOcHLLwY34"
      }
    },
    {
      "cell_type": "code",
      "source": [
        "print(\"=\"*30)\n",
        "print(\"ETAPA 11: PREVISÃO EM Xtest.csv\")\n",
        "print(\"=\"*30)\n",
        "print(\"Aplicando as mesmas transformações de Limpeza e Engenharia de Atributos aos dados de Xtest...\")\n",
        "\n",
        "df_teste_final_transformado = df_teste_final.copy() # Usar o df_teste_final carregado no início"
      ],
      "metadata": {
        "colab": {
          "base_uri": "https://localhost:8080/"
        },
        "id": "10XyZs7UmVUq",
        "outputId": "235e9cd1-e67b-404e-bc82-1ffc78f9dcab"
      },
      "execution_count": null,
      "outputs": [
        {
          "output_type": "stream",
          "name": "stdout",
          "text": [
            "==============================\n",
            "ETAPA 11: PREVISÃO EM Xtest.csv\n",
            "==============================\n",
            "Aplicando as mesmas transformações de Limpeza e Engenharia de Atributos aos dados de Xtest...\n"
          ]
        }
      ]
    },
    {
      "cell_type": "code",
      "source": [
        "# --- 11.1 Limpeza em Xtest.csv ---\n",
        "# Remover colunas irrelevantes (verificar se existem em Xtest.csv)\n",
        "colunas_para_remover_teste = ['ID', 'Z_CostContact', 'Z_Revenue', 'Dt_Customer', 'Year_Birth'] # Ajustar conforme Xtest.csv\n",
        "colunas_existentes_para_remover = [col for col in colunas_para_remover_teste if col in df_teste_final_transformado.columns]\n",
        "if colunas_existentes_para_remover:\n",
        "    print(f\"Removendo colunas de Xtest: {colunas_existentes_para_remover}\")\n",
        "    df_teste_final_transformado.drop(colunas_existentes_para_remover, axis=1, inplace=True, errors='ignore')"
      ],
      "metadata": {
        "id": "3ZZPuqBkmVLm"
      },
      "execution_count": null,
      "outputs": []
    },
    {
      "cell_type": "code",
      "source": [
        "# Tratar NaNs em 'Income' (usar a média do *conjunto de treino original* para consistência)\n",
        "if 'Income' in df_teste_final_transformado.columns and df_teste_final_transformado['Income'].isna().any():\n",
        "    print(\"Tratando NaNs em 'Income' para Xtest (usando média do treino)...\")\n",
        "    media_income_treino = df_treino_completo['Income'].mean() # Média do dataset original antes de dropna\n",
        "    df_teste_final_transformado['Income'].fillna(media_income_treino, inplace=True)\n",
        "else:\n",
        "     print(\"Coluna 'Income' não encontrada ou sem NaNs em Xtest.\")"
      ],
      "metadata": {
        "colab": {
          "base_uri": "https://localhost:8080/"
        },
        "id": "QvdXs3JCwg4z",
        "outputId": "f6498cb5-3730-4948-c478-6cbf150b942c"
      },
      "execution_count": null,
      "outputs": [
        {
          "output_type": "stream",
          "name": "stdout",
          "text": [
            "Coluna 'Income' não encontrada ou sem NaNs em Xtest.\n"
          ]
        }
      ]
    },
    {
      "cell_type": "code",
      "source": [
        "# Corrigir 'Marital_Status'\n",
        "if 'Marital_Status' in df_teste_final_transformado.columns:\n",
        "    print(\"Corrigindo 'Marital_Status' para Xtest...\")\n",
        "    df_teste_final_transformado['Marital_Status'] = df_teste_final_transformado['Marital_Status'].replace({'Alone': 'Single', 'Absurd': 'Single', 'YOLO': 'Single'})"
      ],
      "metadata": {
        "colab": {
          "base_uri": "https://localhost:8080/"
        },
        "id": "OewBYL20wgzJ",
        "outputId": "9baf08bf-931d-4d75-9b9f-dc3e1ced2053"
      },
      "execution_count": null,
      "outputs": [
        {
          "output_type": "stream",
          "name": "stdout",
          "text": [
            "Corrigindo 'Marital_Status' para Xtest...\n"
          ]
        }
      ]
    },
    {
      "cell_type": "code",
      "source": [
        "# --- 11.2 Ajustar Tipos de Dados em Xtest.csv ---\n",
        "print(\"Ajustando tipos de dados para Xtest...\")\n",
        "df_teste_final_transformado = df_teste_final_transformado.convert_dtypes()\n",
        "# Garantir tipos numéricos corretos\n",
        "numeric_cols_teste = [col for col in df_teste_final_transformado.columns if df_teste_final_transformado[col].dtype in ['int64', 'float64', 'Int64', 'Float64']]\n",
        "for col in numeric_cols_teste:\n",
        "     # Verificar colunas numéricas chave\n",
        "     if col in ['Age', 'Income', 'Time_Customer'] or 'Mnt' in col or 'Num' in col or 'AcceptedCmp' in col or 'Recency' in col:\n",
        "         df_teste_final_transformado[col] = pd.to_numeric(df_teste_final_transformado[col], errors='coerce')\n",
        "         # Re-imputar NaNs se a coerção falhar (improvável, mas seguro)\n",
        "         if df_teste_final_transformado[col].isna().any():\n",
        "             if col in df_treino.columns: # Usar média do df_treino (após limpeza)\n",
        "                 media_treino = df_treino[col].mean()\n",
        "                 print(f\"Imputando NaNs (conversão) em '{col}' de Xtest com média do treino: {media_treino:.2f}\")\n",
        "                 df_teste_final_transformado[col].fillna(media_treino, inplace=True)\n",
        "             elif col in df_treino_completo.columns: # Fallback para média original\n",
        "                  media_treino_original = df_treino_completo[col].mean()\n",
        "                  print(f\"Aviso: Imputando NaNs (conversão) em '{col}' de Xtest com média *original* do treino: {media_treino_original:.2f}\")\n",
        "                  df_teste_final_transformado[col].fillna(media_treino_original, inplace=True)\n",
        "             else: # Fallback para média do próprio teste (menos ideal)\n",
        "                  media_teste = df_teste_final_transformado[col].mean()\n",
        "                  print(f\"Aviso Crítico: Imputando NaNs (conversão) em '{col}' de Xtest com média *do teste*: {media_teste:.2f}\")\n",
        "                  df_teste_final_transformado[col].fillna(media_teste, inplace=True)\n"
      ],
      "metadata": {
        "colab": {
          "base_uri": "https://localhost:8080/"
        },
        "id": "hTbRioh3wgmA",
        "outputId": "00fdf0d7-523c-481e-81d1-94710ef393b9"
      },
      "execution_count": null,
      "outputs": [
        {
          "output_type": "stream",
          "name": "stdout",
          "text": [
            "Ajustando tipos de dados para Xtest...\n"
          ]
        }
      ]
    },
    {
      "cell_type": "code",
      "source": [
        "# --- 11.3 Engenharia de Atributos em Xtest.csv ---\n",
        "print(\"Aplicando Engenharia de Atributos em Xtest...\")\n",
        "# 'Age' e 'Time_Customer' já devem existir e estar no formato correto em Xtest.csv (verificar arquivo)"
      ],
      "metadata": {
        "colab": {
          "base_uri": "https://localhost:8080/"
        },
        "id": "Rz61zWPNwq-R",
        "outputId": "4e8341cc-9996-4f01-a2fc-6e040698937a"
      },
      "execution_count": null,
      "outputs": [
        {
          "output_type": "stream",
          "name": "stdout",
          "text": [
            "Aplicando Engenharia de Atributos em Xtest...\n"
          ]
        }
      ]
    },
    {
      "cell_type": "code",
      "source": [
        "# Children_Total\n",
        "if 'Kidhome' in df_teste_final_transformado.columns and 'Teenhome' in df_teste_final_transformado.columns:\n",
        "    df_teste_final_transformado['Children_Total'] = df_teste_final_transformado['Kidhome'] + df_teste_final_transformado['Teenhome']\n",
        "    print(\"- Feature 'Children_Total' criada para Xtest.\")"
      ],
      "metadata": {
        "colab": {
          "base_uri": "https://localhost:8080/"
        },
        "id": "NeMrztmJwq6N",
        "outputId": "b2b148c0-5fb1-4947-f3a9-163c1cbc15e8"
      },
      "execution_count": null,
      "outputs": [
        {
          "output_type": "stream",
          "name": "stdout",
          "text": [
            "- Feature 'Children_Total' criada para Xtest.\n"
          ]
        }
      ]
    },
    {
      "cell_type": "code",
      "source": [
        "# Total Spending\n",
        "colunas_mnt_teste = [col for col in df_teste_final_transformado.columns if 'Mnt' in col]\n",
        "if colunas_mnt_teste:\n",
        "    df_teste_final_transformado['Total_Spending'] = df_teste_final_transformado[colunas_mnt_teste].sum(axis=1)\n",
        "    print(\"- Feature 'Total_Spending' criada para Xtest.\")"
      ],
      "metadata": {
        "colab": {
          "base_uri": "https://localhost:8080/"
        },
        "id": "jH7paNIxwqu_",
        "outputId": "613dee67-327e-482a-f814-0efb0aad27ba"
      },
      "execution_count": null,
      "outputs": [
        {
          "output_type": "stream",
          "name": "stdout",
          "text": [
            "- Feature 'Total_Spending' criada para Xtest.\n"
          ]
        }
      ]
    },
    {
      "cell_type": "code",
      "source": [
        "# Total Purchases\n",
        "colunas_purch_teste = [col for col in df_teste_final_transformado.columns if 'Purchases' in col]\n",
        "if colunas_purch_teste:\n",
        "    df_teste_final_transformado['Total_Purchases'] = df_teste_final_transformado[colunas_purch_teste].sum(axis=1)\n",
        "    print(\"- Feature 'Total_Purchases' criada para Xtest.\")"
      ],
      "metadata": {
        "colab": {
          "base_uri": "https://localhost:8080/"
        },
        "id": "HuWYLP7lwwM7",
        "outputId": "b58762ee-7007-4cd0-f25b-bff1993d73e5"
      },
      "execution_count": null,
      "outputs": [
        {
          "output_type": "stream",
          "name": "stdout",
          "text": [
            "- Feature 'Total_Purchases' criada para Xtest.\n"
          ]
        }
      ]
    },
    {
      "cell_type": "code",
      "source": [
        "# Total_Acc_Cmp\n",
        "if all(c in df_teste_final_transformado.columns for c in cmp_cols):\n",
        "    df_teste_final_transformado['Total_Acc_Cmp'] = df_teste_final_transformado[cmp_cols].sum(axis=1)\n",
        "    print(\"- Feature 'Total_Acc_Cmp' criada para Xtest.\")\n",
        "else:\n",
        "    print(\"- Aviso: Colunas de AcceptedCmp não encontradas em Xtest, 'Total_Acc_Cmp' não criada.\")"
      ],
      "metadata": {
        "colab": {
          "base_uri": "https://localhost:8080/"
        },
        "id": "ZuXRdBUDwwHX",
        "outputId": "1a8a00ff-b1cc-4a7f-9d33-fe1f28f95174"
      },
      "execution_count": null,
      "outputs": [
        {
          "output_type": "stream",
          "name": "stdout",
          "text": [
            "- Feature 'Total_Acc_Cmp' criada para Xtest.\n"
          ]
        }
      ]
    },
    {
      "cell_type": "code",
      "source": [
        "# Income_Per_Capita\n",
        "if 'Marital_Status' in df_teste_final_transformado.columns and 'Income' in df_teste_final_transformado.columns and 'Children_Total' in df_teste_final_transformado.columns:\n",
        "    df_teste_final_transformado['Family_Size_Approx'] = df_teste_final_transformado['Marital_Status'].apply(family_size_approx)\n",
        "    df_teste_final_transformado['Income_Per_Capita'] = df_teste_final_transformado['Income'] / (df_teste_final_transformado['Family_Size_Approx'] + df_teste_final_transformado['Children_Total'])\n",
        "    df_teste_final_transformado['Income_Per_Capita'].replace([np.inf, -np.inf], 0, inplace=True)\n",
        "    df_teste_final_transformado['Income_Per_Capita'].fillna(0, inplace=True)\n",
        "    df_teste_final_transformado.drop('Family_Size_Approx', axis=1, inplace=True)\n",
        "    print(\"- Feature 'Income_Per_Capita' criada para Xtest.\")\n",
        "else:\n",
        "     print(\"- Aviso: Colunas necessárias para 'Income_Per_Capita' não encontradas em Xtest, feature não criada.\")"
      ],
      "metadata": {
        "colab": {
          "base_uri": "https://localhost:8080/"
        },
        "id": "qLic3HlfwwCs",
        "outputId": "51ad14ae-9cfc-4456-f2d7-170c1cb8eb66"
      },
      "execution_count": null,
      "outputs": [
        {
          "output_type": "stream",
          "name": "stdout",
          "text": [
            "- Feature 'Income_Per_Capita' criada para Xtest.\n"
          ]
        }
      ]
    },
    {
      "cell_type": "code",
      "source": [
        "# Garantir que as colunas em df_teste_final_transformado correspondam às esperadas pelo pipeline\n",
        "# (PyCaret's predict_model geralmente lida com isso, mas verificar é bom)\n",
        "print(\"\\nColunas em Xtest após transformações:\", df_teste_final_transformado.columns.tolist())\n",
        "print(\"\\nCabeçalho de Xtest (após limpeza/FE):\")\n",
        "print(df_teste_final_transformado.head())\n",
        "print(\"Shape de Xtest (após limpeza/FE):\", df_teste_final_transformado.shape)"
      ],
      "metadata": {
        "colab": {
          "base_uri": "https://localhost:8080/"
        },
        "id": "F4OsKAygwv91",
        "outputId": "03951fde-6dcc-4b3e-e622-7ad74750a279"
      },
      "execution_count": null,
      "outputs": [
        {
          "output_type": "stream",
          "name": "stdout",
          "text": [
            "\n",
            "Colunas em Xtest após transformações: ['AcceptedCmp1', 'AcceptedCmp2', 'AcceptedCmp3', 'AcceptedCmp4', 'AcceptedCmp5', 'Age', 'Complain', 'Education', 'Income', 'Kidhome', 'Marital_Status', 'MntFishProducts', 'MntFruits', 'MntGoldProds', 'MntMeatProducts', 'MntSweetProducts', 'MntWines', 'NumCatalogPurchases', 'NumDealsPurchases', 'NumStorePurchases', 'NumWebPurchases', 'NumWebVisitsMonth', 'Recency', 'Teenhome', 'Time_Customer', 'Children_Total', 'Total_Spending', 'Total_Purchases', 'Total_Acc_Cmp', 'Income_Per_Capita']\n",
            "\n",
            "Cabeçalho de Xtest (após limpeza/FE):\n",
            "   AcceptedCmp1  AcceptedCmp2  AcceptedCmp3  AcceptedCmp4  AcceptedCmp5  Age  \\\n",
            "0             0             0             0             0             0   41   \n",
            "1             0             0             0             0             0   79   \n",
            "2             0             0             0             0             0   40   \n",
            "3             0             0             0             0             0   68   \n",
            "4             0             0             0             0             0   61   \n",
            "\n",
            "   Complain   Education  Income  Kidhome  ... NumWebPurchases  \\\n",
            "0         0  Graduation   26646        1  ...               2   \n",
            "1         0  Graduation   37760        0  ...               4   \n",
            "2         0      Master   20559        1  ...               2   \n",
            "3         0  Graduation   65486        0  ...               4   \n",
            "4         0      Master   79143        0  ...               6   \n",
            "\n",
            "   NumWebVisitsMonth  Recency  Teenhome  Time_Customer  Children_Total  \\\n",
            "0                  6       26         0      11.126854               1   \n",
            "1                  7       20         0      12.572469               0   \n",
            "2                  8       88         0      12.044053               1   \n",
            "3                  2       29         1      10.877705               1   \n",
            "4                  3        2         0      12.627227               0   \n",
            "\n",
            "   Total_Spending  Total_Purchases  Total_Acc_Cmp  Income_Per_Capita  \n",
            "0              53                8              0             8882.0  \n",
            "1             317               13              0            18880.0  \n",
            "2              53                7              0             6853.0  \n",
            "3             507               17              0            32743.0  \n",
            "4            1693               29              0            39571.5  \n",
            "\n",
            "[5 rows x 30 columns]\n",
            "Shape de Xtest (após limpeza/FE): (110, 30)\n"
          ]
        }
      ]
    },
    {
      "cell_type": "code",
      "source": [
        "#  --- 11.4 Realizar Predições ---\n",
        "if modelo_final:\n",
        "    print(\"\\nRealizando predições em Xtest.csv...\")\n",
        "    # CORREÇÃO AQUI: Adicionar raw_score=True\n",
        "    predicoes_teste_final = predict_model(modelo_final, data=df_teste_final_transformado, raw_score=True)\n",
        "    print(\"Predições concluídas.\")\n",
        "\n",
        "    print(\"\\nPrimeiras linhas das predições em Xtest.csv:\")\n",
        "    # Exibe 'prediction_label' (0 ou 1) e 'prediction_score_1' (probabilidade de ser 1)\n",
        "    print(predicoes_teste_final[['prediction_label', 'prediction_score_1']].head())\n",
        "\n",
        "    # Salvar as previsões (opcional)\n",
        "    # try:\n",
        "    #     predicoes_teste_final.to_csv('previsoes_xteste_final.csv', index=False)\n",
        "    #     print(\"\\nPredições de Xtest salvas em 'previsoes_xteste_final.csv'\")\n",
        "    # except Exception as e:\n",
        "    #     print(f\"\\nErro ao salvar previsões: {e}\")\n",
        "\n",
        "else:\n",
        "    print(\"Não é possível realizar predições em Xtest.csv, pois nenhum modelo foi finalizado.\")"
      ],
      "metadata": {
        "colab": {
          "base_uri": "https://localhost:8080/",
          "height": 208
        },
        "id": "IftJclgSwv5N",
        "outputId": "c3058502-6665-408c-d915-454056db35a5"
      },
      "execution_count": null,
      "outputs": [
        {
          "output_type": "stream",
          "name": "stdout",
          "text": [
            "\n",
            "Realizando predições em Xtest.csv...\n"
          ]
        },
        {
          "output_type": "display_data",
          "data": {
            "text/plain": [
              "<IPython.core.display.HTML object>"
            ],
            "text/html": []
          },
          "metadata": {}
        },
        {
          "output_type": "stream",
          "name": "stdout",
          "text": [
            "Predições concluídas.\n",
            "\n",
            "Primeiras linhas das predições em Xtest.csv:\n",
            "   prediction_label  prediction_score_1\n",
            "0                 0              0.0064\n",
            "1                 0              0.0086\n",
            "2                 0              0.0050\n",
            "3                 0              0.0029\n",
            "4                 0              0.0537\n"
          ]
        }
      ]
    },
    {
      "cell_type": "code",
      "source": [
        "print(\"\\n\" + \"=\"*60)\n",
        "print(\"FIM DO NOTEBOOK\")\n",
        "print(\"=\"*60 + \"\\n\")"
      ],
      "metadata": {
        "colab": {
          "base_uri": "https://localhost:8080/"
        },
        "id": "SqyEsQi3xFQ2",
        "outputId": "f5db04b8-a4af-4a64-bda6-9966f8329c41"
      },
      "execution_count": null,
      "outputs": [
        {
          "output_type": "stream",
          "name": "stdout",
          "text": [
            "\n",
            "============================================================\n",
            "FIM DO NOTEBOOK\n",
            "============================================================\n",
            "\n"
          ]
        }
      ]
    },
    {
      "cell_type": "markdown",
      "source": [
        "# Etapa 12: Salvar o Modelo Final (Opcional)"
      ],
      "metadata": {
        "id": "44ckxXI0xGWw"
      }
    },
    {
      "cell_type": "code",
      "source": [
        "# Descomente as linhas abaixo para salvar o modelo final treinado e o pipeline\n",
        "print(\"=\"*30)\n",
        "print(\"ETAPA 12: SALVAR MODELO FINAL (OPCIONAL)\")\n",
        "print(\"=\"*30)"
      ],
      "metadata": {
        "colab": {
          "base_uri": "https://localhost:8080/"
        },
        "id": "F4wxb-gEz1pz",
        "outputId": "2bfb18cd-f4c1-4b60-a699-df5117c2ca92"
      },
      "execution_count": null,
      "outputs": [
        {
          "output_type": "stream",
          "name": "stdout",
          "text": [
            "==============================\n",
            "ETAPA 12: SALVAR MODELO FINAL (OPCIONAL)\n",
            "==============================\n"
          ]
        }
      ]
    },
    {
      "cell_type": "code",
      "source": [
        "# Descomente as linhas abaixo para salvar o modelo final treinado e o pipeline\n",
        "if modelo_final:\n",
        "   try:\n",
        "       save_model(modelo_final, 'modelo_ifood_final_refinado')\n",
        "       print(\"\\nModelo final salvo como 'modelo_ifood_final_refinado.pkl'\")\n",
        "       print(\"Este arquivo contém o pipeline de pré-processamento e o modelo treinado.\")\n",
        "   except Exception as e:\n",
        "       print(f\"\\nErro ao salvar o modelo: {e}\")\n",
        "else:\n",
        "   print(\"\\nNenhum modelo final para salvar.\")"
      ],
      "metadata": {
        "colab": {
          "base_uri": "https://localhost:8080/"
        },
        "id": "luxHIM0JxHxc",
        "outputId": "27239c33-d539-4ac8-fd4f-c77a872bc67e"
      },
      "execution_count": null,
      "outputs": [
        {
          "output_type": "stream",
          "name": "stdout",
          "text": [
            "Transformation Pipeline and Model Successfully Saved\n",
            "\n",
            "Modelo final salvo como 'modelo_ifood_final_refinado.pkl'\n",
            "Este arquivo contém o pipeline de pré-processamento e o modelo treinado.\n"
          ]
        }
      ]
    }
  ]
}