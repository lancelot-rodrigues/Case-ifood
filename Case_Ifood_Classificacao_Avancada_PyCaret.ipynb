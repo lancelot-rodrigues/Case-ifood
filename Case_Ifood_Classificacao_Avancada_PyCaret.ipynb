{
  "nbformat": 4,
  "nbformat_minor": 0,
  "metadata": {
    "colab": {
      "provenance": [],
      "gpuType": "T4"
    },
    "kernelspec": {
      "name": "python3",
      "display_name": "Python 3"
    },
    "language_info": {
      "name": "python"
    },
    "widgets": {
      "application/vnd.jupyter.widget-state+json": {
        "0fe21a26cd0245f39f6cce1a94d95019": {
          "model_module": "@jupyter-widgets/controls",
          "model_name": "HBoxModel",
          "model_module_version": "1.5.0",
          "state": {
            "_dom_classes": [],
            "_model_module": "@jupyter-widgets/controls",
            "_model_module_version": "1.5.0",
            "_model_name": "HBoxModel",
            "_view_count": null,
            "_view_module": "@jupyter-widgets/controls",
            "_view_module_version": "1.5.0",
            "_view_name": "HBoxView",
            "box_style": "",
            "children": [
              "IPY_MODEL_b41a4642744d423b99cc7e179b0ad935",
              "IPY_MODEL_a41ee05100b94bac9770c68e09eb9cf9",
              "IPY_MODEL_e28dec71c4bb49b7a20e2d0153b7370e"
            ],
            "layout": "IPY_MODEL_9c135c693c8340d0be96ec23f176564d"
          }
        },
        "b41a4642744d423b99cc7e179b0ad935": {
          "model_module": "@jupyter-widgets/controls",
          "model_name": "HTMLModel",
          "model_module_version": "1.5.0",
          "state": {
            "_dom_classes": [],
            "_model_module": "@jupyter-widgets/controls",
            "_model_module_version": "1.5.0",
            "_model_name": "HTMLModel",
            "_view_count": null,
            "_view_module": "@jupyter-widgets/controls",
            "_view_module_version": "1.5.0",
            "_view_name": "HTMLView",
            "description": "",
            "description_tooltip": null,
            "layout": "IPY_MODEL_b38100a0e1e444d8b032287ff40a937e",
            "placeholder": "​",
            "style": "IPY_MODEL_efc702a5704b4c1f957aa01553ae8880",
            "value": "Processing: 100%"
          }
        },
        "a41ee05100b94bac9770c68e09eb9cf9": {
          "model_module": "@jupyter-widgets/controls",
          "model_name": "FloatProgressModel",
          "model_module_version": "1.5.0",
          "state": {
            "_dom_classes": [],
            "_model_module": "@jupyter-widgets/controls",
            "_model_module_version": "1.5.0",
            "_model_name": "FloatProgressModel",
            "_view_count": null,
            "_view_module": "@jupyter-widgets/controls",
            "_view_module_version": "1.5.0",
            "_view_name": "ProgressView",
            "bar_style": "",
            "description": "",
            "description_tooltip": null,
            "layout": "IPY_MODEL_9a9687b5af9e45c79b09ccdbbb966df2",
            "max": 65,
            "min": 0,
            "orientation": "horizontal",
            "style": "IPY_MODEL_f2fbd2665a0c49589abd572d2a3325a1",
            "value": 65
          }
        },
        "e28dec71c4bb49b7a20e2d0153b7370e": {
          "model_module": "@jupyter-widgets/controls",
          "model_name": "HTMLModel",
          "model_module_version": "1.5.0",
          "state": {
            "_dom_classes": [],
            "_model_module": "@jupyter-widgets/controls",
            "_model_module_version": "1.5.0",
            "_model_name": "HTMLModel",
            "_view_count": null,
            "_view_module": "@jupyter-widgets/controls",
            "_view_module_version": "1.5.0",
            "_view_name": "HTMLView",
            "description": "",
            "description_tooltip": null,
            "layout": "IPY_MODEL_c5f95fb97563473d9e175fb2522a5c12",
            "placeholder": "​",
            "style": "IPY_MODEL_85789e9d43f34e94b40d747b33af55b8",
            "value": " 65/65 [01:37&lt;00:00,  1.38s/it]"
          }
        },
        "9c135c693c8340d0be96ec23f176564d": {
          "model_module": "@jupyter-widgets/base",
          "model_name": "LayoutModel",
          "model_module_version": "1.2.0",
          "state": {
            "_model_module": "@jupyter-widgets/base",
            "_model_module_version": "1.2.0",
            "_model_name": "LayoutModel",
            "_view_count": null,
            "_view_module": "@jupyter-widgets/base",
            "_view_module_version": "1.2.0",
            "_view_name": "LayoutView",
            "align_content": null,
            "align_items": null,
            "align_self": null,
            "border": null,
            "bottom": null,
            "display": null,
            "flex": null,
            "flex_flow": null,
            "grid_area": null,
            "grid_auto_columns": null,
            "grid_auto_flow": null,
            "grid_auto_rows": null,
            "grid_column": null,
            "grid_gap": null,
            "grid_row": null,
            "grid_template_areas": null,
            "grid_template_columns": null,
            "grid_template_rows": null,
            "height": null,
            "justify_content": null,
            "justify_items": null,
            "left": null,
            "margin": null,
            "max_height": null,
            "max_width": null,
            "min_height": null,
            "min_width": null,
            "object_fit": null,
            "object_position": null,
            "order": null,
            "overflow": null,
            "overflow_x": null,
            "overflow_y": null,
            "padding": null,
            "right": null,
            "top": null,
            "visibility": "hidden",
            "width": null
          }
        },
        "b38100a0e1e444d8b032287ff40a937e": {
          "model_module": "@jupyter-widgets/base",
          "model_name": "LayoutModel",
          "model_module_version": "1.2.0",
          "state": {
            "_model_module": "@jupyter-widgets/base",
            "_model_module_version": "1.2.0",
            "_model_name": "LayoutModel",
            "_view_count": null,
            "_view_module": "@jupyter-widgets/base",
            "_view_module_version": "1.2.0",
            "_view_name": "LayoutView",
            "align_content": null,
            "align_items": null,
            "align_self": null,
            "border": null,
            "bottom": null,
            "display": null,
            "flex": null,
            "flex_flow": null,
            "grid_area": null,
            "grid_auto_columns": null,
            "grid_auto_flow": null,
            "grid_auto_rows": null,
            "grid_column": null,
            "grid_gap": null,
            "grid_row": null,
            "grid_template_areas": null,
            "grid_template_columns": null,
            "grid_template_rows": null,
            "height": null,
            "justify_content": null,
            "justify_items": null,
            "left": null,
            "margin": null,
            "max_height": null,
            "max_width": null,
            "min_height": null,
            "min_width": null,
            "object_fit": null,
            "object_position": null,
            "order": null,
            "overflow": null,
            "overflow_x": null,
            "overflow_y": null,
            "padding": null,
            "right": null,
            "top": null,
            "visibility": null,
            "width": null
          }
        },
        "efc702a5704b4c1f957aa01553ae8880": {
          "model_module": "@jupyter-widgets/controls",
          "model_name": "DescriptionStyleModel",
          "model_module_version": "1.5.0",
          "state": {
            "_model_module": "@jupyter-widgets/controls",
            "_model_module_version": "1.5.0",
            "_model_name": "DescriptionStyleModel",
            "_view_count": null,
            "_view_module": "@jupyter-widgets/base",
            "_view_module_version": "1.2.0",
            "_view_name": "StyleView",
            "description_width": ""
          }
        },
        "9a9687b5af9e45c79b09ccdbbb966df2": {
          "model_module": "@jupyter-widgets/base",
          "model_name": "LayoutModel",
          "model_module_version": "1.2.0",
          "state": {
            "_model_module": "@jupyter-widgets/base",
            "_model_module_version": "1.2.0",
            "_model_name": "LayoutModel",
            "_view_count": null,
            "_view_module": "@jupyter-widgets/base",
            "_view_module_version": "1.2.0",
            "_view_name": "LayoutView",
            "align_content": null,
            "align_items": null,
            "align_self": null,
            "border": null,
            "bottom": null,
            "display": null,
            "flex": null,
            "flex_flow": null,
            "grid_area": null,
            "grid_auto_columns": null,
            "grid_auto_flow": null,
            "grid_auto_rows": null,
            "grid_column": null,
            "grid_gap": null,
            "grid_row": null,
            "grid_template_areas": null,
            "grid_template_columns": null,
            "grid_template_rows": null,
            "height": null,
            "justify_content": null,
            "justify_items": null,
            "left": null,
            "margin": null,
            "max_height": null,
            "max_width": null,
            "min_height": null,
            "min_width": null,
            "object_fit": null,
            "object_position": null,
            "order": null,
            "overflow": null,
            "overflow_x": null,
            "overflow_y": null,
            "padding": null,
            "right": null,
            "top": null,
            "visibility": null,
            "width": null
          }
        },
        "f2fbd2665a0c49589abd572d2a3325a1": {
          "model_module": "@jupyter-widgets/controls",
          "model_name": "ProgressStyleModel",
          "model_module_version": "1.5.0",
          "state": {
            "_model_module": "@jupyter-widgets/controls",
            "_model_module_version": "1.5.0",
            "_model_name": "ProgressStyleModel",
            "_view_count": null,
            "_view_module": "@jupyter-widgets/base",
            "_view_module_version": "1.2.0",
            "_view_name": "StyleView",
            "bar_color": null,
            "description_width": ""
          }
        },
        "c5f95fb97563473d9e175fb2522a5c12": {
          "model_module": "@jupyter-widgets/base",
          "model_name": "LayoutModel",
          "model_module_version": "1.2.0",
          "state": {
            "_model_module": "@jupyter-widgets/base",
            "_model_module_version": "1.2.0",
            "_model_name": "LayoutModel",
            "_view_count": null,
            "_view_module": "@jupyter-widgets/base",
            "_view_module_version": "1.2.0",
            "_view_name": "LayoutView",
            "align_content": null,
            "align_items": null,
            "align_self": null,
            "border": null,
            "bottom": null,
            "display": null,
            "flex": null,
            "flex_flow": null,
            "grid_area": null,
            "grid_auto_columns": null,
            "grid_auto_flow": null,
            "grid_auto_rows": null,
            "grid_column": null,
            "grid_gap": null,
            "grid_row": null,
            "grid_template_areas": null,
            "grid_template_columns": null,
            "grid_template_rows": null,
            "height": null,
            "justify_content": null,
            "justify_items": null,
            "left": null,
            "margin": null,
            "max_height": null,
            "max_width": null,
            "min_height": null,
            "min_width": null,
            "object_fit": null,
            "object_position": null,
            "order": null,
            "overflow": null,
            "overflow_x": null,
            "overflow_y": null,
            "padding": null,
            "right": null,
            "top": null,
            "visibility": null,
            "width": null
          }
        },
        "85789e9d43f34e94b40d747b33af55b8": {
          "model_module": "@jupyter-widgets/controls",
          "model_name": "DescriptionStyleModel",
          "model_module_version": "1.5.0",
          "state": {
            "_model_module": "@jupyter-widgets/controls",
            "_model_module_version": "1.5.0",
            "_model_name": "DescriptionStyleModel",
            "_view_count": null,
            "_view_module": "@jupyter-widgets/base",
            "_view_module_version": "1.2.0",
            "_view_name": "StyleView",
            "description_width": ""
          }
        }
      }
    },
    "accelerator": "GPU"
  },
  "cells": [
    {
      "cell_type": "code",
      "source": [
        "# Importações Essenciais\n",
        "!pip install numpy # Install specific NumPy version\n",
        "!pip install scikit-learn\n",
        "import pandas as pd\n",
        "import numpy as np\n",
        "import seaborn as sns\n",
        "import matplotlib.pyplot as plt\n",
        "from datetime import datetime\n",
        "import warnings"
      ],
      "metadata": {
        "id": "vAbBAAEPW-Z6",
        "colab": {
          "base_uri": "https://localhost:8080/"
        },
        "outputId": "3c95edf9-bd70-4c49-d435-31f0a5616e24"
      },
      "execution_count": 1,
      "outputs": [
        {
          "output_type": "stream",
          "name": "stdout",
          "text": [
            "Requirement already satisfied: numpy in /usr/local/lib/python3.11/dist-packages (1.26.4)\n",
            "Requirement already satisfied: scikit-learn in /usr/local/lib/python3.11/dist-packages (1.4.2)\n",
            "Requirement already satisfied: numpy>=1.19.5 in /usr/local/lib/python3.11/dist-packages (from scikit-learn) (1.26.4)\n",
            "Requirement already satisfied: scipy>=1.6.0 in /usr/local/lib/python3.11/dist-packages (from scikit-learn) (1.11.4)\n",
            "Requirement already satisfied: joblib>=1.2.0 in /usr/local/lib/python3.11/dist-packages (from scikit-learn) (1.3.2)\n",
            "Requirement already satisfied: threadpoolctl>=2.0.0 in /usr/local/lib/python3.11/dist-packages (from scikit-learn) (3.6.0)\n"
          ]
        }
      ]
    },
    {
      "cell_type": "code",
      "source": [
        "# Imports do PyCaret\n",
        "!pip install --upgrade pycaret      # Upgrade PyCaret to latest version\n",
        "!pip install pycaret\n",
        "from pycaret.classification import *"
      ],
      "metadata": {
        "colab": {
          "base_uri": "https://localhost:8080/"
        },
        "id": "BFTLTJrqY7Pb",
        "outputId": "d6a8e99c-64e1-47cb-b8d5-aac565690e24"
      },
      "execution_count": 2,
      "outputs": [
        {
          "output_type": "stream",
          "name": "stdout",
          "text": [
            "Requirement already satisfied: pycaret in /usr/local/lib/python3.11/dist-packages (3.3.2)\n",
            "Requirement already satisfied: ipython>=5.5.0 in /usr/local/lib/python3.11/dist-packages (from pycaret) (7.34.0)\n",
            "Requirement already satisfied: ipywidgets>=7.6.5 in /usr/local/lib/python3.11/dist-packages (from pycaret) (7.7.1)\n",
            "Requirement already satisfied: tqdm>=4.62.0 in /usr/local/lib/python3.11/dist-packages (from pycaret) (4.67.1)\n",
            "Requirement already satisfied: numpy<1.27,>=1.21 in /usr/local/lib/python3.11/dist-packages (from pycaret) (1.26.4)\n",
            "Requirement already satisfied: pandas<2.2.0 in /usr/local/lib/python3.11/dist-packages (from pycaret) (2.1.4)\n",
            "Requirement already satisfied: jinja2>=3 in /usr/local/lib/python3.11/dist-packages (from pycaret) (3.1.6)\n",
            "Requirement already satisfied: scipy<=1.11.4,>=1.6.1 in /usr/local/lib/python3.11/dist-packages (from pycaret) (1.11.4)\n",
            "Requirement already satisfied: joblib<1.4,>=1.2.0 in /usr/local/lib/python3.11/dist-packages (from pycaret) (1.3.2)\n",
            "Requirement already satisfied: scikit-learn>1.4.0 in /usr/local/lib/python3.11/dist-packages (from pycaret) (1.4.2)\n",
            "Requirement already satisfied: pyod>=1.1.3 in /usr/local/lib/python3.11/dist-packages (from pycaret) (2.0.5)\n",
            "Requirement already satisfied: imbalanced-learn>=0.12.0 in /usr/local/lib/python3.11/dist-packages (from pycaret) (0.13.0)\n",
            "Requirement already satisfied: category-encoders>=2.4.0 in /usr/local/lib/python3.11/dist-packages (from pycaret) (2.7.0)\n",
            "Requirement already satisfied: lightgbm>=3.0.0 in /usr/local/lib/python3.11/dist-packages (from pycaret) (4.5.0)\n",
            "Requirement already satisfied: numba>=0.55.0 in /usr/local/lib/python3.11/dist-packages (from pycaret) (0.60.0)\n",
            "Requirement already satisfied: requests>=2.27.1 in /usr/local/lib/python3.11/dist-packages (from pycaret) (2.32.3)\n",
            "Requirement already satisfied: psutil>=5.9.0 in /usr/local/lib/python3.11/dist-packages (from pycaret) (5.9.5)\n",
            "Requirement already satisfied: markupsafe>=2.0.1 in /usr/local/lib/python3.11/dist-packages (from pycaret) (3.0.2)\n",
            "Requirement already satisfied: importlib-metadata>=4.12.0 in /usr/local/lib/python3.11/dist-packages (from pycaret) (8.7.0)\n",
            "Requirement already satisfied: nbformat>=4.2.0 in /usr/local/lib/python3.11/dist-packages (from pycaret) (5.10.4)\n",
            "Requirement already satisfied: cloudpickle in /usr/local/lib/python3.11/dist-packages (from pycaret) (3.1.1)\n",
            "Requirement already satisfied: deprecation>=2.1.0 in /usr/local/lib/python3.11/dist-packages (from pycaret) (2.1.0)\n",
            "Requirement already satisfied: xxhash in /usr/local/lib/python3.11/dist-packages (from pycaret) (3.5.0)\n",
            "Requirement already satisfied: matplotlib<3.8.0 in /usr/local/lib/python3.11/dist-packages (from pycaret) (3.7.5)\n",
            "Requirement already satisfied: scikit-plot>=0.3.7 in /usr/local/lib/python3.11/dist-packages (from pycaret) (0.3.7)\n",
            "Requirement already satisfied: yellowbrick>=1.4 in /usr/local/lib/python3.11/dist-packages (from pycaret) (1.5)\n",
            "Requirement already satisfied: plotly>=5.14.0 in /usr/local/lib/python3.11/dist-packages (from pycaret) (5.24.1)\n",
            "Requirement already satisfied: kaleido>=0.2.1 in /usr/local/lib/python3.11/dist-packages (from pycaret) (0.2.1)\n",
            "Requirement already satisfied: schemdraw==0.15 in /usr/local/lib/python3.11/dist-packages (from pycaret) (0.15)\n",
            "Requirement already satisfied: plotly-resampler>=0.8.3.1 in /usr/local/lib/python3.11/dist-packages (from pycaret) (0.10.0)\n",
            "Requirement already satisfied: statsmodels>=0.12.1 in /usr/local/lib/python3.11/dist-packages (from pycaret) (0.14.4)\n",
            "Requirement already satisfied: sktime==0.26.0 in /usr/local/lib/python3.11/dist-packages (from pycaret) (0.26.0)\n",
            "Requirement already satisfied: tbats>=1.1.3 in /usr/local/lib/python3.11/dist-packages (from pycaret) (1.1.3)\n",
            "Requirement already satisfied: pmdarima>=2.0.4 in /usr/local/lib/python3.11/dist-packages (from pycaret) (2.0.4)\n",
            "Requirement already satisfied: wurlitzer in /usr/local/lib/python3.11/dist-packages (from pycaret) (3.1.1)\n",
            "Requirement already satisfied: packaging in /usr/local/lib/python3.11/dist-packages (from sktime==0.26.0->pycaret) (24.2)\n",
            "Requirement already satisfied: scikit-base<0.8.0 in /usr/local/lib/python3.11/dist-packages (from sktime==0.26.0->pycaret) (0.7.8)\n",
            "Requirement already satisfied: patsy>=0.5.1 in /usr/local/lib/python3.11/dist-packages (from category-encoders>=2.4.0->pycaret) (1.0.1)\n",
            "Requirement already satisfied: sklearn-compat<1,>=0.1 in /usr/local/lib/python3.11/dist-packages (from imbalanced-learn>=0.12.0->pycaret) (0.1.3)\n",
            "Requirement already satisfied: threadpoolctl<4,>=2.0.0 in /usr/local/lib/python3.11/dist-packages (from imbalanced-learn>=0.12.0->pycaret) (3.6.0)\n",
            "Requirement already satisfied: zipp>=3.20 in /usr/local/lib/python3.11/dist-packages (from importlib-metadata>=4.12.0->pycaret) (3.21.0)\n",
            "Requirement already satisfied: setuptools>=18.5 in /usr/local/lib/python3.11/dist-packages (from ipython>=5.5.0->pycaret) (75.2.0)\n",
            "Requirement already satisfied: jedi>=0.16 in /usr/local/lib/python3.11/dist-packages (from ipython>=5.5.0->pycaret) (0.19.2)\n",
            "Requirement already satisfied: decorator in /usr/local/lib/python3.11/dist-packages (from ipython>=5.5.0->pycaret) (4.4.2)\n",
            "Requirement already satisfied: pickleshare in /usr/local/lib/python3.11/dist-packages (from ipython>=5.5.0->pycaret) (0.7.5)\n",
            "Requirement already satisfied: traitlets>=4.2 in /usr/local/lib/python3.11/dist-packages (from ipython>=5.5.0->pycaret) (5.7.1)\n",
            "Requirement already satisfied: prompt-toolkit!=3.0.0,!=3.0.1,<3.1.0,>=2.0.0 in /usr/local/lib/python3.11/dist-packages (from ipython>=5.5.0->pycaret) (3.0.51)\n",
            "Requirement already satisfied: pygments in /usr/local/lib/python3.11/dist-packages (from ipython>=5.5.0->pycaret) (2.19.1)\n",
            "Requirement already satisfied: backcall in /usr/local/lib/python3.11/dist-packages (from ipython>=5.5.0->pycaret) (0.2.0)\n",
            "Requirement already satisfied: matplotlib-inline in /usr/local/lib/python3.11/dist-packages (from ipython>=5.5.0->pycaret) (0.1.7)\n",
            "Requirement already satisfied: pexpect>4.3 in /usr/local/lib/python3.11/dist-packages (from ipython>=5.5.0->pycaret) (4.9.0)\n",
            "Requirement already satisfied: ipykernel>=4.5.1 in /usr/local/lib/python3.11/dist-packages (from ipywidgets>=7.6.5->pycaret) (6.17.1)\n",
            "Requirement already satisfied: ipython-genutils~=0.2.0 in /usr/local/lib/python3.11/dist-packages (from ipywidgets>=7.6.5->pycaret) (0.2.0)\n",
            "Requirement already satisfied: widgetsnbextension~=3.6.0 in /usr/local/lib/python3.11/dist-packages (from ipywidgets>=7.6.5->pycaret) (3.6.10)\n",
            "Requirement already satisfied: jupyterlab-widgets>=1.0.0 in /usr/local/lib/python3.11/dist-packages (from ipywidgets>=7.6.5->pycaret) (3.0.14)\n",
            "Requirement already satisfied: contourpy>=1.0.1 in /usr/local/lib/python3.11/dist-packages (from matplotlib<3.8.0->pycaret) (1.3.2)\n",
            "Requirement already satisfied: cycler>=0.10 in /usr/local/lib/python3.11/dist-packages (from matplotlib<3.8.0->pycaret) (0.12.1)\n",
            "Requirement already satisfied: fonttools>=4.22.0 in /usr/local/lib/python3.11/dist-packages (from matplotlib<3.8.0->pycaret) (4.57.0)\n",
            "Requirement already satisfied: kiwisolver>=1.0.1 in /usr/local/lib/python3.11/dist-packages (from matplotlib<3.8.0->pycaret) (1.4.8)\n",
            "Requirement already satisfied: pillow>=6.2.0 in /usr/local/lib/python3.11/dist-packages (from matplotlib<3.8.0->pycaret) (11.2.1)\n",
            "Requirement already satisfied: pyparsing>=2.3.1 in /usr/local/lib/python3.11/dist-packages (from matplotlib<3.8.0->pycaret) (3.2.3)\n",
            "Requirement already satisfied: python-dateutil>=2.7 in /usr/local/lib/python3.11/dist-packages (from matplotlib<3.8.0->pycaret) (2.9.0.post0)\n",
            "Requirement already satisfied: fastjsonschema>=2.15 in /usr/local/lib/python3.11/dist-packages (from nbformat>=4.2.0->pycaret) (2.21.1)\n",
            "Requirement already satisfied: jsonschema>=2.6 in /usr/local/lib/python3.11/dist-packages (from nbformat>=4.2.0->pycaret) (4.23.0)\n",
            "Requirement already satisfied: jupyter-core!=5.0.*,>=4.12 in /usr/local/lib/python3.11/dist-packages (from nbformat>=4.2.0->pycaret) (5.7.2)\n",
            "Requirement already satisfied: llvmlite<0.44,>=0.43.0dev0 in /usr/local/lib/python3.11/dist-packages (from numba>=0.55.0->pycaret) (0.43.0)\n",
            "Requirement already satisfied: pytz>=2020.1 in /usr/local/lib/python3.11/dist-packages (from pandas<2.2.0->pycaret) (2025.2)\n",
            "Requirement already satisfied: tzdata>=2022.1 in /usr/local/lib/python3.11/dist-packages (from pandas<2.2.0->pycaret) (2025.2)\n",
            "Requirement already satisfied: tenacity>=6.2.0 in /usr/local/lib/python3.11/dist-packages (from plotly>=5.14.0->pycaret) (9.1.2)\n",
            "Requirement already satisfied: dash>=2.9.0 in /usr/local/lib/python3.11/dist-packages (from plotly-resampler>=0.8.3.1->pycaret) (3.0.4)\n",
            "Requirement already satisfied: orjson<4.0.0,>=3.8.0 in /usr/local/lib/python3.11/dist-packages (from plotly-resampler>=0.8.3.1->pycaret) (3.10.18)\n",
            "Requirement already satisfied: tsdownsample>=0.1.3 in /usr/local/lib/python3.11/dist-packages (from plotly-resampler>=0.8.3.1->pycaret) (0.1.4.1)\n",
            "Requirement already satisfied: Cython!=0.29.18,!=0.29.31,>=0.29 in /usr/local/lib/python3.11/dist-packages (from pmdarima>=2.0.4->pycaret) (3.0.12)\n",
            "Requirement already satisfied: urllib3 in /usr/local/lib/python3.11/dist-packages (from pmdarima>=2.0.4->pycaret) (2.4.0)\n",
            "Requirement already satisfied: charset-normalizer<4,>=2 in /usr/local/lib/python3.11/dist-packages (from requests>=2.27.1->pycaret) (3.4.1)\n",
            "Requirement already satisfied: idna<4,>=2.5 in /usr/local/lib/python3.11/dist-packages (from requests>=2.27.1->pycaret) (3.10)\n",
            "Requirement already satisfied: certifi>=2017.4.17 in /usr/local/lib/python3.11/dist-packages (from requests>=2.27.1->pycaret) (2025.4.26)\n",
            "Requirement already satisfied: Flask<3.1,>=1.0.4 in /usr/local/lib/python3.11/dist-packages (from dash>=2.9.0->plotly-resampler>=0.8.3.1->pycaret) (3.0.3)\n",
            "Requirement already satisfied: Werkzeug<3.1 in /usr/local/lib/python3.11/dist-packages (from dash>=2.9.0->plotly-resampler>=0.8.3.1->pycaret) (3.0.6)\n",
            "Requirement already satisfied: typing-extensions>=4.1.1 in /usr/local/lib/python3.11/dist-packages (from dash>=2.9.0->plotly-resampler>=0.8.3.1->pycaret) (4.13.2)\n",
            "Requirement already satisfied: retrying in /usr/local/lib/python3.11/dist-packages (from dash>=2.9.0->plotly-resampler>=0.8.3.1->pycaret) (1.3.4)\n",
            "Requirement already satisfied: nest-asyncio in /usr/local/lib/python3.11/dist-packages (from dash>=2.9.0->plotly-resampler>=0.8.3.1->pycaret) (1.6.0)\n",
            "Requirement already satisfied: debugpy>=1.0 in /usr/local/lib/python3.11/dist-packages (from ipykernel>=4.5.1->ipywidgets>=7.6.5->pycaret) (1.8.0)\n",
            "Requirement already satisfied: jupyter-client>=6.1.12 in /usr/local/lib/python3.11/dist-packages (from ipykernel>=4.5.1->ipywidgets>=7.6.5->pycaret) (6.1.12)\n",
            "Requirement already satisfied: pyzmq>=17 in /usr/local/lib/python3.11/dist-packages (from ipykernel>=4.5.1->ipywidgets>=7.6.5->pycaret) (24.0.1)\n",
            "Requirement already satisfied: tornado>=6.1 in /usr/local/lib/python3.11/dist-packages (from ipykernel>=4.5.1->ipywidgets>=7.6.5->pycaret) (6.4.2)\n",
            "Requirement already satisfied: parso<0.9.0,>=0.8.4 in /usr/local/lib/python3.11/dist-packages (from jedi>=0.16->ipython>=5.5.0->pycaret) (0.8.4)\n",
            "Requirement already satisfied: attrs>=22.2.0 in /usr/local/lib/python3.11/dist-packages (from jsonschema>=2.6->nbformat>=4.2.0->pycaret) (25.3.0)\n",
            "Requirement already satisfied: jsonschema-specifications>=2023.03.6 in /usr/local/lib/python3.11/dist-packages (from jsonschema>=2.6->nbformat>=4.2.0->pycaret) (2025.4.1)\n",
            "Requirement already satisfied: referencing>=0.28.4 in /usr/local/lib/python3.11/dist-packages (from jsonschema>=2.6->nbformat>=4.2.0->pycaret) (0.36.2)\n",
            "Requirement already satisfied: rpds-py>=0.7.1 in /usr/local/lib/python3.11/dist-packages (from jsonschema>=2.6->nbformat>=4.2.0->pycaret) (0.24.0)\n",
            "Requirement already satisfied: platformdirs>=2.5 in /usr/local/lib/python3.11/dist-packages (from jupyter-core!=5.0.*,>=4.12->nbformat>=4.2.0->pycaret) (4.3.7)\n",
            "Requirement already satisfied: ptyprocess>=0.5 in /usr/local/lib/python3.11/dist-packages (from pexpect>4.3->ipython>=5.5.0->pycaret) (0.7.0)\n",
            "Requirement already satisfied: wcwidth in /usr/local/lib/python3.11/dist-packages (from prompt-toolkit!=3.0.0,!=3.0.1,<3.1.0,>=2.0.0->ipython>=5.5.0->pycaret) (0.2.13)\n",
            "Requirement already satisfied: six>=1.5 in /usr/local/lib/python3.11/dist-packages (from python-dateutil>=2.7->matplotlib<3.8.0->pycaret) (1.17.0)\n",
            "Requirement already satisfied: notebook>=4.4.1 in /usr/local/lib/python3.11/dist-packages (from widgetsnbextension~=3.6.0->ipywidgets>=7.6.5->pycaret) (6.5.7)\n",
            "Requirement already satisfied: itsdangerous>=2.1.2 in /usr/local/lib/python3.11/dist-packages (from Flask<3.1,>=1.0.4->dash>=2.9.0->plotly-resampler>=0.8.3.1->pycaret) (2.2.0)\n",
            "Requirement already satisfied: click>=8.1.3 in /usr/local/lib/python3.11/dist-packages (from Flask<3.1,>=1.0.4->dash>=2.9.0->plotly-resampler>=0.8.3.1->pycaret) (8.1.8)\n",
            "Requirement already satisfied: blinker>=1.6.2 in /usr/local/lib/python3.11/dist-packages (from Flask<3.1,>=1.0.4->dash>=2.9.0->plotly-resampler>=0.8.3.1->pycaret) (1.9.0)\n",
            "Requirement already satisfied: argon2-cffi in /usr/local/lib/python3.11/dist-packages (from notebook>=4.4.1->widgetsnbextension~=3.6.0->ipywidgets>=7.6.5->pycaret) (23.1.0)\n",
            "Requirement already satisfied: nbconvert>=5 in /usr/local/lib/python3.11/dist-packages (from notebook>=4.4.1->widgetsnbextension~=3.6.0->ipywidgets>=7.6.5->pycaret) (7.16.6)\n",
            "Requirement already satisfied: Send2Trash>=1.8.0 in /usr/local/lib/python3.11/dist-packages (from notebook>=4.4.1->widgetsnbextension~=3.6.0->ipywidgets>=7.6.5->pycaret) (1.8.3)\n",
            "Requirement already satisfied: terminado>=0.8.3 in /usr/local/lib/python3.11/dist-packages (from notebook>=4.4.1->widgetsnbextension~=3.6.0->ipywidgets>=7.6.5->pycaret) (0.18.1)\n",
            "Requirement already satisfied: prometheus-client in /usr/local/lib/python3.11/dist-packages (from notebook>=4.4.1->widgetsnbextension~=3.6.0->ipywidgets>=7.6.5->pycaret) (0.21.1)\n",
            "Requirement already satisfied: nbclassic>=0.4.7 in /usr/local/lib/python3.11/dist-packages (from notebook>=4.4.1->widgetsnbextension~=3.6.0->ipywidgets>=7.6.5->pycaret) (1.3.0)\n",
            "Requirement already satisfied: notebook-shim>=0.2.3 in /usr/local/lib/python3.11/dist-packages (from nbclassic>=0.4.7->notebook>=4.4.1->widgetsnbextension~=3.6.0->ipywidgets>=7.6.5->pycaret) (0.2.4)\n",
            "Requirement already satisfied: beautifulsoup4 in /usr/local/lib/python3.11/dist-packages (from nbconvert>=5->notebook>=4.4.1->widgetsnbextension~=3.6.0->ipywidgets>=7.6.5->pycaret) (4.13.4)\n",
            "Requirement already satisfied: bleach!=5.0.0 in /usr/local/lib/python3.11/dist-packages (from bleach[css]!=5.0.0->nbconvert>=5->notebook>=4.4.1->widgetsnbextension~=3.6.0->ipywidgets>=7.6.5->pycaret) (6.2.0)\n",
            "Requirement already satisfied: defusedxml in /usr/local/lib/python3.11/dist-packages (from nbconvert>=5->notebook>=4.4.1->widgetsnbextension~=3.6.0->ipywidgets>=7.6.5->pycaret) (0.7.1)\n",
            "Requirement already satisfied: jupyterlab-pygments in /usr/local/lib/python3.11/dist-packages (from nbconvert>=5->notebook>=4.4.1->widgetsnbextension~=3.6.0->ipywidgets>=7.6.5->pycaret) (0.3.0)\n",
            "Requirement already satisfied: mistune<4,>=2.0.3 in /usr/local/lib/python3.11/dist-packages (from nbconvert>=5->notebook>=4.4.1->widgetsnbextension~=3.6.0->ipywidgets>=7.6.5->pycaret) (3.1.3)\n",
            "Requirement already satisfied: nbclient>=0.5.0 in /usr/local/lib/python3.11/dist-packages (from nbconvert>=5->notebook>=4.4.1->widgetsnbextension~=3.6.0->ipywidgets>=7.6.5->pycaret) (0.10.2)\n",
            "Requirement already satisfied: pandocfilters>=1.4.1 in /usr/local/lib/python3.11/dist-packages (from nbconvert>=5->notebook>=4.4.1->widgetsnbextension~=3.6.0->ipywidgets>=7.6.5->pycaret) (1.5.1)\n",
            "Requirement already satisfied: argon2-cffi-bindings in /usr/local/lib/python3.11/dist-packages (from argon2-cffi->notebook>=4.4.1->widgetsnbextension~=3.6.0->ipywidgets>=7.6.5->pycaret) (21.2.0)\n",
            "Requirement already satisfied: webencodings in /usr/local/lib/python3.11/dist-packages (from bleach!=5.0.0->bleach[css]!=5.0.0->nbconvert>=5->notebook>=4.4.1->widgetsnbextension~=3.6.0->ipywidgets>=7.6.5->pycaret) (0.5.1)\n",
            "Requirement already satisfied: tinycss2<1.5,>=1.1.0 in /usr/local/lib/python3.11/dist-packages (from bleach[css]!=5.0.0->nbconvert>=5->notebook>=4.4.1->widgetsnbextension~=3.6.0->ipywidgets>=7.6.5->pycaret) (1.4.0)\n",
            "Requirement already satisfied: jupyter-server<3,>=1.8 in /usr/local/lib/python3.11/dist-packages (from notebook-shim>=0.2.3->nbclassic>=0.4.7->notebook>=4.4.1->widgetsnbextension~=3.6.0->ipywidgets>=7.6.5->pycaret) (1.16.0)\n",
            "Requirement already satisfied: cffi>=1.0.1 in /usr/local/lib/python3.11/dist-packages (from argon2-cffi-bindings->argon2-cffi->notebook>=4.4.1->widgetsnbextension~=3.6.0->ipywidgets>=7.6.5->pycaret) (1.17.1)\n",
            "Requirement already satisfied: soupsieve>1.2 in /usr/local/lib/python3.11/dist-packages (from beautifulsoup4->nbconvert>=5->notebook>=4.4.1->widgetsnbextension~=3.6.0->ipywidgets>=7.6.5->pycaret) (2.7)\n",
            "Requirement already satisfied: pycparser in /usr/local/lib/python3.11/dist-packages (from cffi>=1.0.1->argon2-cffi-bindings->argon2-cffi->notebook>=4.4.1->widgetsnbextension~=3.6.0->ipywidgets>=7.6.5->pycaret) (2.22)\n",
            "Requirement already satisfied: anyio>=3.1.0 in /usr/local/lib/python3.11/dist-packages (from jupyter-server<3,>=1.8->notebook-shim>=0.2.3->nbclassic>=0.4.7->notebook>=4.4.1->widgetsnbextension~=3.6.0->ipywidgets>=7.6.5->pycaret) (4.9.0)\n",
            "Requirement already satisfied: websocket-client in /usr/local/lib/python3.11/dist-packages (from jupyter-server<3,>=1.8->notebook-shim>=0.2.3->nbclassic>=0.4.7->notebook>=4.4.1->widgetsnbextension~=3.6.0->ipywidgets>=7.6.5->pycaret) (1.8.0)\n",
            "Requirement already satisfied: sniffio>=1.1 in /usr/local/lib/python3.11/dist-packages (from anyio>=3.1.0->jupyter-server<3,>=1.8->notebook-shim>=0.2.3->nbclassic>=0.4.7->notebook>=4.4.1->widgetsnbextension~=3.6.0->ipywidgets>=7.6.5->pycaret) (1.3.1)\n",
            "Requirement already satisfied: pycaret in /usr/local/lib/python3.11/dist-packages (3.3.2)\n",
            "Requirement already satisfied: ipython>=5.5.0 in /usr/local/lib/python3.11/dist-packages (from pycaret) (7.34.0)\n",
            "Requirement already satisfied: ipywidgets>=7.6.5 in /usr/local/lib/python3.11/dist-packages (from pycaret) (7.7.1)\n",
            "Requirement already satisfied: tqdm>=4.62.0 in /usr/local/lib/python3.11/dist-packages (from pycaret) (4.67.1)\n",
            "Requirement already satisfied: numpy<1.27,>=1.21 in /usr/local/lib/python3.11/dist-packages (from pycaret) (1.26.4)\n",
            "Requirement already satisfied: pandas<2.2.0 in /usr/local/lib/python3.11/dist-packages (from pycaret) (2.1.4)\n",
            "Requirement already satisfied: jinja2>=3 in /usr/local/lib/python3.11/dist-packages (from pycaret) (3.1.6)\n",
            "Requirement already satisfied: scipy<=1.11.4,>=1.6.1 in /usr/local/lib/python3.11/dist-packages (from pycaret) (1.11.4)\n",
            "Requirement already satisfied: joblib<1.4,>=1.2.0 in /usr/local/lib/python3.11/dist-packages (from pycaret) (1.3.2)\n",
            "Requirement already satisfied: scikit-learn>1.4.0 in /usr/local/lib/python3.11/dist-packages (from pycaret) (1.4.2)\n",
            "Requirement already satisfied: pyod>=1.1.3 in /usr/local/lib/python3.11/dist-packages (from pycaret) (2.0.5)\n",
            "Requirement already satisfied: imbalanced-learn>=0.12.0 in /usr/local/lib/python3.11/dist-packages (from pycaret) (0.13.0)\n",
            "Requirement already satisfied: category-encoders>=2.4.0 in /usr/local/lib/python3.11/dist-packages (from pycaret) (2.7.0)\n",
            "Requirement already satisfied: lightgbm>=3.0.0 in /usr/local/lib/python3.11/dist-packages (from pycaret) (4.5.0)\n",
            "Requirement already satisfied: numba>=0.55.0 in /usr/local/lib/python3.11/dist-packages (from pycaret) (0.60.0)\n",
            "Requirement already satisfied: requests>=2.27.1 in /usr/local/lib/python3.11/dist-packages (from pycaret) (2.32.3)\n",
            "Requirement already satisfied: psutil>=5.9.0 in /usr/local/lib/python3.11/dist-packages (from pycaret) (5.9.5)\n",
            "Requirement already satisfied: markupsafe>=2.0.1 in /usr/local/lib/python3.11/dist-packages (from pycaret) (3.0.2)\n",
            "Requirement already satisfied: importlib-metadata>=4.12.0 in /usr/local/lib/python3.11/dist-packages (from pycaret) (8.7.0)\n",
            "Requirement already satisfied: nbformat>=4.2.0 in /usr/local/lib/python3.11/dist-packages (from pycaret) (5.10.4)\n",
            "Requirement already satisfied: cloudpickle in /usr/local/lib/python3.11/dist-packages (from pycaret) (3.1.1)\n",
            "Requirement already satisfied: deprecation>=2.1.0 in /usr/local/lib/python3.11/dist-packages (from pycaret) (2.1.0)\n",
            "Requirement already satisfied: xxhash in /usr/local/lib/python3.11/dist-packages (from pycaret) (3.5.0)\n",
            "Requirement already satisfied: matplotlib<3.8.0 in /usr/local/lib/python3.11/dist-packages (from pycaret) (3.7.5)\n",
            "Requirement already satisfied: scikit-plot>=0.3.7 in /usr/local/lib/python3.11/dist-packages (from pycaret) (0.3.7)\n",
            "Requirement already satisfied: yellowbrick>=1.4 in /usr/local/lib/python3.11/dist-packages (from pycaret) (1.5)\n",
            "Requirement already satisfied: plotly>=5.14.0 in /usr/local/lib/python3.11/dist-packages (from pycaret) (5.24.1)\n",
            "Requirement already satisfied: kaleido>=0.2.1 in /usr/local/lib/python3.11/dist-packages (from pycaret) (0.2.1)\n",
            "Requirement already satisfied: schemdraw==0.15 in /usr/local/lib/python3.11/dist-packages (from pycaret) (0.15)\n",
            "Requirement already satisfied: plotly-resampler>=0.8.3.1 in /usr/local/lib/python3.11/dist-packages (from pycaret) (0.10.0)\n",
            "Requirement already satisfied: statsmodels>=0.12.1 in /usr/local/lib/python3.11/dist-packages (from pycaret) (0.14.4)\n",
            "Requirement already satisfied: sktime==0.26.0 in /usr/local/lib/python3.11/dist-packages (from pycaret) (0.26.0)\n",
            "Requirement already satisfied: tbats>=1.1.3 in /usr/local/lib/python3.11/dist-packages (from pycaret) (1.1.3)\n",
            "Requirement already satisfied: pmdarima>=2.0.4 in /usr/local/lib/python3.11/dist-packages (from pycaret) (2.0.4)\n",
            "Requirement already satisfied: wurlitzer in /usr/local/lib/python3.11/dist-packages (from pycaret) (3.1.1)\n",
            "Requirement already satisfied: packaging in /usr/local/lib/python3.11/dist-packages (from sktime==0.26.0->pycaret) (24.2)\n",
            "Requirement already satisfied: scikit-base<0.8.0 in /usr/local/lib/python3.11/dist-packages (from sktime==0.26.0->pycaret) (0.7.8)\n",
            "Requirement already satisfied: patsy>=0.5.1 in /usr/local/lib/python3.11/dist-packages (from category-encoders>=2.4.0->pycaret) (1.0.1)\n",
            "Requirement already satisfied: sklearn-compat<1,>=0.1 in /usr/local/lib/python3.11/dist-packages (from imbalanced-learn>=0.12.0->pycaret) (0.1.3)\n",
            "Requirement already satisfied: threadpoolctl<4,>=2.0.0 in /usr/local/lib/python3.11/dist-packages (from imbalanced-learn>=0.12.0->pycaret) (3.6.0)\n",
            "Requirement already satisfied: zipp>=3.20 in /usr/local/lib/python3.11/dist-packages (from importlib-metadata>=4.12.0->pycaret) (3.21.0)\n",
            "Requirement already satisfied: setuptools>=18.5 in /usr/local/lib/python3.11/dist-packages (from ipython>=5.5.0->pycaret) (75.2.0)\n",
            "Requirement already satisfied: jedi>=0.16 in /usr/local/lib/python3.11/dist-packages (from ipython>=5.5.0->pycaret) (0.19.2)\n",
            "Requirement already satisfied: decorator in /usr/local/lib/python3.11/dist-packages (from ipython>=5.5.0->pycaret) (4.4.2)\n",
            "Requirement already satisfied: pickleshare in /usr/local/lib/python3.11/dist-packages (from ipython>=5.5.0->pycaret) (0.7.5)\n",
            "Requirement already satisfied: traitlets>=4.2 in /usr/local/lib/python3.11/dist-packages (from ipython>=5.5.0->pycaret) (5.7.1)\n",
            "Requirement already satisfied: prompt-toolkit!=3.0.0,!=3.0.1,<3.1.0,>=2.0.0 in /usr/local/lib/python3.11/dist-packages (from ipython>=5.5.0->pycaret) (3.0.51)\n",
            "Requirement already satisfied: pygments in /usr/local/lib/python3.11/dist-packages (from ipython>=5.5.0->pycaret) (2.19.1)\n",
            "Requirement already satisfied: backcall in /usr/local/lib/python3.11/dist-packages (from ipython>=5.5.0->pycaret) (0.2.0)\n",
            "Requirement already satisfied: matplotlib-inline in /usr/local/lib/python3.11/dist-packages (from ipython>=5.5.0->pycaret) (0.1.7)\n",
            "Requirement already satisfied: pexpect>4.3 in /usr/local/lib/python3.11/dist-packages (from ipython>=5.5.0->pycaret) (4.9.0)\n",
            "Requirement already satisfied: ipykernel>=4.5.1 in /usr/local/lib/python3.11/dist-packages (from ipywidgets>=7.6.5->pycaret) (6.17.1)\n",
            "Requirement already satisfied: ipython-genutils~=0.2.0 in /usr/local/lib/python3.11/dist-packages (from ipywidgets>=7.6.5->pycaret) (0.2.0)\n",
            "Requirement already satisfied: widgetsnbextension~=3.6.0 in /usr/local/lib/python3.11/dist-packages (from ipywidgets>=7.6.5->pycaret) (3.6.10)\n",
            "Requirement already satisfied: jupyterlab-widgets>=1.0.0 in /usr/local/lib/python3.11/dist-packages (from ipywidgets>=7.6.5->pycaret) (3.0.14)\n",
            "Requirement already satisfied: contourpy>=1.0.1 in /usr/local/lib/python3.11/dist-packages (from matplotlib<3.8.0->pycaret) (1.3.2)\n",
            "Requirement already satisfied: cycler>=0.10 in /usr/local/lib/python3.11/dist-packages (from matplotlib<3.8.0->pycaret) (0.12.1)\n",
            "Requirement already satisfied: fonttools>=4.22.0 in /usr/local/lib/python3.11/dist-packages (from matplotlib<3.8.0->pycaret) (4.57.0)\n",
            "Requirement already satisfied: kiwisolver>=1.0.1 in /usr/local/lib/python3.11/dist-packages (from matplotlib<3.8.0->pycaret) (1.4.8)\n",
            "Requirement already satisfied: pillow>=6.2.0 in /usr/local/lib/python3.11/dist-packages (from matplotlib<3.8.0->pycaret) (11.2.1)\n",
            "Requirement already satisfied: pyparsing>=2.3.1 in /usr/local/lib/python3.11/dist-packages (from matplotlib<3.8.0->pycaret) (3.2.3)\n",
            "Requirement already satisfied: python-dateutil>=2.7 in /usr/local/lib/python3.11/dist-packages (from matplotlib<3.8.0->pycaret) (2.9.0.post0)\n",
            "Requirement already satisfied: fastjsonschema>=2.15 in /usr/local/lib/python3.11/dist-packages (from nbformat>=4.2.0->pycaret) (2.21.1)\n",
            "Requirement already satisfied: jsonschema>=2.6 in /usr/local/lib/python3.11/dist-packages (from nbformat>=4.2.0->pycaret) (4.23.0)\n",
            "Requirement already satisfied: jupyter-core!=5.0.*,>=4.12 in /usr/local/lib/python3.11/dist-packages (from nbformat>=4.2.0->pycaret) (5.7.2)\n",
            "Requirement already satisfied: llvmlite<0.44,>=0.43.0dev0 in /usr/local/lib/python3.11/dist-packages (from numba>=0.55.0->pycaret) (0.43.0)\n",
            "Requirement already satisfied: pytz>=2020.1 in /usr/local/lib/python3.11/dist-packages (from pandas<2.2.0->pycaret) (2025.2)\n",
            "Requirement already satisfied: tzdata>=2022.1 in /usr/local/lib/python3.11/dist-packages (from pandas<2.2.0->pycaret) (2025.2)\n",
            "Requirement already satisfied: tenacity>=6.2.0 in /usr/local/lib/python3.11/dist-packages (from plotly>=5.14.0->pycaret) (9.1.2)\n",
            "Requirement already satisfied: dash>=2.9.0 in /usr/local/lib/python3.11/dist-packages (from plotly-resampler>=0.8.3.1->pycaret) (3.0.4)\n",
            "Requirement already satisfied: orjson<4.0.0,>=3.8.0 in /usr/local/lib/python3.11/dist-packages (from plotly-resampler>=0.8.3.1->pycaret) (3.10.18)\n",
            "Requirement already satisfied: tsdownsample>=0.1.3 in /usr/local/lib/python3.11/dist-packages (from plotly-resampler>=0.8.3.1->pycaret) (0.1.4.1)\n",
            "Requirement already satisfied: Cython!=0.29.18,!=0.29.31,>=0.29 in /usr/local/lib/python3.11/dist-packages (from pmdarima>=2.0.4->pycaret) (3.0.12)\n",
            "Requirement already satisfied: urllib3 in /usr/local/lib/python3.11/dist-packages (from pmdarima>=2.0.4->pycaret) (2.4.0)\n",
            "Requirement already satisfied: charset-normalizer<4,>=2 in /usr/local/lib/python3.11/dist-packages (from requests>=2.27.1->pycaret) (3.4.1)\n",
            "Requirement already satisfied: idna<4,>=2.5 in /usr/local/lib/python3.11/dist-packages (from requests>=2.27.1->pycaret) (3.10)\n",
            "Requirement already satisfied: certifi>=2017.4.17 in /usr/local/lib/python3.11/dist-packages (from requests>=2.27.1->pycaret) (2025.4.26)\n",
            "Requirement already satisfied: Flask<3.1,>=1.0.4 in /usr/local/lib/python3.11/dist-packages (from dash>=2.9.0->plotly-resampler>=0.8.3.1->pycaret) (3.0.3)\n",
            "Requirement already satisfied: Werkzeug<3.1 in /usr/local/lib/python3.11/dist-packages (from dash>=2.9.0->plotly-resampler>=0.8.3.1->pycaret) (3.0.6)\n",
            "Requirement already satisfied: typing-extensions>=4.1.1 in /usr/local/lib/python3.11/dist-packages (from dash>=2.9.0->plotly-resampler>=0.8.3.1->pycaret) (4.13.2)\n",
            "Requirement already satisfied: retrying in /usr/local/lib/python3.11/dist-packages (from dash>=2.9.0->plotly-resampler>=0.8.3.1->pycaret) (1.3.4)\n",
            "Requirement already satisfied: nest-asyncio in /usr/local/lib/python3.11/dist-packages (from dash>=2.9.0->plotly-resampler>=0.8.3.1->pycaret) (1.6.0)\n",
            "Requirement already satisfied: debugpy>=1.0 in /usr/local/lib/python3.11/dist-packages (from ipykernel>=4.5.1->ipywidgets>=7.6.5->pycaret) (1.8.0)\n",
            "Requirement already satisfied: jupyter-client>=6.1.12 in /usr/local/lib/python3.11/dist-packages (from ipykernel>=4.5.1->ipywidgets>=7.6.5->pycaret) (6.1.12)\n",
            "Requirement already satisfied: pyzmq>=17 in /usr/local/lib/python3.11/dist-packages (from ipykernel>=4.5.1->ipywidgets>=7.6.5->pycaret) (24.0.1)\n",
            "Requirement already satisfied: tornado>=6.1 in /usr/local/lib/python3.11/dist-packages (from ipykernel>=4.5.1->ipywidgets>=7.6.5->pycaret) (6.4.2)\n",
            "Requirement already satisfied: parso<0.9.0,>=0.8.4 in /usr/local/lib/python3.11/dist-packages (from jedi>=0.16->ipython>=5.5.0->pycaret) (0.8.4)\n",
            "Requirement already satisfied: attrs>=22.2.0 in /usr/local/lib/python3.11/dist-packages (from jsonschema>=2.6->nbformat>=4.2.0->pycaret) (25.3.0)\n",
            "Requirement already satisfied: jsonschema-specifications>=2023.03.6 in /usr/local/lib/python3.11/dist-packages (from jsonschema>=2.6->nbformat>=4.2.0->pycaret) (2025.4.1)\n",
            "Requirement already satisfied: referencing>=0.28.4 in /usr/local/lib/python3.11/dist-packages (from jsonschema>=2.6->nbformat>=4.2.0->pycaret) (0.36.2)\n",
            "Requirement already satisfied: rpds-py>=0.7.1 in /usr/local/lib/python3.11/dist-packages (from jsonschema>=2.6->nbformat>=4.2.0->pycaret) (0.24.0)\n",
            "Requirement already satisfied: platformdirs>=2.5 in /usr/local/lib/python3.11/dist-packages (from jupyter-core!=5.0.*,>=4.12->nbformat>=4.2.0->pycaret) (4.3.7)\n",
            "Requirement already satisfied: ptyprocess>=0.5 in /usr/local/lib/python3.11/dist-packages (from pexpect>4.3->ipython>=5.5.0->pycaret) (0.7.0)\n",
            "Requirement already satisfied: wcwidth in /usr/local/lib/python3.11/dist-packages (from prompt-toolkit!=3.0.0,!=3.0.1,<3.1.0,>=2.0.0->ipython>=5.5.0->pycaret) (0.2.13)\n",
            "Requirement already satisfied: six>=1.5 in /usr/local/lib/python3.11/dist-packages (from python-dateutil>=2.7->matplotlib<3.8.0->pycaret) (1.17.0)\n",
            "Requirement already satisfied: notebook>=4.4.1 in /usr/local/lib/python3.11/dist-packages (from widgetsnbextension~=3.6.0->ipywidgets>=7.6.5->pycaret) (6.5.7)\n",
            "Requirement already satisfied: itsdangerous>=2.1.2 in /usr/local/lib/python3.11/dist-packages (from Flask<3.1,>=1.0.4->dash>=2.9.0->plotly-resampler>=0.8.3.1->pycaret) (2.2.0)\n",
            "Requirement already satisfied: click>=8.1.3 in /usr/local/lib/python3.11/dist-packages (from Flask<3.1,>=1.0.4->dash>=2.9.0->plotly-resampler>=0.8.3.1->pycaret) (8.1.8)\n",
            "Requirement already satisfied: blinker>=1.6.2 in /usr/local/lib/python3.11/dist-packages (from Flask<3.1,>=1.0.4->dash>=2.9.0->plotly-resampler>=0.8.3.1->pycaret) (1.9.0)\n",
            "Requirement already satisfied: argon2-cffi in /usr/local/lib/python3.11/dist-packages (from notebook>=4.4.1->widgetsnbextension~=3.6.0->ipywidgets>=7.6.5->pycaret) (23.1.0)\n",
            "Requirement already satisfied: nbconvert>=5 in /usr/local/lib/python3.11/dist-packages (from notebook>=4.4.1->widgetsnbextension~=3.6.0->ipywidgets>=7.6.5->pycaret) (7.16.6)\n",
            "Requirement already satisfied: Send2Trash>=1.8.0 in /usr/local/lib/python3.11/dist-packages (from notebook>=4.4.1->widgetsnbextension~=3.6.0->ipywidgets>=7.6.5->pycaret) (1.8.3)\n",
            "Requirement already satisfied: terminado>=0.8.3 in /usr/local/lib/python3.11/dist-packages (from notebook>=4.4.1->widgetsnbextension~=3.6.0->ipywidgets>=7.6.5->pycaret) (0.18.1)\n",
            "Requirement already satisfied: prometheus-client in /usr/local/lib/python3.11/dist-packages (from notebook>=4.4.1->widgetsnbextension~=3.6.0->ipywidgets>=7.6.5->pycaret) (0.21.1)\n",
            "Requirement already satisfied: nbclassic>=0.4.7 in /usr/local/lib/python3.11/dist-packages (from notebook>=4.4.1->widgetsnbextension~=3.6.0->ipywidgets>=7.6.5->pycaret) (1.3.0)\n",
            "Requirement already satisfied: notebook-shim>=0.2.3 in /usr/local/lib/python3.11/dist-packages (from nbclassic>=0.4.7->notebook>=4.4.1->widgetsnbextension~=3.6.0->ipywidgets>=7.6.5->pycaret) (0.2.4)\n",
            "Requirement already satisfied: beautifulsoup4 in /usr/local/lib/python3.11/dist-packages (from nbconvert>=5->notebook>=4.4.1->widgetsnbextension~=3.6.0->ipywidgets>=7.6.5->pycaret) (4.13.4)\n",
            "Requirement already satisfied: bleach!=5.0.0 in /usr/local/lib/python3.11/dist-packages (from bleach[css]!=5.0.0->nbconvert>=5->notebook>=4.4.1->widgetsnbextension~=3.6.0->ipywidgets>=7.6.5->pycaret) (6.2.0)\n",
            "Requirement already satisfied: defusedxml in /usr/local/lib/python3.11/dist-packages (from nbconvert>=5->notebook>=4.4.1->widgetsnbextension~=3.6.0->ipywidgets>=7.6.5->pycaret) (0.7.1)\n",
            "Requirement already satisfied: jupyterlab-pygments in /usr/local/lib/python3.11/dist-packages (from nbconvert>=5->notebook>=4.4.1->widgetsnbextension~=3.6.0->ipywidgets>=7.6.5->pycaret) (0.3.0)\n",
            "Requirement already satisfied: mistune<4,>=2.0.3 in /usr/local/lib/python3.11/dist-packages (from nbconvert>=5->notebook>=4.4.1->widgetsnbextension~=3.6.0->ipywidgets>=7.6.5->pycaret) (3.1.3)\n",
            "Requirement already satisfied: nbclient>=0.5.0 in /usr/local/lib/python3.11/dist-packages (from nbconvert>=5->notebook>=4.4.1->widgetsnbextension~=3.6.0->ipywidgets>=7.6.5->pycaret) (0.10.2)\n",
            "Requirement already satisfied: pandocfilters>=1.4.1 in /usr/local/lib/python3.11/dist-packages (from nbconvert>=5->notebook>=4.4.1->widgetsnbextension~=3.6.0->ipywidgets>=7.6.5->pycaret) (1.5.1)\n",
            "Requirement already satisfied: argon2-cffi-bindings in /usr/local/lib/python3.11/dist-packages (from argon2-cffi->notebook>=4.4.1->widgetsnbextension~=3.6.0->ipywidgets>=7.6.5->pycaret) (21.2.0)\n",
            "Requirement already satisfied: webencodings in /usr/local/lib/python3.11/dist-packages (from bleach!=5.0.0->bleach[css]!=5.0.0->nbconvert>=5->notebook>=4.4.1->widgetsnbextension~=3.6.0->ipywidgets>=7.6.5->pycaret) (0.5.1)\n",
            "Requirement already satisfied: tinycss2<1.5,>=1.1.0 in /usr/local/lib/python3.11/dist-packages (from bleach[css]!=5.0.0->nbconvert>=5->notebook>=4.4.1->widgetsnbextension~=3.6.0->ipywidgets>=7.6.5->pycaret) (1.4.0)\n",
            "Requirement already satisfied: jupyter-server<3,>=1.8 in /usr/local/lib/python3.11/dist-packages (from notebook-shim>=0.2.3->nbclassic>=0.4.7->notebook>=4.4.1->widgetsnbextension~=3.6.0->ipywidgets>=7.6.5->pycaret) (1.16.0)\n",
            "Requirement already satisfied: cffi>=1.0.1 in /usr/local/lib/python3.11/dist-packages (from argon2-cffi-bindings->argon2-cffi->notebook>=4.4.1->widgetsnbextension~=3.6.0->ipywidgets>=7.6.5->pycaret) (1.17.1)\n",
            "Requirement already satisfied: soupsieve>1.2 in /usr/local/lib/python3.11/dist-packages (from beautifulsoup4->nbconvert>=5->notebook>=4.4.1->widgetsnbextension~=3.6.0->ipywidgets>=7.6.5->pycaret) (2.7)\n",
            "Requirement already satisfied: pycparser in /usr/local/lib/python3.11/dist-packages (from cffi>=1.0.1->argon2-cffi-bindings->argon2-cffi->notebook>=4.4.1->widgetsnbextension~=3.6.0->ipywidgets>=7.6.5->pycaret) (2.22)\n",
            "Requirement already satisfied: anyio>=3.1.0 in /usr/local/lib/python3.11/dist-packages (from jupyter-server<3,>=1.8->notebook-shim>=0.2.3->nbclassic>=0.4.7->notebook>=4.4.1->widgetsnbextension~=3.6.0->ipywidgets>=7.6.5->pycaret) (4.9.0)\n",
            "Requirement already satisfied: websocket-client in /usr/local/lib/python3.11/dist-packages (from jupyter-server<3,>=1.8->notebook-shim>=0.2.3->nbclassic>=0.4.7->notebook>=4.4.1->widgetsnbextension~=3.6.0->ipywidgets>=7.6.5->pycaret) (1.8.0)\n",
            "Requirement already satisfied: sniffio>=1.1 in /usr/local/lib/python3.11/dist-packages (from anyio>=3.1.0->jupyter-server<3,>=1.8->notebook-shim>=0.2.3->nbclassic>=0.4.7->notebook>=4.4.1->widgetsnbextension~=3.6.0->ipywidgets>=7.6.5->pycaret) (1.3.1)\n"
          ]
        }
      ]
    },
    {
      "cell_type": "code",
      "source": [
        "# Configurações do Pandas e Warnings\n",
        "pd.set_option('display.max_columns', None) # Mostrar todas as colunas\n",
        "warnings.filterwarnings(\"ignore\") # Ignorar avisos"
      ],
      "metadata": {
        "id": "I-3Kvf-MY6nY"
      },
      "execution_count": 3,
      "outputs": []
    },
    {
      "cell_type": "markdown",
      "source": [
        "# Etapa 1: Carregamento dos Dados"
      ],
      "metadata": {
        "id": "trudm0xJXpqm"
      }
    },
    {
      "cell_type": "code",
      "source": [
        "print(\"=\"*30)\n",
        "print(\"ETAPA 1: CARREGAMENTO DOS DADOS\")\n",
        "print(\"=\"*30)\n",
        "print(\"Carregando dados...\")"
      ],
      "metadata": {
        "colab": {
          "base_uri": "https://localhost:8080/"
        },
        "id": "bhOO_GfBXn2h",
        "outputId": "0b78b922-33ed-4e31-87b5-fcc636377a44"
      },
      "execution_count": 4,
      "outputs": [
        {
          "output_type": "stream",
          "name": "stdout",
          "text": [
            "==============================\n",
            "ETAPA 1: CARREGAMENTO DOS DADOS\n",
            "==============================\n",
            "Carregando dados...\n"
          ]
        }
      ]
    },
    {
      "cell_type": "code",
      "source": [
        "# Tentar carregar os arquivos CSV\n",
        "# Presume-se que os arquivos estão no mesmo diretório do notebook ou foram carregados no Colab\n",
        "try:\n",
        "    df_treino_completo = pd.read_csv('data.csv', encoding='utf-8')\n",
        "    df_teste_final = pd.read_csv('Xtest.csv', encoding='utf-8') # Dados para previsão final (sem a coluna alvo)\n",
        "    print(\"Dados carregados com sucesso.\")\n",
        "    print(\"Shape Dados de Treino:\", df_treino_completo.shape)\n",
        "    print(\"Shape Dados de Teste Final (Xtest.csv):\", df_teste_final.shape)\n",
        "except FileNotFoundError:\n",
        "    print(\"\\nErro: Arquivo(s) CSV não encontrado(s).\")\n",
        "    print(\"Certifique-se de que 'data.csv' e 'Xtest.csv' estão no ambiente do Colab.\")\n",
        "    print(\"Você pode carregá-los usando o painel 'Arquivos' à esquerda.\")\n",
        "    # Interromper a execução se os arquivos não forem encontrados\n",
        "    exit()"
      ],
      "metadata": {
        "colab": {
          "base_uri": "https://localhost:8080/"
        },
        "id": "8fDHpULhX2Qy",
        "outputId": "88e2aa8b-75f0-4bef-e190-71883e2c41d3"
      },
      "execution_count": 5,
      "outputs": [
        {
          "output_type": "stream",
          "name": "stdout",
          "text": [
            "Dados carregados com sucesso.\n",
            "Shape Dados de Treino: (2240, 29)\n",
            "Shape Dados de Teste Final (Xtest.csv): (110, 25)\n"
          ]
        }
      ]
    },
    {
      "cell_type": "code",
      "source": [
        "# Exibir as primeiras linhas dos dados de treino\n",
        "print(\"\\nCabeçalho dos Dados de Treino:\")\n",
        "print(df_treino_completo.head())\n",
        "print(\"\\n\" + \"=\"*60 + \"\\n\")"
      ],
      "metadata": {
        "colab": {
          "base_uri": "https://localhost:8080/"
        },
        "id": "YYFWtWKbX8nJ",
        "outputId": "0b26ba0e-368f-40e6-9d20-2cbb356a8795"
      },
      "execution_count": 6,
      "outputs": [
        {
          "output_type": "stream",
          "name": "stdout",
          "text": [
            "\n",
            "Cabeçalho dos Dados de Treino:\n",
            "     ID  Year_Birth   Education Marital_Status   Income  Kidhome  Teenhome  \\\n",
            "0  5524        1957  Graduation         Single  58138.0        0         0   \n",
            "1  2174        1954  Graduation         Single  46344.0        1         1   \n",
            "2  4141        1965  Graduation       Together  71613.0        0         0   \n",
            "3  6182        1984  Graduation       Together  26646.0        1         0   \n",
            "4  5324        1981         PhD        Married  58293.0        1         0   \n",
            "\n",
            "  Dt_Customer  Recency  MntWines  MntFruits  MntMeatProducts  MntFishProducts  \\\n",
            "0  2012-09-04       58       635         88              546              172   \n",
            "1  2014-03-08       38        11          1                6                2   \n",
            "2  2013-08-21       26       426         49              127              111   \n",
            "3  2014-02-10       26        11          4               20               10   \n",
            "4  2014-01-19       94       173         43              118               46   \n",
            "\n",
            "   MntSweetProducts  MntGoldProds  NumDealsPurchases  NumWebPurchases  \\\n",
            "0                88            88                  3                8   \n",
            "1                 1             6                  2                1   \n",
            "2                21            42                  1                8   \n",
            "3                 3             5                  2                2   \n",
            "4                27            15                  5                5   \n",
            "\n",
            "   NumCatalogPurchases  NumStorePurchases  NumWebVisitsMonth  AcceptedCmp3  \\\n",
            "0                   10                  4                  7             0   \n",
            "1                    1                  2                  5             0   \n",
            "2                    2                 10                  4             0   \n",
            "3                    0                  4                  6             0   \n",
            "4                    3                  6                  5             0   \n",
            "\n",
            "   AcceptedCmp4  AcceptedCmp5  AcceptedCmp1  AcceptedCmp2  Complain  \\\n",
            "0             0             0             0             0         0   \n",
            "1             0             0             0             0         0   \n",
            "2             0             0             0             0         0   \n",
            "3             0             0             0             0         0   \n",
            "4             0             0             0             0         0   \n",
            "\n",
            "   Z_CostContact  Z_Revenue  Response  \n",
            "0              3         11         1  \n",
            "1              3         11         0  \n",
            "2              3         11         0  \n",
            "3              3         11         0  \n",
            "4              3         11         0  \n",
            "\n",
            "============================================================\n",
            "\n"
          ]
        }
      ]
    },
    {
      "cell_type": "markdown",
      "source": [
        "# Etapa 2: Limpeza e Pré-processamento dos Dados (Aplicado aos Dados de Treino)"
      ],
      "metadata": {
        "id": "0w3UUp7rX7Qn"
      }
    },
    {
      "cell_type": "code",
      "source": [
        "print(\"=\"*30)\n",
        "print(\"ETAPA 2: LIMPEZA E PRÉ-PROCESSAMENTO (DADOS DE TREINO)\")\n",
        "print(\"=\"*30)"
      ],
      "metadata": {
        "colab": {
          "base_uri": "https://localhost:8080/"
        },
        "id": "HVdTY2rbYAAC",
        "outputId": "05ca0328-ec96-431b-cec2-7090187690fc"
      },
      "execution_count": 7,
      "outputs": [
        {
          "output_type": "stream",
          "name": "stdout",
          "text": [
            "==============================\n",
            "ETAPA 2: LIMPEZA E PRÉ-PROCESSAMENTO (DADOS DE TREINO)\n",
            "==============================\n"
          ]
        }
      ]
    },
    {
      "cell_type": "code",
      "source": [
        "# Criar uma cópia para limpeza\n",
        "df_limpo = df_treino_completo.copy()"
      ],
      "metadata": {
        "id": "OBcofV-2YKoR"
      },
      "execution_count": 8,
      "outputs": []
    },
    {
      "cell_type": "code",
      "source": [
        "# --- 2.1 Remover Colunas Irrelevantes e Constantes ---\n",
        "print(\"Removendo colunas ID, Z_CostContact, Z_Revenue...\")\n",
        "colunas_para_remover = ['ID', 'Z_CostContact', 'Z_Revenue']\n",
        "df_limpo.drop(colunas_para_remover, axis=1, inplace=True, errors='ignore')\n",
        "print(f\"Colunas removidas. Shape atual: {df_limpo.shape}\")"
      ],
      "metadata": {
        "colab": {
          "base_uri": "https://localhost:8080/"
        },
        "id": "Q4dfLy80YKfr",
        "outputId": "a057241e-2575-4684-ff36-74bcb292ecaa"
      },
      "execution_count": 9,
      "outputs": [
        {
          "output_type": "stream",
          "name": "stdout",
          "text": [
            "Removendo colunas ID, Z_CostContact, Z_Revenue...\n",
            "Colunas removidas. Shape atual: (2240, 26)\n"
          ]
        }
      ]
    },
    {
      "cell_type": "code",
      "source": [
        "# --- 2.2 Tratar Valores Ausentes (NaN) na Coluna 'Income' ---\n",
        "print(f\"\\nLinhas iniciais: {df_limpo.shape[0]}\")\n",
        "print(f\"Número de NaNs em 'Income': {df_limpo['Income'].isna().sum()}\")\n",
        "# Estratégia: Remover linhas com NaN em 'Income', pois representam uma pequena porcentagem\n",
        "# e, com base na análise de referência, são majoritariamente de não-respondentes.\n",
        "df_limpo.dropna(subset=['Income'], axis=0, inplace=True)\n",
        "print(f\"Linhas após remover NaNs em 'Income': {df_limpo.shape[0]}\")\n",
        "print(\"NaNs tratados.\")"
      ],
      "metadata": {
        "colab": {
          "base_uri": "https://localhost:8080/"
        },
        "id": "0zrIRkSRYOVm",
        "outputId": "8011248e-80cd-49b6-8d51-e2fe30fe333e"
      },
      "execution_count": 10,
      "outputs": [
        {
          "output_type": "stream",
          "name": "stdout",
          "text": [
            "\n",
            "Linhas iniciais: 2240\n",
            "Número de NaNs em 'Income': 24\n",
            "Linhas após remover NaNs em 'Income': 2216\n",
            "NaNs tratados.\n"
          ]
        }
      ]
    },
    {
      "cell_type": "code",
      "source": [
        "# --- 2.3 Corrigir Inconsistências em 'Marital_Status' ---\n",
        "print(\"\\nCorrigindo valores inconsistentes em 'Marital_Status'...\")\n",
        "# Agrupar categorias raras/ambíguas em 'Single' (ou outra categoria apropriada)\n",
        "df_limpo['Marital_Status'] = df_limpo['Marital_Status'].replace({'Alone': 'Single', 'Absurd': 'Single', 'YOLO': 'Single'})\n",
        "print(\"Valores únicos de 'Marital_Status' após correção:\", df_limpo['Marital_Status'].unique())"
      ],
      "metadata": {
        "colab": {
          "base_uri": "https://localhost:8080/"
        },
        "id": "5E8fQB76YOMT",
        "outputId": "8e11d414-bd77-455d-9c8d-c8021c338c32"
      },
      "execution_count": 11,
      "outputs": [
        {
          "output_type": "stream",
          "name": "stdout",
          "text": [
            "\n",
            "Corrigindo valores inconsistentes em 'Marital_Status'...\n",
            "Valores únicos de 'Marital_Status' após correção: ['Single' 'Together' 'Married' 'Divorced' 'Widow']\n"
          ]
        }
      ]
    },
    {
      "cell_type": "code",
      "source": [
        "# --- 2.4 Ajustar Tipos de Dados ---\n",
        "print(\"\\nAjustando tipos de dados...\")\n",
        "df_limpo = df_limpo.convert_dtypes() # Tenta inferir os melhores tipos possíveis (Int64, string, etc.)"
      ],
      "metadata": {
        "colab": {
          "base_uri": "https://localhost:8080/"
        },
        "id": "TglPzm_qYRyA",
        "outputId": "5fc421a9-c9d7-4f87-f1d5-37cadd6713f8"
      },
      "execution_count": 12,
      "outputs": [
        {
          "output_type": "stream",
          "name": "stdout",
          "text": [
            "\n",
            "Ajustando tipos de dados...\n"
          ]
        }
      ]
    },
    {
      "cell_type": "code",
      "source": [
        "# Ajustes específicos\n",
        "df_limpo['Dt_Customer'] = pd.to_datetime(df_limpo['Dt_Customer'])\n",
        "df_limpo['Response'] = df_limpo['Response'].astype('int') # PyCaret prefere target como int ou string\n",
        "df_limpo['Income'] = df_limpo['Income'].astype('float64') # Garantir que Income seja float para cálculos\n",
        "print(\"Tipos de dados ajustados.\")\n",
        "print(\"\\nInformações dos Dados Limpos:\")\n",
        "df_limpo.info()\n",
        "print(\"\\n\" + \"=\"*60 + \"\\n\")"
      ],
      "metadata": {
        "colab": {
          "base_uri": "https://localhost:8080/"
        },
        "id": "awbq8FpYYN23",
        "outputId": "07617d9e-b7d1-4e44-8246-8690c9e3bc51"
      },
      "execution_count": 13,
      "outputs": [
        {
          "output_type": "stream",
          "name": "stdout",
          "text": [
            "Tipos de dados ajustados.\n",
            "\n",
            "Informações dos Dados Limpos:\n",
            "<class 'pandas.core.frame.DataFrame'>\n",
            "Index: 2216 entries, 0 to 2239\n",
            "Data columns (total 26 columns):\n",
            " #   Column               Non-Null Count  Dtype         \n",
            "---  ------               --------------  -----         \n",
            " 0   Year_Birth           2216 non-null   Int64         \n",
            " 1   Education            2216 non-null   string        \n",
            " 2   Marital_Status       2216 non-null   string        \n",
            " 3   Income               2216 non-null   float64       \n",
            " 4   Kidhome              2216 non-null   Int64         \n",
            " 5   Teenhome             2216 non-null   Int64         \n",
            " 6   Dt_Customer          2216 non-null   datetime64[ns]\n",
            " 7   Recency              2216 non-null   Int64         \n",
            " 8   MntWines             2216 non-null   Int64         \n",
            " 9   MntFruits            2216 non-null   Int64         \n",
            " 10  MntMeatProducts      2216 non-null   Int64         \n",
            " 11  MntFishProducts      2216 non-null   Int64         \n",
            " 12  MntSweetProducts     2216 non-null   Int64         \n",
            " 13  MntGoldProds         2216 non-null   Int64         \n",
            " 14  NumDealsPurchases    2216 non-null   Int64         \n",
            " 15  NumWebPurchases      2216 non-null   Int64         \n",
            " 16  NumCatalogPurchases  2216 non-null   Int64         \n",
            " 17  NumStorePurchases    2216 non-null   Int64         \n",
            " 18  NumWebVisitsMonth    2216 non-null   Int64         \n",
            " 19  AcceptedCmp3         2216 non-null   Int64         \n",
            " 20  AcceptedCmp4         2216 non-null   Int64         \n",
            " 21  AcceptedCmp5         2216 non-null   Int64         \n",
            " 22  AcceptedCmp1         2216 non-null   Int64         \n",
            " 23  AcceptedCmp2         2216 non-null   Int64         \n",
            " 24  Complain             2216 non-null   Int64         \n",
            " 25  Response             2216 non-null   int64         \n",
            "dtypes: Int64(21), datetime64[ns](1), float64(1), int64(1), string(2)\n",
            "memory usage: 512.9 KB\n",
            "\n",
            "============================================================\n",
            "\n"
          ]
        }
      ]
    },
    {
      "cell_type": "markdown",
      "source": [
        "# Etapa 3: Engenharia de Atributos (Aplicada aos Dados de Treino)"
      ],
      "metadata": {
        "id": "6uDsk1q6Zzyu"
      }
    },
    {
      "cell_type": "code",
      "source": [
        "print(\"=\"*30)\n",
        "print(\"ETAPA 3: ENGENHARIA DE ATRIBUTOS (DADOS DE TREINO)\")\n",
        "print(\"=\"*30)"
      ],
      "metadata": {
        "colab": {
          "base_uri": "https://localhost:8080/"
        },
        "id": "3--UbI76aRDe",
        "outputId": "426c0dbf-e958-43f7-b5f8-382655ae13d0"
      },
      "execution_count": 14,
      "outputs": [
        {
          "output_type": "stream",
          "name": "stdout",
          "text": [
            "==============================\n",
            "ETAPA 3: ENGENHARIA DE ATRIBUTOS (DADOS DE TREINO)\n",
            "==============================\n"
          ]
        }
      ]
    },
    {
      "cell_type": "code",
      "source": [
        "# Criar uma cópia para engenharia de atributos\n",
        "df_eng = df_limpo.copy()"
      ],
      "metadata": {
        "id": "Fbas1B3nb1cl"
      },
      "execution_count": 15,
      "outputs": []
    },
    {
      "cell_type": "code",
      "source": [
        "# --- 3.1 Calcular Idade ---\n",
        "print(\"Calculando 'Age' a partir de 'Year_Birth'...\")\n",
        "ano_atual = datetime.now().year\n",
        "df_eng['Age'] = ano_atual - df_eng['Year_Birth']\n",
        "# Remover coluna original\n",
        "df_eng.drop('Year_Birth', axis=1, inplace=True, errors='ignore')\n",
        "print(\"'Age' calculada, 'Year_Birth' removida.\")"
      ],
      "metadata": {
        "colab": {
          "base_uri": "https://localhost:8080/"
        },
        "id": "d3AgED-jb1TY",
        "outputId": "9bfc7100-9525-41fc-c98c-0c74604c6977"
      },
      "execution_count": 16,
      "outputs": [
        {
          "output_type": "stream",
          "name": "stdout",
          "text": [
            "Calculando 'Age' a partir de 'Year_Birth'...\n",
            "'Age' calculada, 'Year_Birth' removida.\n"
          ]
        }
      ]
    },
    {
      "cell_type": "code",
      "source": [
        "# --- 3.2 Calcular Tempo como Cliente (em anos) ---\n",
        "# Usar a data máxima do dataset como referência para reprodutibilidade\n",
        "print(\"\\nCalculando 'Time_Customer' (em anos) a partir de 'Dt_Customer'...\")\n",
        "data_maxima = df_eng['Dt_Customer'].max()\n",
        "df_eng['Time_Customer'] = (data_maxima - df_eng['Dt_Customer']).dt.days / 365.25\n",
        "# Remover coluna original\n",
        "df_eng.drop('Dt_Customer', axis=1, inplace=True, errors='ignore')\n",
        "print(\"'Time_Customer' calculado, 'Dt_Customer' removida.\")"
      ],
      "metadata": {
        "colab": {
          "base_uri": "https://localhost:8080/"
        },
        "id": "IwUYl-2zb5ai",
        "outputId": "3a9d574d-7146-4c89-e7d3-936e07186a45"
      },
      "execution_count": 17,
      "outputs": [
        {
          "output_type": "stream",
          "name": "stdout",
          "text": [
            "\n",
            "Calculando 'Time_Customer' (em anos) a partir de 'Dt_Customer'...\n",
            "'Time_Customer' calculado, 'Dt_Customer' removida.\n"
          ]
        }
      ]
    },
    {
      "cell_type": "code",
      "source": [
        "# --- 3.3 Criar Novas Features ---\n",
        "print(\"\\nCriando novas features...\")\n",
        "# Total de filhos/adolescentes em casa\n",
        "df_eng['Children_Total'] = df_eng['Kidhome'] + df_eng['Teenhome']\n",
        "print(\"- Feature 'Children_Total' criada.\")"
      ],
      "metadata": {
        "colab": {
          "base_uri": "https://localhost:8080/"
        },
        "id": "bwFt9VEOb5BQ",
        "outputId": "d669393b-afb3-4dcb-8667-bef6f1f6337c"
      },
      "execution_count": 18,
      "outputs": [
        {
          "output_type": "stream",
          "name": "stdout",
          "text": [
            "\n",
            "Criando novas features...\n",
            "- Feature 'Children_Total' criada.\n"
          ]
        }
      ]
    },
    {
      "cell_type": "code",
      "source": [
        "# Gasto total em produtos\n",
        "colunas_mnt = [col for col in df_eng.columns if 'Mnt' in col]\n",
        "df_eng['Total_Spending'] = df_eng[colunas_mnt].sum(axis=1)\n",
        "print(\"- Feature 'Total_Spending' criada.\")"
      ],
      "metadata": {
        "colab": {
          "base_uri": "https://localhost:8080/"
        },
        "id": "1vWtH8Irb8iV",
        "outputId": "70fa0996-2305-499d-a9b0-ffe140860df6"
      },
      "execution_count": 19,
      "outputs": [
        {
          "output_type": "stream",
          "name": "stdout",
          "text": [
            "- Feature 'Total_Spending' criada.\n"
          ]
        }
      ]
    },
    {
      "cell_type": "code",
      "source": [
        "# Total de compras realizadas\n",
        "colunas_purch = [col for col in df_eng.columns if 'Purchases' in col]\n",
        "df_eng['Total_Purchases'] = df_eng[colunas_purch].sum(axis=1)\n",
        "print(\"- Feature 'Total_Purchases' criada.\")"
      ],
      "metadata": {
        "colab": {
          "base_uri": "https://localhost:8080/"
        },
        "id": "atT--Ttvb8Wl",
        "outputId": "82d26dcd-d87d-4db1-903b-1362f7a984bb"
      },
      "execution_count": 20,
      "outputs": [
        {
          "output_type": "stream",
          "name": "stdout",
          "text": [
            "- Feature 'Total_Purchases' criada.\n"
          ]
        }
      ]
    },
    {
      "cell_type": "code",
      "source": [
        "# Proporção de aceitação de campanhas anteriores (útil se houver muitas campanhas)\n",
        "# Exemplo: Soma das AcceptedCmp1 a AcceptedCmp5\n",
        "cmp_cols = ['AcceptedCmp1', 'AcceptedCmp2', 'AcceptedCmp3', 'AcceptedCmp4', 'AcceptedCmp5']\n",
        "df_eng['Total_Acc_Cmp'] = df_eng[cmp_cols].sum(axis=1)\n",
        "print(\"- Feature 'Total_Acc_Cmp' criada.\")"
      ],
      "metadata": {
        "colab": {
          "base_uri": "https://localhost:8080/"
        },
        "id": "Ume1g8Y0b8PS",
        "outputId": "7deebdd2-46e9-460c-887e-7871e8ab6ecb"
      },
      "execution_count": 21,
      "outputs": [
        {
          "output_type": "stream",
          "name": "stdout",
          "text": [
            "- Feature 'Total_Acc_Cmp' criada.\n"
          ]
        }
      ]
    },
    {
      "cell_type": "code",
      "source": [
        "# Renda per capita (considerando status marital para estimar tamanho da família - simplificado)\n",
        "# Mapeamento simplificado: Single/Divorced/Widow -> 1; Together/Married -> 2\n",
        "# Poderia ser mais complexo considerando filhos, mas vamos manter simples\n",
        "def family_size_approx(status):\n",
        "    if status in ['Single', 'Divorced', 'Widow']:\n",
        "        return 1\n",
        "    else: # Together, Married\n",
        "        return 2\n",
        "\n",
        "df_eng['Family_Size_Approx'] = df_eng['Marital_Status'].apply(family_size_approx)\n",
        "df_eng['Income_Per_Capita'] = df_eng['Income'] / (df_eng['Family_Size_Approx'] + df_eng['Children_Total'])\n",
        "df_eng['Income_Per_Capita'].replace([np.inf, -np.inf], 0, inplace=True) # Tratar divisão por zero se não houver ninguém na casa\n",
        "df_eng['Income_Per_Capita'].fillna(0, inplace=True) # Tratar NaNs restantes\n",
        "df_eng.drop('Family_Size_Approx', axis=1, inplace=True) # Remover coluna auxiliar\n",
        "print(\"- Feature 'Income_Per_Capita' criada.\")"
      ],
      "metadata": {
        "colab": {
          "base_uri": "https://localhost:8080/"
        },
        "id": "_rSDHDC2cIas",
        "outputId": "8536ea8f-66d3-4af8-d123-cbb1aabdde2e"
      },
      "execution_count": 22,
      "outputs": [
        {
          "output_type": "stream",
          "name": "stdout",
          "text": [
            "- Feature 'Income_Per_Capita' criada.\n"
          ]
        }
      ]
    },
    {
      "cell_type": "code",
      "source": [
        "# Reordenar colunas (foi opcional, coloca o alvo 'Response' no final)\n",
        "colunas_principais = [col for col in df_eng.columns if col != 'Response']\n",
        "df_final_features = df_eng[colunas_principais + ['Response']]"
      ],
      "metadata": {
        "id": "EY1lbpbXcIS-"
      },
      "execution_count": 23,
      "outputs": []
    },
    {
      "cell_type": "code",
      "source": [
        "print(\"\\nNovas features criadas com sucesso.\")\n",
        "print(\"\\nCabeçalho dos Dados com Novas Features:\")\n",
        "print(df_final_features.head())\n",
        "print(\"Shape dos Dados com Novas Features:\", df_final_features.shape)\n",
        "print(\"\\n\" + \"=\"*60 + \"\\n\")"
      ],
      "metadata": {
        "colab": {
          "base_uri": "https://localhost:8080/"
        },
        "id": "AEj9Sj2GcRdK",
        "outputId": "a82b7f41-eb61-4c0f-ff24-112bb16eac07"
      },
      "execution_count": 24,
      "outputs": [
        {
          "output_type": "stream",
          "name": "stdout",
          "text": [
            "\n",
            "Novas features criadas com sucesso.\n",
            "\n",
            "Cabeçalho dos Dados com Novas Features:\n",
            "    Education Marital_Status   Income  Kidhome  Teenhome  Recency  MntWines  \\\n",
            "0  Graduation         Single  58138.0        0         0       58       635   \n",
            "1  Graduation         Single  46344.0        1         1       38        11   \n",
            "2  Graduation       Together  71613.0        0         0       26       426   \n",
            "3  Graduation       Together  26646.0        1         0       26        11   \n",
            "4         PhD        Married  58293.0        1         0       94       173   \n",
            "\n",
            "   MntFruits  MntMeatProducts  MntFishProducts  MntSweetProducts  \\\n",
            "0         88              546              172                88   \n",
            "1          1                6                2                 1   \n",
            "2         49              127              111                21   \n",
            "3          4               20               10                 3   \n",
            "4         43              118               46                27   \n",
            "\n",
            "   MntGoldProds  NumDealsPurchases  NumWebPurchases  NumCatalogPurchases  \\\n",
            "0            88                  3                8                   10   \n",
            "1             6                  2                1                    1   \n",
            "2            42                  1                8                    2   \n",
            "3             5                  2                2                    0   \n",
            "4            15                  5                5                    3   \n",
            "\n",
            "   NumStorePurchases  NumWebVisitsMonth  AcceptedCmp3  AcceptedCmp4  \\\n",
            "0                  4                  7             0             0   \n",
            "1                  2                  5             0             0   \n",
            "2                 10                  4             0             0   \n",
            "3                  4                  6             0             0   \n",
            "4                  6                  5             0             0   \n",
            "\n",
            "   AcceptedCmp5  AcceptedCmp1  AcceptedCmp2  Complain  Age  Time_Customer  \\\n",
            "0             0             0             0         0   68       1.815195   \n",
            "1             0             0             0         0   71       0.309377   \n",
            "2             0             0             0         0   60       0.854209   \n",
            "3             0             0             0         0   41       0.380561   \n",
            "4             0             0             0         0   44       0.440794   \n",
            "\n",
            "   Children_Total  Total_Spending  Total_Purchases  Total_Acc_Cmp  \\\n",
            "0               0            1617               25              0   \n",
            "1               2              27                6              0   \n",
            "2               0             776               21              0   \n",
            "3               1              53                8              0   \n",
            "4               1             422               19              0   \n",
            "\n",
            "   Income_Per_Capita  Response  \n",
            "0            58138.0         1  \n",
            "1            15448.0         0  \n",
            "2            35806.5         0  \n",
            "3             8882.0         0  \n",
            "4            19431.0         0  \n",
            "Shape dos Dados com Novas Features: (2216, 31)\n",
            "\n",
            "============================================================\n",
            "\n"
          ]
        }
      ]
    },
    {
      "cell_type": "markdown",
      "source": [
        "# Etapa 4: Divisão Treino/Validação"
      ],
      "metadata": {
        "id": "QvHO68E6dIA4"
      }
    },
    {
      "cell_type": "code",
      "source": [
        "print(\"=\"*30)\n",
        "print(\"ETAPA 4: DIVISÃO TREINO/VALIDAÇÃO\")\n",
        "print(\"=\"*30)"
      ],
      "metadata": {
        "colab": {
          "base_uri": "https://localhost:8080/"
        },
        "id": "RsRB_bGwdEQc",
        "outputId": "33583321-6331-4d56-d130-0082a82e7926"
      },
      "execution_count": 25,
      "outputs": [
        {
          "output_type": "stream",
          "name": "stdout",
          "text": [
            "==============================\n",
            "ETAPA 4: DIVISÃO TREINO/VALIDAÇÃO\n",
            "==============================\n"
          ]
        }
      ]
    },
    {
      "cell_type": "code",
      "source": [
        "# Dividir os dados em treino (95%) e validação (5%) para avaliar o modelo final\n",
        "# O conjunto de validação (df_validacao) não será visto durante o treinamento e tuning\n",
        "df_treino = df_final_features.sample(frac=0.95, random_state=123)\n",
        "df_validacao = df_final_features.drop(df_treino.index)"
      ],
      "metadata": {
        "id": "IMf8f57hdNSO"
      },
      "execution_count": 26,
      "outputs": []
    },
    {
      "cell_type": "code",
      "source": [
        "# Resetar os índices\n",
        "df_treino.reset_index(inplace=True, drop=True)\n",
        "df_validacao.reset_index(inplace=True, drop=True)"
      ],
      "metadata": {
        "id": "gD-um_j3dNM9"
      },
      "execution_count": 27,
      "outputs": []
    },
    {
      "cell_type": "code",
      "source": [
        "print(f'Dados para Modelagem (Treino): {df_treino.shape}')\n",
        "print(f'Dados Não Vistos para Predição (Validação): {df_validacao.shape}')\n",
        "print(\"\\n\" + \"=\"*60 + \"\\n\")"
      ],
      "metadata": {
        "colab": {
          "base_uri": "https://localhost:8080/"
        },
        "id": "H-QfGVr-dNEY",
        "outputId": "74a047bd-9d21-4e19-a97f-54f99996189d"
      },
      "execution_count": 28,
      "outputs": [
        {
          "output_type": "stream",
          "name": "stdout",
          "text": [
            "Dados para Modelagem (Treino): (2105, 31)\n",
            "Dados Não Vistos para Predição (Validação): (111, 31)\n",
            "\n",
            "============================================================\n",
            "\n"
          ]
        }
      ]
    },
    {
      "cell_type": "markdown",
      "source": [
        "# Etapa 5: Configuração do PyCaret"
      ],
      "metadata": {
        "id": "3y1ySM12dVuL"
      }
    },
    {
      "cell_type": "code",
      "source": [
        "print(\"=\"*30)\n",
        "print(\"ETAPA 5: CONFIGURAÇÃO DO PYCARET\")\n",
        "print(\"=\"*30)"
      ],
      "metadata": {
        "colab": {
          "base_uri": "https://localhost:8080/"
        },
        "id": "xuFMRwA6dY2Y",
        "outputId": "0e75c4b5-9d88-4946-d4c2-785c85ab4b02"
      },
      "execution_count": 29,
      "outputs": [
        {
          "output_type": "stream",
          "name": "stdout",
          "text": [
            "==============================\n",
            "ETAPA 5: CONFIGURAÇÃO DO PYCARET\n",
            "==============================\n"
          ]
        }
      ]
    },
    {
      "cell_type": "code",
      "source": [
        "# Definir explicitamente as features categóricas e numéricas\n",
        "# (PyCaret pode inferir, mas é boa prática definir para evitar erros)\n",
        "features_categoricas = ['Education', 'Marital_Status']\n",
        "features_numericas = [col for col in df_treino.columns if df_treino[col].dtype in ['int64', 'float64', 'Int64', 'Float64'] and col not in features_categoricas + ['Response']]"
      ],
      "metadata": {
        "id": "Zbrqe9XYdb69"
      },
      "execution_count": 30,
      "outputs": []
    },
    {
      "cell_type": "code",
      "source": [
        "print(\"Iniciando setup do PyCaret...\")\n",
        "# Configurar o ambiente do PyCaret para classificação\n",
        "# Usaremos df_treino para treinar e comparar modelos\n",
        "clf_setup = setup(\n",
        "    data=df_treino,                 # Dados de treino (95% do original)\n",
        "    target='Response',              # Coluna alvo\n",
        "    session_id=123,                 # Para reprodutibilidade\n",
        "    fix_imbalance=True,             # Lidar com desbalanceamento de classe (usando SMOTE por padrão)\n",
        "    remove_outliers=True,           # Remover outliers (usando Isolation Forest por padrão)\n",
        "    outliers_threshold=0.05,        # Limiar padrão para outliers\n",
        "    normalize=True,                 # Normalizar features numéricas\n",
        "    normalize_method='zscore',      # Método de normalização Z-score\n",
        "    categorical_features=features_categoricas, # Features categóricas definidas\n",
        "    numeric_features=features_numericas,       # Features numéricas definidas\n",
        "    preprocess=True,                # Habilitar pré-processamento automático do PyCaret\n",
        "                                    # (inclui imputação, one-hot encoding, etc.)\n",
        "    # fold_strategy='stratifiedkfold', # Estratégia de validação cruzada (padrão para classificação)\n",
        "    # fold=10,                       # Número de folds (padrão)\n",
        "    verbose=True                   # Mostrar detalhes do setup\n",
        ")\n",
        "print(\"\\nSetup do PyCaret concluído.\")\n",
        "print(\"\\n\" + \"=\"*60 + \"\\n\")"
      ],
      "metadata": {
        "colab": {
          "base_uri": "https://localhost:8080/",
          "height": 1000
        },
        "id": "y0XT5qCFdb2y",
        "outputId": "dc7865db-5a24-4655-e431-e5670d6b69fd"
      },
      "execution_count": 31,
      "outputs": [
        {
          "output_type": "stream",
          "name": "stdout",
          "text": [
            "Iniciando setup do PyCaret...\n"
          ]
        },
        {
          "output_type": "display_data",
          "data": {
            "text/plain": [
              "<pandas.io.formats.style.Styler at 0x7ae95bb7e690>"
            ],
            "text/html": [
              "<style type=\"text/css\">\n",
              "#T_8c9e7_row9_col1, #T_8c9e7_row15_col1, #T_8c9e7_row17_col1, #T_8c9e7_row19_col1 {\n",
              "  background-color: lightgreen;\n",
              "}\n",
              "</style>\n",
              "<table id=\"T_8c9e7\" class=\"dataframe\">\n",
              "  <thead>\n",
              "    <tr>\n",
              "      <th class=\"blank level0\" >&nbsp;</th>\n",
              "      <th id=\"T_8c9e7_level0_col0\" class=\"col_heading level0 col0\" >Description</th>\n",
              "      <th id=\"T_8c9e7_level0_col1\" class=\"col_heading level0 col1\" >Value</th>\n",
              "    </tr>\n",
              "  </thead>\n",
              "  <tbody>\n",
              "    <tr>\n",
              "      <th id=\"T_8c9e7_level0_row0\" class=\"row_heading level0 row0\" >0</th>\n",
              "      <td id=\"T_8c9e7_row0_col0\" class=\"data row0 col0\" >Session id</td>\n",
              "      <td id=\"T_8c9e7_row0_col1\" class=\"data row0 col1\" >123</td>\n",
              "    </tr>\n",
              "    <tr>\n",
              "      <th id=\"T_8c9e7_level0_row1\" class=\"row_heading level0 row1\" >1</th>\n",
              "      <td id=\"T_8c9e7_row1_col0\" class=\"data row1 col0\" >Target</td>\n",
              "      <td id=\"T_8c9e7_row1_col1\" class=\"data row1 col1\" >Response</td>\n",
              "    </tr>\n",
              "    <tr>\n",
              "      <th id=\"T_8c9e7_level0_row2\" class=\"row_heading level0 row2\" >2</th>\n",
              "      <td id=\"T_8c9e7_row2_col0\" class=\"data row2 col0\" >Target type</td>\n",
              "      <td id=\"T_8c9e7_row2_col1\" class=\"data row2 col1\" >Binary</td>\n",
              "    </tr>\n",
              "    <tr>\n",
              "      <th id=\"T_8c9e7_level0_row3\" class=\"row_heading level0 row3\" >3</th>\n",
              "      <td id=\"T_8c9e7_row3_col0\" class=\"data row3 col0\" >Original data shape</td>\n",
              "      <td id=\"T_8c9e7_row3_col1\" class=\"data row3 col1\" >(2105, 31)</td>\n",
              "    </tr>\n",
              "    <tr>\n",
              "      <th id=\"T_8c9e7_level0_row4\" class=\"row_heading level0 row4\" >4</th>\n",
              "      <td id=\"T_8c9e7_row4_col0\" class=\"data row4 col0\" >Transformed data shape</td>\n",
              "      <td id=\"T_8c9e7_row4_col1\" class=\"data row4 col1\" >(3086, 39)</td>\n",
              "    </tr>\n",
              "    <tr>\n",
              "      <th id=\"T_8c9e7_level0_row5\" class=\"row_heading level0 row5\" >5</th>\n",
              "      <td id=\"T_8c9e7_row5_col0\" class=\"data row5 col0\" >Transformed train set shape</td>\n",
              "      <td id=\"T_8c9e7_row5_col1\" class=\"data row5 col1\" >(2454, 39)</td>\n",
              "    </tr>\n",
              "    <tr>\n",
              "      <th id=\"T_8c9e7_level0_row6\" class=\"row_heading level0 row6\" >6</th>\n",
              "      <td id=\"T_8c9e7_row6_col0\" class=\"data row6 col0\" >Transformed test set shape</td>\n",
              "      <td id=\"T_8c9e7_row6_col1\" class=\"data row6 col1\" >(632, 39)</td>\n",
              "    </tr>\n",
              "    <tr>\n",
              "      <th id=\"T_8c9e7_level0_row7\" class=\"row_heading level0 row7\" >7</th>\n",
              "      <td id=\"T_8c9e7_row7_col0\" class=\"data row7 col0\" >Numeric features</td>\n",
              "      <td id=\"T_8c9e7_row7_col1\" class=\"data row7 col1\" >28</td>\n",
              "    </tr>\n",
              "    <tr>\n",
              "      <th id=\"T_8c9e7_level0_row8\" class=\"row_heading level0 row8\" >8</th>\n",
              "      <td id=\"T_8c9e7_row8_col0\" class=\"data row8 col0\" >Categorical features</td>\n",
              "      <td id=\"T_8c9e7_row8_col1\" class=\"data row8 col1\" >2</td>\n",
              "    </tr>\n",
              "    <tr>\n",
              "      <th id=\"T_8c9e7_level0_row9\" class=\"row_heading level0 row9\" >9</th>\n",
              "      <td id=\"T_8c9e7_row9_col0\" class=\"data row9 col0\" >Preprocess</td>\n",
              "      <td id=\"T_8c9e7_row9_col1\" class=\"data row9 col1\" >True</td>\n",
              "    </tr>\n",
              "    <tr>\n",
              "      <th id=\"T_8c9e7_level0_row10\" class=\"row_heading level0 row10\" >10</th>\n",
              "      <td id=\"T_8c9e7_row10_col0\" class=\"data row10 col0\" >Imputation type</td>\n",
              "      <td id=\"T_8c9e7_row10_col1\" class=\"data row10 col1\" >simple</td>\n",
              "    </tr>\n",
              "    <tr>\n",
              "      <th id=\"T_8c9e7_level0_row11\" class=\"row_heading level0 row11\" >11</th>\n",
              "      <td id=\"T_8c9e7_row11_col0\" class=\"data row11 col0\" >Numeric imputation</td>\n",
              "      <td id=\"T_8c9e7_row11_col1\" class=\"data row11 col1\" >mean</td>\n",
              "    </tr>\n",
              "    <tr>\n",
              "      <th id=\"T_8c9e7_level0_row12\" class=\"row_heading level0 row12\" >12</th>\n",
              "      <td id=\"T_8c9e7_row12_col0\" class=\"data row12 col0\" >Categorical imputation</td>\n",
              "      <td id=\"T_8c9e7_row12_col1\" class=\"data row12 col1\" >mode</td>\n",
              "    </tr>\n",
              "    <tr>\n",
              "      <th id=\"T_8c9e7_level0_row13\" class=\"row_heading level0 row13\" >13</th>\n",
              "      <td id=\"T_8c9e7_row13_col0\" class=\"data row13 col0\" >Maximum one-hot encoding</td>\n",
              "      <td id=\"T_8c9e7_row13_col1\" class=\"data row13 col1\" >25</td>\n",
              "    </tr>\n",
              "    <tr>\n",
              "      <th id=\"T_8c9e7_level0_row14\" class=\"row_heading level0 row14\" >14</th>\n",
              "      <td id=\"T_8c9e7_row14_col0\" class=\"data row14 col0\" >Encoding method</td>\n",
              "      <td id=\"T_8c9e7_row14_col1\" class=\"data row14 col1\" >None</td>\n",
              "    </tr>\n",
              "    <tr>\n",
              "      <th id=\"T_8c9e7_level0_row15\" class=\"row_heading level0 row15\" >15</th>\n",
              "      <td id=\"T_8c9e7_row15_col0\" class=\"data row15 col0\" >Remove outliers</td>\n",
              "      <td id=\"T_8c9e7_row15_col1\" class=\"data row15 col1\" >True</td>\n",
              "    </tr>\n",
              "    <tr>\n",
              "      <th id=\"T_8c9e7_level0_row16\" class=\"row_heading level0 row16\" >16</th>\n",
              "      <td id=\"T_8c9e7_row16_col0\" class=\"data row16 col0\" >Outliers threshold</td>\n",
              "      <td id=\"T_8c9e7_row16_col1\" class=\"data row16 col1\" >0.050000</td>\n",
              "    </tr>\n",
              "    <tr>\n",
              "      <th id=\"T_8c9e7_level0_row17\" class=\"row_heading level0 row17\" >17</th>\n",
              "      <td id=\"T_8c9e7_row17_col0\" class=\"data row17 col0\" >Fix imbalance</td>\n",
              "      <td id=\"T_8c9e7_row17_col1\" class=\"data row17 col1\" >True</td>\n",
              "    </tr>\n",
              "    <tr>\n",
              "      <th id=\"T_8c9e7_level0_row18\" class=\"row_heading level0 row18\" >18</th>\n",
              "      <td id=\"T_8c9e7_row18_col0\" class=\"data row18 col0\" >Fix imbalance method</td>\n",
              "      <td id=\"T_8c9e7_row18_col1\" class=\"data row18 col1\" >SMOTE</td>\n",
              "    </tr>\n",
              "    <tr>\n",
              "      <th id=\"T_8c9e7_level0_row19\" class=\"row_heading level0 row19\" >19</th>\n",
              "      <td id=\"T_8c9e7_row19_col0\" class=\"data row19 col0\" >Normalize</td>\n",
              "      <td id=\"T_8c9e7_row19_col1\" class=\"data row19 col1\" >True</td>\n",
              "    </tr>\n",
              "    <tr>\n",
              "      <th id=\"T_8c9e7_level0_row20\" class=\"row_heading level0 row20\" >20</th>\n",
              "      <td id=\"T_8c9e7_row20_col0\" class=\"data row20 col0\" >Normalize method</td>\n",
              "      <td id=\"T_8c9e7_row20_col1\" class=\"data row20 col1\" >zscore</td>\n",
              "    </tr>\n",
              "    <tr>\n",
              "      <th id=\"T_8c9e7_level0_row21\" class=\"row_heading level0 row21\" >21</th>\n",
              "      <td id=\"T_8c9e7_row21_col0\" class=\"data row21 col0\" >Fold Generator</td>\n",
              "      <td id=\"T_8c9e7_row21_col1\" class=\"data row21 col1\" >StratifiedKFold</td>\n",
              "    </tr>\n",
              "    <tr>\n",
              "      <th id=\"T_8c9e7_level0_row22\" class=\"row_heading level0 row22\" >22</th>\n",
              "      <td id=\"T_8c9e7_row22_col0\" class=\"data row22 col0\" >Fold Number</td>\n",
              "      <td id=\"T_8c9e7_row22_col1\" class=\"data row22 col1\" >10</td>\n",
              "    </tr>\n",
              "    <tr>\n",
              "      <th id=\"T_8c9e7_level0_row23\" class=\"row_heading level0 row23\" >23</th>\n",
              "      <td id=\"T_8c9e7_row23_col0\" class=\"data row23 col0\" >CPU Jobs</td>\n",
              "      <td id=\"T_8c9e7_row23_col1\" class=\"data row23 col1\" >-1</td>\n",
              "    </tr>\n",
              "    <tr>\n",
              "      <th id=\"T_8c9e7_level0_row24\" class=\"row_heading level0 row24\" >24</th>\n",
              "      <td id=\"T_8c9e7_row24_col0\" class=\"data row24 col0\" >Use GPU</td>\n",
              "      <td id=\"T_8c9e7_row24_col1\" class=\"data row24 col1\" >False</td>\n",
              "    </tr>\n",
              "    <tr>\n",
              "      <th id=\"T_8c9e7_level0_row25\" class=\"row_heading level0 row25\" >25</th>\n",
              "      <td id=\"T_8c9e7_row25_col0\" class=\"data row25 col0\" >Log Experiment</td>\n",
              "      <td id=\"T_8c9e7_row25_col1\" class=\"data row25 col1\" >False</td>\n",
              "    </tr>\n",
              "    <tr>\n",
              "      <th id=\"T_8c9e7_level0_row26\" class=\"row_heading level0 row26\" >26</th>\n",
              "      <td id=\"T_8c9e7_row26_col0\" class=\"data row26 col0\" >Experiment Name</td>\n",
              "      <td id=\"T_8c9e7_row26_col1\" class=\"data row26 col1\" >clf-default-name</td>\n",
              "    </tr>\n",
              "    <tr>\n",
              "      <th id=\"T_8c9e7_level0_row27\" class=\"row_heading level0 row27\" >27</th>\n",
              "      <td id=\"T_8c9e7_row27_col0\" class=\"data row27 col0\" >USI</td>\n",
              "      <td id=\"T_8c9e7_row27_col1\" class=\"data row27 col1\" >bed0</td>\n",
              "    </tr>\n",
              "  </tbody>\n",
              "</table>\n"
            ]
          },
          "metadata": {}
        },
        {
          "output_type": "stream",
          "name": "stdout",
          "text": [
            "\n",
            "Setup do PyCaret concluído.\n",
            "\n",
            "============================================================\n",
            "\n"
          ]
        }
      ]
    },
    {
      "cell_type": "markdown",
      "source": [
        "# Etapa 6: Comparação de Modelos"
      ],
      "metadata": {
        "id": "bOyusukgd5Ub"
      }
    },
    {
      "cell_type": "code",
      "source": [
        "print(\"=\"*30)\n",
        "print(\"ETAPA 6: COMPARAÇÃO DE MODELOS\")\n",
        "print(\"=\"*30)"
      ],
      "metadata": {
        "colab": {
          "base_uri": "https://localhost:8080/"
        },
        "id": "BWYKcNvjdbuq",
        "outputId": "7b610a3f-d15e-4815-9a8f-d35394664ed5"
      },
      "execution_count": 32,
      "outputs": [
        {
          "output_type": "stream",
          "name": "stdout",
          "text": [
            "==============================\n",
            "ETAPA 6: COMPARAÇÃO DE MODELOS\n",
            "==============================\n"
          ]
        }
      ]
    },
    {
      "cell_type": "code",
      "source": [
        "print(\"Comparando modelos com base na AUC (usando validação cruzada)...\")\n",
        "# Comparar diversos modelos usando validação cruzada e ordenar por AUC\n",
        "# Isso dará uma ideia dos modelos mais promissores para este dataset\n",
        "melhor_modelo_comparacao = compare_models(sort='AUC')\n",
        "\n",
        "print(\"\\nMelhor Modelo encontrado na comparação inicial:\")\n",
        "print(melhor_modelo_comparacao)\n",
        "print(\"\\n\" + \"=\"*60 + \"\\n\")"
      ],
      "metadata": {
        "colab": {
          "base_uri": "https://localhost:8080/",
          "height": 728,
          "referenced_widgets": [
            "0fe21a26cd0245f39f6cce1a94d95019",
            "b41a4642744d423b99cc7e179b0ad935",
            "a41ee05100b94bac9770c68e09eb9cf9",
            "e28dec71c4bb49b7a20e2d0153b7370e",
            "9c135c693c8340d0be96ec23f176564d",
            "b38100a0e1e444d8b032287ff40a937e",
            "efc702a5704b4c1f957aa01553ae8880",
            "9a9687b5af9e45c79b09ccdbbb966df2",
            "f2fbd2665a0c49589abd572d2a3325a1",
            "c5f95fb97563473d9e175fb2522a5c12",
            "85789e9d43f34e94b40d747b33af55b8"
          ]
        },
        "id": "byss-ue8eATf",
        "outputId": "6fb1d0c2-9a06-487b-e706-01e09b11883f"
      },
      "execution_count": 33,
      "outputs": [
        {
          "output_type": "stream",
          "name": "stdout",
          "text": [
            "Comparando modelos com base na AUC (usando validação cruzada)...\n"
          ]
        },
        {
          "output_type": "display_data",
          "data": {
            "text/plain": [
              "<IPython.core.display.HTML object>"
            ],
            "text/html": []
          },
          "metadata": {}
        },
        {
          "output_type": "display_data",
          "data": {
            "text/plain": [
              "<pandas.io.formats.style.Styler at 0x7aeacb40cfd0>"
            ],
            "text/html": [
              "<style type=\"text/css\">\n",
              "#T_fbb4d th {\n",
              "  text-align: left;\n",
              "}\n",
              "#T_fbb4d_row0_col0, #T_fbb4d_row0_col3, #T_fbb4d_row0_col4, #T_fbb4d_row0_col5, #T_fbb4d_row0_col6, #T_fbb4d_row0_col7, #T_fbb4d_row1_col0, #T_fbb4d_row1_col1, #T_fbb4d_row1_col2, #T_fbb4d_row1_col4, #T_fbb4d_row1_col5, #T_fbb4d_row1_col6, #T_fbb4d_row1_col7, #T_fbb4d_row2_col0, #T_fbb4d_row2_col1, #T_fbb4d_row2_col2, #T_fbb4d_row2_col4, #T_fbb4d_row2_col5, #T_fbb4d_row2_col6, #T_fbb4d_row2_col7, #T_fbb4d_row3_col0, #T_fbb4d_row3_col1, #T_fbb4d_row3_col2, #T_fbb4d_row3_col4, #T_fbb4d_row3_col6, #T_fbb4d_row3_col7, #T_fbb4d_row4_col0, #T_fbb4d_row4_col1, #T_fbb4d_row4_col2, #T_fbb4d_row4_col3, #T_fbb4d_row4_col4, #T_fbb4d_row4_col5, #T_fbb4d_row4_col6, #T_fbb4d_row4_col7, #T_fbb4d_row5_col0, #T_fbb4d_row5_col1, #T_fbb4d_row5_col2, #T_fbb4d_row5_col3, #T_fbb4d_row5_col4, #T_fbb4d_row5_col5, #T_fbb4d_row5_col6, #T_fbb4d_row5_col7, #T_fbb4d_row6_col0, #T_fbb4d_row6_col1, #T_fbb4d_row6_col2, #T_fbb4d_row6_col3, #T_fbb4d_row6_col5, #T_fbb4d_row6_col6, #T_fbb4d_row6_col7, #T_fbb4d_row7_col0, #T_fbb4d_row7_col1, #T_fbb4d_row7_col2, #T_fbb4d_row7_col3, #T_fbb4d_row7_col4, #T_fbb4d_row7_col5, #T_fbb4d_row8_col0, #T_fbb4d_row8_col1, #T_fbb4d_row8_col2, #T_fbb4d_row8_col3, #T_fbb4d_row8_col4, #T_fbb4d_row8_col5, #T_fbb4d_row8_col6, #T_fbb4d_row8_col7, #T_fbb4d_row9_col0, #T_fbb4d_row9_col1, #T_fbb4d_row9_col2, #T_fbb4d_row9_col3, #T_fbb4d_row9_col4, #T_fbb4d_row9_col5, #T_fbb4d_row9_col6, #T_fbb4d_row9_col7, #T_fbb4d_row10_col0, #T_fbb4d_row10_col1, #T_fbb4d_row10_col2, #T_fbb4d_row10_col3, #T_fbb4d_row10_col4, #T_fbb4d_row10_col5, #T_fbb4d_row10_col6, #T_fbb4d_row10_col7, #T_fbb4d_row11_col0, #T_fbb4d_row11_col1, #T_fbb4d_row11_col2, #T_fbb4d_row11_col3, #T_fbb4d_row11_col4, #T_fbb4d_row11_col5, #T_fbb4d_row11_col6, #T_fbb4d_row11_col7, #T_fbb4d_row12_col0, #T_fbb4d_row12_col1, #T_fbb4d_row12_col2, #T_fbb4d_row12_col3, #T_fbb4d_row12_col4, #T_fbb4d_row12_col5, #T_fbb4d_row12_col6, #T_fbb4d_row12_col7, #T_fbb4d_row13_col0, #T_fbb4d_row13_col1, #T_fbb4d_row13_col2, #T_fbb4d_row13_col3, #T_fbb4d_row13_col4, #T_fbb4d_row13_col5, #T_fbb4d_row13_col6, #T_fbb4d_row13_col7, #T_fbb4d_row14_col0, #T_fbb4d_row14_col1, #T_fbb4d_row14_col2, #T_fbb4d_row14_col3, #T_fbb4d_row14_col4, #T_fbb4d_row14_col5, #T_fbb4d_row14_col6, #T_fbb4d_row14_col7 {\n",
              "  text-align: left;\n",
              "}\n",
              "#T_fbb4d_row0_col1, #T_fbb4d_row0_col2, #T_fbb4d_row1_col3, #T_fbb4d_row2_col3, #T_fbb4d_row3_col3, #T_fbb4d_row3_col5, #T_fbb4d_row6_col4, #T_fbb4d_row7_col6, #T_fbb4d_row7_col7 {\n",
              "  text-align: left;\n",
              "  background-color: yellow;\n",
              "}\n",
              "#T_fbb4d_row0_col8, #T_fbb4d_row2_col8, #T_fbb4d_row3_col8, #T_fbb4d_row4_col8, #T_fbb4d_row5_col8, #T_fbb4d_row6_col8, #T_fbb4d_row7_col8, #T_fbb4d_row8_col8, #T_fbb4d_row9_col8, #T_fbb4d_row10_col8, #T_fbb4d_row11_col8, #T_fbb4d_row12_col8, #T_fbb4d_row13_col8, #T_fbb4d_row14_col8 {\n",
              "  text-align: left;\n",
              "  background-color: lightgrey;\n",
              "}\n",
              "#T_fbb4d_row1_col8 {\n",
              "  text-align: left;\n",
              "  background-color: yellow;\n",
              "  background-color: lightgrey;\n",
              "}\n",
              "</style>\n",
              "<table id=\"T_fbb4d\" class=\"dataframe\">\n",
              "  <thead>\n",
              "    <tr>\n",
              "      <th class=\"blank level0\" >&nbsp;</th>\n",
              "      <th id=\"T_fbb4d_level0_col0\" class=\"col_heading level0 col0\" >Model</th>\n",
              "      <th id=\"T_fbb4d_level0_col1\" class=\"col_heading level0 col1\" >Accuracy</th>\n",
              "      <th id=\"T_fbb4d_level0_col2\" class=\"col_heading level0 col2\" >AUC</th>\n",
              "      <th id=\"T_fbb4d_level0_col3\" class=\"col_heading level0 col3\" >Recall</th>\n",
              "      <th id=\"T_fbb4d_level0_col4\" class=\"col_heading level0 col4\" >Prec.</th>\n",
              "      <th id=\"T_fbb4d_level0_col5\" class=\"col_heading level0 col5\" >F1</th>\n",
              "      <th id=\"T_fbb4d_level0_col6\" class=\"col_heading level0 col6\" >Kappa</th>\n",
              "      <th id=\"T_fbb4d_level0_col7\" class=\"col_heading level0 col7\" >MCC</th>\n",
              "      <th id=\"T_fbb4d_level0_col8\" class=\"col_heading level0 col8\" >TT (Sec)</th>\n",
              "    </tr>\n",
              "  </thead>\n",
              "  <tbody>\n",
              "    <tr>\n",
              "      <th id=\"T_fbb4d_level0_row0\" class=\"row_heading level0 row0\" >lightgbm</th>\n",
              "      <td id=\"T_fbb4d_row0_col0\" class=\"data row0 col0\" >Light Gradient Boosting Machine</td>\n",
              "      <td id=\"T_fbb4d_row0_col1\" class=\"data row0 col1\" >0.8934</td>\n",
              "      <td id=\"T_fbb4d_row0_col2\" class=\"data row0 col2\" >0.9020</td>\n",
              "      <td id=\"T_fbb4d_row0_col3\" class=\"data row0 col3\" >0.4757</td>\n",
              "      <td id=\"T_fbb4d_row0_col4\" class=\"data row0 col4\" >0.7183</td>\n",
              "      <td id=\"T_fbb4d_row0_col5\" class=\"data row0 col5\" >0.5679</td>\n",
              "      <td id=\"T_fbb4d_row0_col6\" class=\"data row0 col6\" >0.5109</td>\n",
              "      <td id=\"T_fbb4d_row0_col7\" class=\"data row0 col7\" >0.5271</td>\n",
              "      <td id=\"T_fbb4d_row0_col8\" class=\"data row0 col8\" >1.7420</td>\n",
              "    </tr>\n",
              "    <tr>\n",
              "      <th id=\"T_fbb4d_level0_row1\" class=\"row_heading level0 row1\" >ridge</th>\n",
              "      <td id=\"T_fbb4d_row1_col0\" class=\"data row1 col0\" >Ridge Classifier</td>\n",
              "      <td id=\"T_fbb4d_row1_col1\" class=\"data row1 col1\" >0.8120</td>\n",
              "      <td id=\"T_fbb4d_row1_col2\" class=\"data row1 col2\" >0.8983</td>\n",
              "      <td id=\"T_fbb4d_row1_col3\" class=\"data row1 col3\" >0.8243</td>\n",
              "      <td id=\"T_fbb4d_row1_col4\" class=\"data row1 col4\" >0.4354</td>\n",
              "      <td id=\"T_fbb4d_row1_col5\" class=\"data row1 col5\" >0.5683</td>\n",
              "      <td id=\"T_fbb4d_row1_col6\" class=\"data row1 col6\" >0.4629</td>\n",
              "      <td id=\"T_fbb4d_row1_col7\" class=\"data row1 col7\" >0.5026</td>\n",
              "      <td id=\"T_fbb4d_row1_col8\" class=\"data row1 col8\" >0.2340</td>\n",
              "    </tr>\n",
              "    <tr>\n",
              "      <th id=\"T_fbb4d_level0_row2\" class=\"row_heading level0 row2\" >lda</th>\n",
              "      <td id=\"T_fbb4d_row2_col0\" class=\"data row2 col0\" >Linear Discriminant Analysis</td>\n",
              "      <td id=\"T_fbb4d_row2_col1\" class=\"data row2 col1\" >0.8120</td>\n",
              "      <td id=\"T_fbb4d_row2_col2\" class=\"data row2 col2\" >0.8982</td>\n",
              "      <td id=\"T_fbb4d_row2_col3\" class=\"data row2 col3\" >0.8243</td>\n",
              "      <td id=\"T_fbb4d_row2_col4\" class=\"data row2 col4\" >0.4354</td>\n",
              "      <td id=\"T_fbb4d_row2_col5\" class=\"data row2 col5\" >0.5683</td>\n",
              "      <td id=\"T_fbb4d_row2_col6\" class=\"data row2 col6\" >0.4629</td>\n",
              "      <td id=\"T_fbb4d_row2_col7\" class=\"data row2 col7\" >0.5026</td>\n",
              "      <td id=\"T_fbb4d_row2_col8\" class=\"data row2 col8\" >0.2420</td>\n",
              "    </tr>\n",
              "    <tr>\n",
              "      <th id=\"T_fbb4d_level0_row3\" class=\"row_heading level0 row3\" >lr</th>\n",
              "      <td id=\"T_fbb4d_row3_col0\" class=\"data row3 col0\" >Logistic Regression</td>\n",
              "      <td id=\"T_fbb4d_row3_col1\" class=\"data row3 col1\" >0.8214</td>\n",
              "      <td id=\"T_fbb4d_row3_col2\" class=\"data row3 col2\" >0.8950</td>\n",
              "      <td id=\"T_fbb4d_row3_col3\" class=\"data row3 col3\" >0.8243</td>\n",
              "      <td id=\"T_fbb4d_row3_col4\" class=\"data row3 col4\" >0.4498</td>\n",
              "      <td id=\"T_fbb4d_row3_col5\" class=\"data row3 col5\" >0.5807</td>\n",
              "      <td id=\"T_fbb4d_row3_col6\" class=\"data row3 col6\" >0.4798</td>\n",
              "      <td id=\"T_fbb4d_row3_col7\" class=\"data row3 col7\" >0.5164</td>\n",
              "      <td id=\"T_fbb4d_row3_col8\" class=\"data row3 col8\" >0.8650</td>\n",
              "    </tr>\n",
              "    <tr>\n",
              "      <th id=\"T_fbb4d_level0_row4\" class=\"row_heading level0 row4\" >rf</th>\n",
              "      <td id=\"T_fbb4d_row4_col0\" class=\"data row4 col0\" >Random Forest Classifier</td>\n",
              "      <td id=\"T_fbb4d_row4_col1\" class=\"data row4 col1\" >0.8832</td>\n",
              "      <td id=\"T_fbb4d_row4_col2\" class=\"data row4 col2\" >0.8899</td>\n",
              "      <td id=\"T_fbb4d_row4_col3\" class=\"data row4 col3\" >0.3800</td>\n",
              "      <td id=\"T_fbb4d_row4_col4\" class=\"data row4 col4\" >0.7139</td>\n",
              "      <td id=\"T_fbb4d_row4_col5\" class=\"data row4 col5\" >0.4933</td>\n",
              "      <td id=\"T_fbb4d_row4_col6\" class=\"data row4 col6\" >0.4344</td>\n",
              "      <td id=\"T_fbb4d_row4_col7\" class=\"data row4 col7\" >0.4633</td>\n",
              "      <td id=\"T_fbb4d_row4_col8\" class=\"data row4 col8\" >0.8060</td>\n",
              "    </tr>\n",
              "    <tr>\n",
              "      <th id=\"T_fbb4d_level0_row5\" class=\"row_heading level0 row5\" >xgboost</th>\n",
              "      <td id=\"T_fbb4d_row5_col0\" class=\"data row5 col0\" >Extreme Gradient Boosting</td>\n",
              "      <td id=\"T_fbb4d_row5_col1\" class=\"data row5 col1\" >0.8873</td>\n",
              "      <td id=\"T_fbb4d_row5_col2\" class=\"data row5 col2\" >0.8897</td>\n",
              "      <td id=\"T_fbb4d_row5_col3\" class=\"data row5 col3\" >0.4621</td>\n",
              "      <td id=\"T_fbb4d_row5_col4\" class=\"data row5 col4\" >0.6878</td>\n",
              "      <td id=\"T_fbb4d_row5_col5\" class=\"data row5 col5\" >0.5492</td>\n",
              "      <td id=\"T_fbb4d_row5_col6\" class=\"data row5 col6\" >0.4882</td>\n",
              "      <td id=\"T_fbb4d_row5_col7\" class=\"data row5 col7\" >0.5026</td>\n",
              "      <td id=\"T_fbb4d_row5_col8\" class=\"data row5 col8\" >0.6550</td>\n",
              "    </tr>\n",
              "    <tr>\n",
              "      <th id=\"T_fbb4d_level0_row6\" class=\"row_heading level0 row6\" >et</th>\n",
              "      <td id=\"T_fbb4d_row6_col0\" class=\"data row6 col0\" >Extra Trees Classifier</td>\n",
              "      <td id=\"T_fbb4d_row6_col1\" class=\"data row6 col1\" >0.8894</td>\n",
              "      <td id=\"T_fbb4d_row6_col2\" class=\"data row6 col2\" >0.8869</td>\n",
              "      <td id=\"T_fbb4d_row6_col3\" class=\"data row6 col3\" >0.4073</td>\n",
              "      <td id=\"T_fbb4d_row6_col4\" class=\"data row6 col4\" >0.7346</td>\n",
              "      <td id=\"T_fbb4d_row6_col5\" class=\"data row6 col5\" >0.5184</td>\n",
              "      <td id=\"T_fbb4d_row6_col6\" class=\"data row6 col6\" >0.4629</td>\n",
              "      <td id=\"T_fbb4d_row6_col7\" class=\"data row6 col7\" >0.4910</td>\n",
              "      <td id=\"T_fbb4d_row6_col8\" class=\"data row6 col8\" >0.4900</td>\n",
              "    </tr>\n",
              "    <tr>\n",
              "      <th id=\"T_fbb4d_level0_row7\" class=\"row_heading level0 row7\" >gbc</th>\n",
              "      <td id=\"T_fbb4d_row7_col0\" class=\"data row7 col0\" >Gradient Boosting Classifier</td>\n",
              "      <td id=\"T_fbb4d_row7_col1\" class=\"data row7 col1\" >0.8914</td>\n",
              "      <td id=\"T_fbb4d_row7_col2\" class=\"data row7 col2\" >0.8810</td>\n",
              "      <td id=\"T_fbb4d_row7_col3\" class=\"data row7 col3\" >0.5069</td>\n",
              "      <td id=\"T_fbb4d_row7_col4\" class=\"data row7 col4\" >0.6935</td>\n",
              "      <td id=\"T_fbb4d_row7_col5\" class=\"data row7 col5\" >0.5804</td>\n",
              "      <td id=\"T_fbb4d_row7_col6\" class=\"data row7 col6\" >0.5204</td>\n",
              "      <td id=\"T_fbb4d_row7_col7\" class=\"data row7 col7\" >0.5315</td>\n",
              "      <td id=\"T_fbb4d_row7_col8\" class=\"data row7 col8\" >1.8680</td>\n",
              "    </tr>\n",
              "    <tr>\n",
              "      <th id=\"T_fbb4d_level0_row8\" class=\"row_heading level0 row8\" >svm</th>\n",
              "      <td id=\"T_fbb4d_row8_col0\" class=\"data row8 col0\" >SVM - Linear Kernel</td>\n",
              "      <td id=\"T_fbb4d_row8_col1\" class=\"data row8 col1\" >0.7963</td>\n",
              "      <td id=\"T_fbb4d_row8_col2\" class=\"data row8 col2\" >0.8705</td>\n",
              "      <td id=\"T_fbb4d_row8_col3\" class=\"data row8 col3\" >0.7789</td>\n",
              "      <td id=\"T_fbb4d_row8_col4\" class=\"data row8 col4\" >0.4154</td>\n",
              "      <td id=\"T_fbb4d_row8_col5\" class=\"data row8 col5\" >0.5381</td>\n",
              "      <td id=\"T_fbb4d_row8_col6\" class=\"data row8 col6\" >0.4249</td>\n",
              "      <td id=\"T_fbb4d_row8_col7\" class=\"data row8 col7\" >0.4614</td>\n",
              "      <td id=\"T_fbb4d_row8_col8\" class=\"data row8 col8\" >0.2730</td>\n",
              "    </tr>\n",
              "    <tr>\n",
              "      <th id=\"T_fbb4d_level0_row9\" class=\"row_heading level0 row9\" >ada</th>\n",
              "      <td id=\"T_fbb4d_row9_col0\" class=\"data row9 col0\" >Ada Boost Classifier</td>\n",
              "      <td id=\"T_fbb4d_row9_col1\" class=\"data row9 col1\" >0.8601</td>\n",
              "      <td id=\"T_fbb4d_row9_col2\" class=\"data row9 col2\" >0.8385</td>\n",
              "      <td id=\"T_fbb4d_row9_col3\" class=\"data row9 col3\" >0.5338</td>\n",
              "      <td id=\"T_fbb4d_row9_col4\" class=\"data row9 col4\" >0.5365</td>\n",
              "      <td id=\"T_fbb4d_row9_col5\" class=\"data row9 col5\" >0.5326</td>\n",
              "      <td id=\"T_fbb4d_row9_col6\" class=\"data row9 col6\" >0.4507</td>\n",
              "      <td id=\"T_fbb4d_row9_col7\" class=\"data row9 col7\" >0.4522</td>\n",
              "      <td id=\"T_fbb4d_row9_col8\" class=\"data row9 col8\" >0.5830</td>\n",
              "    </tr>\n",
              "    <tr>\n",
              "      <th id=\"T_fbb4d_level0_row10\" class=\"row_heading level0 row10\" >knn</th>\n",
              "      <td id=\"T_fbb4d_row10_col0\" class=\"data row10 col0\" >K Neighbors Classifier</td>\n",
              "      <td id=\"T_fbb4d_row10_col1\" class=\"data row10 col1\" >0.7719</td>\n",
              "      <td id=\"T_fbb4d_row10_col2\" class=\"data row10 col2\" >0.8070</td>\n",
              "      <td id=\"T_fbb4d_row10_col3\" class=\"data row10 col3\" >0.6976</td>\n",
              "      <td id=\"T_fbb4d_row10_col4\" class=\"data row10 col4\" >0.3643</td>\n",
              "      <td id=\"T_fbb4d_row10_col5\" class=\"data row10 col5\" >0.4777</td>\n",
              "      <td id=\"T_fbb4d_row10_col6\" class=\"data row10 col6\" >0.3498</td>\n",
              "      <td id=\"T_fbb4d_row10_col7\" class=\"data row10 col7\" >0.3810</td>\n",
              "      <td id=\"T_fbb4d_row10_col8\" class=\"data row10 col8\" >0.2440</td>\n",
              "    </tr>\n",
              "    <tr>\n",
              "      <th id=\"T_fbb4d_level0_row11\" class=\"row_heading level0 row11\" >nb</th>\n",
              "      <td id=\"T_fbb4d_row11_col0\" class=\"data row11 col0\" >Naive Bayes</td>\n",
              "      <td id=\"T_fbb4d_row11_col1\" class=\"data row11 col1\" >0.7120</td>\n",
              "      <td id=\"T_fbb4d_row11_col2\" class=\"data row11 col2\" >0.8066</td>\n",
              "      <td id=\"T_fbb4d_row11_col3\" class=\"data row11 col3\" >0.7379</td>\n",
              "      <td id=\"T_fbb4d_row11_col4\" class=\"data row11 col4\" >0.3388</td>\n",
              "      <td id=\"T_fbb4d_row11_col5\" class=\"data row11 col5\" >0.4564</td>\n",
              "      <td id=\"T_fbb4d_row11_col6\" class=\"data row11 col6\" >0.3130</td>\n",
              "      <td id=\"T_fbb4d_row11_col7\" class=\"data row11 col7\" >0.3496</td>\n",
              "      <td id=\"T_fbb4d_row11_col8\" class=\"data row11 col8\" >0.2390</td>\n",
              "    </tr>\n",
              "    <tr>\n",
              "      <th id=\"T_fbb4d_level0_row12\" class=\"row_heading level0 row12\" >qda</th>\n",
              "      <td id=\"T_fbb4d_row12_col0\" class=\"data row12 col0\" >Quadratic Discriminant Analysis</td>\n",
              "      <td id=\"T_fbb4d_row12_col1\" class=\"data row12 col1\" >0.7338</td>\n",
              "      <td id=\"T_fbb4d_row12_col2\" class=\"data row12 col2\" >0.7512</td>\n",
              "      <td id=\"T_fbb4d_row12_col3\" class=\"data row12 col3\" >0.6431</td>\n",
              "      <td id=\"T_fbb4d_row12_col4\" class=\"data row12 col4\" >0.3524</td>\n",
              "      <td id=\"T_fbb4d_row12_col5\" class=\"data row12 col5\" >0.4443</td>\n",
              "      <td id=\"T_fbb4d_row12_col6\" class=\"data row12 col6\" >0.3079</td>\n",
              "      <td id=\"T_fbb4d_row12_col7\" class=\"data row12 col7\" >0.3242</td>\n",
              "      <td id=\"T_fbb4d_row12_col8\" class=\"data row12 col8\" >0.2390</td>\n",
              "    </tr>\n",
              "    <tr>\n",
              "      <th id=\"T_fbb4d_level0_row13\" class=\"row_heading level0 row13\" >dt</th>\n",
              "      <td id=\"T_fbb4d_row13_col0\" class=\"data row13 col0\" >Decision Tree Classifier</td>\n",
              "      <td id=\"T_fbb4d_row13_col1\" class=\"data row13 col1\" >0.8255</td>\n",
              "      <td id=\"T_fbb4d_row13_col2\" class=\"data row13 col2\" >0.6599</td>\n",
              "      <td id=\"T_fbb4d_row13_col3\" class=\"data row13 col3\" >0.4249</td>\n",
              "      <td id=\"T_fbb4d_row13_col4\" class=\"data row13 col4\" >0.4202</td>\n",
              "      <td id=\"T_fbb4d_row13_col5\" class=\"data row13 col5\" >0.4207</td>\n",
              "      <td id=\"T_fbb4d_row13_col6\" class=\"data row13 col6\" >0.3184</td>\n",
              "      <td id=\"T_fbb4d_row13_col7\" class=\"data row13 col7\" >0.3194</td>\n",
              "      <td id=\"T_fbb4d_row13_col8\" class=\"data row13 col8\" >0.3470</td>\n",
              "    </tr>\n",
              "    <tr>\n",
              "      <th id=\"T_fbb4d_level0_row14\" class=\"row_heading level0 row14\" >dummy</th>\n",
              "      <td id=\"T_fbb4d_row14_col0\" class=\"data row14 col0\" >Dummy Classifier</td>\n",
              "      <td id=\"T_fbb4d_row14_col1\" class=\"data row14 col1\" >0.8500</td>\n",
              "      <td id=\"T_fbb4d_row14_col2\" class=\"data row14 col2\" >0.5000</td>\n",
              "      <td id=\"T_fbb4d_row14_col3\" class=\"data row14 col3\" >0.0000</td>\n",
              "      <td id=\"T_fbb4d_row14_col4\" class=\"data row14 col4\" >0.0000</td>\n",
              "      <td id=\"T_fbb4d_row14_col5\" class=\"data row14 col5\" >0.0000</td>\n",
              "      <td id=\"T_fbb4d_row14_col6\" class=\"data row14 col6\" >0.0000</td>\n",
              "      <td id=\"T_fbb4d_row14_col7\" class=\"data row14 col7\" >0.0000</td>\n",
              "      <td id=\"T_fbb4d_row14_col8\" class=\"data row14 col8\" >0.2470</td>\n",
              "    </tr>\n",
              "  </tbody>\n",
              "</table>\n"
            ]
          },
          "metadata": {}
        },
        {
          "output_type": "display_data",
          "data": {
            "text/plain": [
              "Processing:   0%|          | 0/65 [00:00<?, ?it/s]"
            ],
            "application/vnd.jupyter.widget-view+json": {
              "version_major": 2,
              "version_minor": 0,
              "model_id": "0fe21a26cd0245f39f6cce1a94d95019"
            }
          },
          "metadata": {
            "application/vnd.jupyter.widget-view+json": {
              "colab": {
                "custom_widget_manager": {
                  "url": "https://ssl.gstatic.com/colaboratory-static/widgets/colab-cdn-widget-manager/2b70e893a8ba7c0f/manager.min.js"
                }
              }
            }
          }
        },
        {
          "output_type": "display_data",
          "data": {
            "text/plain": [
              "<IPython.core.display.HTML object>"
            ],
            "text/html": []
          },
          "metadata": {}
        },
        {
          "output_type": "stream",
          "name": "stdout",
          "text": [
            "\n",
            "Melhor Modelo encontrado na comparação inicial:\n",
            "LGBMClassifier(boosting_type='gbdt', class_weight=None, colsample_bytree=1.0,\n",
            "               importance_type='split', learning_rate=0.1, max_depth=-1,\n",
            "               min_child_samples=20, min_child_weight=0.001, min_split_gain=0.0,\n",
            "               n_estimators=100, n_jobs=-1, num_leaves=31, objective=None,\n",
            "               random_state=123, reg_alpha=0.0, reg_lambda=0.0, subsample=1.0,\n",
            "               subsample_for_bin=200000, subsample_freq=0)\n",
            "\n",
            "============================================================\n",
            "\n"
          ]
        }
      ]
    },
    {
      "cell_type": "markdown",
      "source": [
        "# Etapa 7: Tuning de Hiperparâmetros"
      ],
      "metadata": {
        "id": "owATRzRmel2L"
      }
    },
    {
      "cell_type": "code",
      "source": [
        "print(\"=\"*30)\n",
        "print(\"ETAPA 7: TUNING DE HIPERPARÂMETROS\")\n",
        "print(\"=\"*30)"
      ],
      "metadata": {
        "colab": {
          "base_uri": "https://localhost:8080/"
        },
        "id": "0Z8Z9AU1egq1",
        "outputId": "3eac2b49-8906-464e-ed42-491137073fa3"
      },
      "execution_count": 34,
      "outputs": [
        {
          "output_type": "stream",
          "name": "stdout",
          "text": [
            "==============================\n",
            "ETAPA 7: TUNING DE HIPERPARÂMETROS\n",
            "==============================\n"
          ]
        }
      ]
    },
    {
      "cell_type": "code",
      "source": [
        "# Realizar tuning nos modelos mais promissores identificados na etapa anterior\n",
        "# Otimizar pela métrica AUC\n",
        "\n",
        "# --- Tuning do Melhor Modelo da Comparação ---\n",
        "print(f\"\\nRealizando tuning do melhor modelo da comparação ({type(melhor_modelo_comparacao).__name__})...\")\n",
        "try:\n",
        "    modelo_tunado_melhor = tune_model(melhor_modelo_comparacao, optimize='AUC', verbose=False)\n",
        "    print(\"Tuning do melhor modelo concluído.\")\n",
        "    print(modelo_tunado_melhor)\n",
        "except Exception as e:\n",
        "    print(f\"Erro ao fazer tuning do {type(melhor_modelo_comparacao).__name__}: {e}\")\n",
        "    modelo_tunado_melhor = melhor_modelo_comparacao # Usar o modelo original se o tuning falhar"
      ],
      "metadata": {
        "colab": {
          "base_uri": "https://localhost:8080/"
        },
        "id": "87zz8pvwerV3",
        "outputId": "e6ed1d95-6a22-4366-8b5f-c99b72489bdc"
      },
      "execution_count": 35,
      "outputs": [
        {
          "output_type": "stream",
          "name": "stdout",
          "text": [
            "\n",
            "Realizando tuning do melhor modelo da comparação (LGBMClassifier)...\n",
            "Tuning do melhor modelo concluído.\n",
            "LGBMClassifier(boosting_type='gbdt', class_weight=None, colsample_bytree=1.0,\n",
            "               importance_type='split', learning_rate=0.1, max_depth=-1,\n",
            "               min_child_samples=20, min_child_weight=0.001, min_split_gain=0.0,\n",
            "               n_estimators=100, n_jobs=-1, num_leaves=31, objective=None,\n",
            "               random_state=123, reg_alpha=0.0, reg_lambda=0.0, subsample=1.0,\n",
            "               subsample_for_bin=200000, subsample_freq=0)\n"
          ]
        }
      ]
    },
    {
      "cell_type": "code",
      "source": [
        "# --- Tuning de Outros Modelos Promissores (Exemplos) ---\n",
        "# Pode-se adicionar mais modelos aqui se a comparação inicial indicar outros bons candidatos\n",
        "\n",
        "# Exemplo: Tuning LightGBM (geralmente performa bem)\n",
        "print(\"\\nRealizando tuning do LightGBM...\")\n",
        "try:\n",
        "    lgbm = create_model('lightgbm', verbose=False) # Criar o modelo primeiro\n",
        "    modelo_tunado_lgbm = tune_model(lgbm, optimize='AUC', verbose=False)\n",
        "    print(\"Tuning do LightGBM concluído.\")\n",
        "    print(modelo_tunado_lgbm)\n",
        "except Exception as e:\n",
        "    print(f\"Erro ao fazer tuning do LightGBM: {e}\")\n",
        "    modelo_tunado_lgbm = None # Marcar como None se falhar"
      ],
      "metadata": {
        "colab": {
          "base_uri": "https://localhost:8080/"
        },
        "id": "DI3kS6QZerBV",
        "outputId": "2441f9e0-e858-46b8-df5e-8446d006baf1"
      },
      "execution_count": null,
      "outputs": [
        {
          "output_type": "stream",
          "name": "stdout",
          "text": [
            "\n",
            "Realizando tuning do LightGBM...\n"
          ]
        }
      ]
    },
    {
      "cell_type": "code",
      "source": [
        "# Exemplo: Tuning XGBoost\n",
        "print(\"\\nRealizando tuning do XGBoost...\")\n",
        "try:\n",
        "    xgboost = create_model('xgboost', verbose=False)\n",
        "    modelo_tunado_xgboost = tune_model(xgboost, optimize='AUC', verbose=False)\n",
        "    print(\"Tuning do XGBoost concluído.\")\n",
        "    print(modelo_tunado_xgboost)\n",
        "except Exception as e:\n",
        "    print(f\"Erro ao fazer tuning do XGBoost: {e}\")\n",
        "    modelo_tunado_xgboost = None\n",
        "\n",
        "print(\"\\n\" + \"=\"*60 + \"\\n\")\n"
      ],
      "metadata": {
        "id": "GOFfsOV0fBMI"
      },
      "execution_count": null,
      "outputs": []
    },
    {
      "cell_type": "markdown",
      "source": [
        "# Etapa 8: Blending de Modelos\n"
      ],
      "metadata": {
        "id": "GrQdovxngVK0"
      }
    },
    {
      "cell_type": "code",
      "source": [
        "print(\"=\"*30)\n",
        "print(\"ETAPA 8: BLENDING DE MODELOS\")\n",
        "print(\"=\"*30)"
      ],
      "metadata": {
        "id": "sjZ5Z7U9gZAV"
      },
      "execution_count": null,
      "outputs": []
    },
    {
      "cell_type": "code",
      "source": [
        "# Combinar as previsões dos melhores modelos tunados pode melhorar a performance\n",
        "\n",
        "# Selecionar os modelos tunados para o blend (ajuste conforme resultados do tuning)\n",
        "modelos_para_blend = [m for m in [modelo_tunado_melhor, modelo_tunado_lgbm, modelo_tunado_xgboost] if m is not None]\n",
        "\n",
        "modelo_blend = None\n",
        "if len(modelos_para_blend) >= 2:\n",
        "    print(f\"Realizando blend de {len(modelos_para_blend)} modelos...\")\n",
        "    try:\n",
        "        # Usar os top 2 ou 3 melhores tunados\n",
        "        modelo_blend = blend_models(estimator_list=modelos_para_blend[:3], optimize='AUC', verbose=False)\n",
        "        print(\"Blend de modelos concluído.\")\n",
        "        print(modelo_blend)\n",
        "    except Exception as e:\n",
        "        print(f\"Erro ao realizar o blend: {e}. Usaremos o melhor modelo tunado individualmente.\")\n",
        "        modelo_blend = None # Resetar se o blend falhar\n",
        "else:\n",
        "    print(\"Não há modelos suficientes tunados com sucesso para realizar o blend.\")\n",
        "\n",
        "print(\"\\n\" + \"=\"*60 + \"\\n\")"
      ],
      "metadata": {
        "id": "sz5tSYdNg2n4"
      },
      "execution_count": null,
      "outputs": []
    },
    {
      "cell_type": "markdown",
      "source": [
        "# Etapa 9: Seleção e Finalização do Modelo Final"
      ],
      "metadata": {
        "id": "MLWhtncghKgS"
      }
    },
    {
      "cell_type": "code",
      "source": [
        "print(\"=\"*30)\n",
        "print(\"ETAPA 9: SELEÇÃO E FINALIZAÇÃO DO MODELO\")\n",
        "print(\"=\"*30)"
      ],
      "metadata": {
        "id": "J_kfDmMtg2ZT"
      },
      "execution_count": null,
      "outputs": []
    },
    {
      "cell_type": "code",
      "source": [
        "# Selecionar o melhor modelo entre o blend (se bem-sucedido) e os tunados individuais\n",
        "# **Nota:** A seleção rigorosa requer comparar as métricas de validação cruzada (AUC) impressas\n",
        "# nas etapas anteriores (compare_models, tune_model, blend_models).\n",
        "# Para este exemplo, vamos priorizar o blend se ele foi criado, caso contrário, o melhor tunado.\n",
        "\n",
        "modelo_final_escolhido = None\n",
        "if modelo_blend:\n",
        "    print(\"Selecionando o modelo Blended como modelo final.\")\n",
        "    modelo_final_escolhido = modelo_blend\n",
        "else:\n",
        "    print(\"Selecionando o melhor modelo tunado individualmente como modelo final (verifique AUCs acima).\")\n",
        "    # Aqui, você precisaria verificar qual dos 'modelo_tunado_*' teve o melhor AUC na validação cruzada.\n",
        "    # Vamos usar o melhor modelo tunado da comparação inicial como fallback se outros falharam.\n",
        "    if modelo_tunado_melhor:\n",
        "       modelo_final_escolhido = modelo_tunado_melhor\n",
        "       print(f\"Modelo final escolhido: {type(modelo_final_escolhido).__name__} (tunado)\")\n",
        "    else:\n",
        "       modelo_final_escolhido = melhor_modelo_comparacao\n",
        "       print(f\"Modelo final escolhido: {type(modelo_final_escolhido).__name__} (original da comparação)\")"
      ],
      "metadata": {
        "id": "r00WM0mQhOQv"
      },
      "execution_count": null,
      "outputs": []
    },
    {
      "cell_type": "code",
      "source": [
        "# Finalizar o modelo escolhido (treina novamente com todos os dados de df_treino)\n",
        "modelo_final = None\n",
        "if modelo_final_escolhido:\n",
        "    print(f\"\\nFinalizando o modelo {type(modelo_final_escolhido).__name__}...\")\n",
        "    modelo_final = finalize_model(modelo_final_escolhido)\n",
        "    print(\"Modelo finalizado com sucesso.\")\n",
        "    print(modelo_final)\n",
        "else:\n",
        "    print(\"\\nERRO: Nenhum modelo foi selecionado para finalização.\")\n",
        "\n",
        "print(\"\\n\" + \"=\"*60 + \"\\n\")"
      ],
      "metadata": {
        "id": "T3-aWFgShXJ8"
      },
      "execution_count": null,
      "outputs": []
    },
    {
      "cell_type": "markdown",
      "source": [
        "# Etapa 10: Avaliação no Conjunto de Validação (Hold-out)"
      ],
      "metadata": {
        "id": "iZPu04YJmSY3"
      }
    },
    {
      "cell_type": "code",
      "source": [
        "print(\"=\"*30)\n",
        "print(\"ETAPA 10: AVALIAÇÃO NO CONJUNTO DE VALIDAÇÃO\")\n",
        "print(\"=\"*30)"
      ],
      "metadata": {
        "id": "Gb6Fpa1gmQou"
      },
      "execution_count": null,
      "outputs": []
    },
    {
      "cell_type": "code",
      "source": [
        "if modelo_final:\n",
        "    print(\"Realizando predições no conjunto de validação (dados não vistos)...\")\n",
        "    # CORREÇÃO AQUI: Adicionar raw_score=True\n",
        "    predicoes_validacao = predict_model(modelo_final, data=df_validacao, raw_score=True)\n",
        "\n",
        "    print(\"\\nPrimeiras linhas das predições na validação (com scores):\")\n",
        "    # Agora a coluna prediction_score_1 estará disponível\n",
        "    print(predicoes_validacao[['Response', 'prediction_label', 'prediction_score_1']].head())\n",
        "    # Calcular AUC e outras métricas no conjunto de validação\n",
        "    try:\n",
        "        from sklearn.metrics import roc_auc_score, accuracy_score, precision_score, recall_score, f1_score, classification_report\n",
        "        auc_validacao = roc_auc_score(predicoes_validacao['Response'], predicoes_validacao['prediction_score_1'])\n",
        "        accuracy_validacao = accuracy_score(predicoes_validacao['Response'], predicoes_validacao['prediction_label'])\n",
        "        precision_validacao = precision_score(predicoes_validacao['Response'], predicoes_validacao['prediction_label'])\n",
        "        recall_validacao = recall_score(predicoes_validacao['Response'], predicoes_validacao['prediction_label'])\n",
        "        f1_validacao = f1_score(predicoes_validacao['Response'], predicoes_validacao['prediction_label'])\n",
        "\n",
        "        print(f\"\\nMétricas no Conjunto de Validação:\")\n",
        "        print(f\"- AUC:      {auc_validacao:.4f}\")\n",
        "        print(f\"- Acurácia: {accuracy_validacao:.4f}\")\n",
        "        print(f\"- Precisão: {precision_validacao:.4f}\")\n",
        "        print(f\"- Recall:   {recall_validacao:.4f}\")\n",
        "        print(f\"- F1-Score: {f1_validacao:.4f}\")\n",
        "        print(\"\\nRelatório de Classificação (Validação):\")\n",
        "        print(classification_report(predicoes_validacao['Response'], predicoes_validacao['prediction_label']))\n",
        "\n",
        "    except Exception as e:\n",
        "        print(f\"\\nErro ao calcular métricas de validação: {e}\")\n",
        "else:\n",
        "    print(\"Não é possível avaliar no conjunto de validação, pois nenhum modelo foi finalizado.\")\n",
        "\n",
        "print(\"\\n\" + \"=\"*60 + \"\\n\")"
      ],
      "metadata": {
        "id": "NGUjUBComVaF"
      },
      "execution_count": null,
      "outputs": []
    },
    {
      "cell_type": "markdown",
      "source": [
        "# Etapa 11: Previsão nos Dados de Teste Finais (Xtest.csv)"
      ],
      "metadata": {
        "id": "EqPOcHLLwY34"
      }
    },
    {
      "cell_type": "code",
      "source": [
        "print(\"=\"*30)\n",
        "print(\"ETAPA 11: PREVISÃO EM Xtest.csv\")\n",
        "print(\"=\"*30)\n",
        "print(\"Aplicando as mesmas transformações de Limpeza e Engenharia de Atributos aos dados de Xtest...\")\n",
        "\n",
        "df_teste_final_transformado = df_teste_final.copy() # Usar o df_teste_final carregado no início"
      ],
      "metadata": {
        "id": "10XyZs7UmVUq"
      },
      "execution_count": null,
      "outputs": []
    },
    {
      "cell_type": "code",
      "source": [
        "# --- 11.1 Limpeza em Xtest.csv ---\n",
        "# Remover colunas irrelevantes (verificar se existem em Xtest.csv)\n",
        "colunas_para_remover_teste = ['ID', 'Z_CostContact', 'Z_Revenue', 'Dt_Customer', 'Year_Birth'] # Ajustar conforme Xtest.csv\n",
        "colunas_existentes_para_remover = [col for col in colunas_para_remover_teste if col in df_teste_final_transformado.columns]\n",
        "if colunas_existentes_para_remover:\n",
        "    print(f\"Removendo colunas de Xtest: {colunas_existentes_para_remover}\")\n",
        "    df_teste_final_transformado.drop(colunas_existentes_para_remover, axis=1, inplace=True, errors='ignore')"
      ],
      "metadata": {
        "id": "3ZZPuqBkmVLm"
      },
      "execution_count": null,
      "outputs": []
    },
    {
      "cell_type": "code",
      "source": [
        "# Tratar NaNs em 'Income' (usar a média do *conjunto de treino original* para consistência)\n",
        "if 'Income' in df_teste_final_transformado.columns and df_teste_final_transformado['Income'].isna().any():\n",
        "    print(\"Tratando NaNs em 'Income' para Xtest (usando média do treino)...\")\n",
        "    media_income_treino = df_treino_completo['Income'].mean() # Média do dataset original antes de dropna\n",
        "    df_teste_final_transformado['Income'].fillna(media_income_treino, inplace=True)\n",
        "else:\n",
        "     print(\"Coluna 'Income' não encontrada ou sem NaNs em Xtest.\")"
      ],
      "metadata": {
        "id": "QvdXs3JCwg4z"
      },
      "execution_count": null,
      "outputs": []
    },
    {
      "cell_type": "code",
      "source": [
        "# Corrigir 'Marital_Status'\n",
        "if 'Marital_Status' in df_teste_final_transformado.columns:\n",
        "    print(\"Corrigindo 'Marital_Status' para Xtest...\")\n",
        "    df_teste_final_transformado['Marital_Status'] = df_teste_final_transformado['Marital_Status'].replace({'Alone': 'Single', 'Absurd': 'Single', 'YOLO': 'Single'})"
      ],
      "metadata": {
        "id": "OewBYL20wgzJ"
      },
      "execution_count": null,
      "outputs": []
    },
    {
      "cell_type": "code",
      "source": [
        "# --- 11.2 Ajustar Tipos de Dados em Xtest.csv ---\n",
        "print(\"Ajustando tipos de dados para Xtest...\")\n",
        "df_teste_final_transformado = df_teste_final_transformado.convert_dtypes()\n",
        "# Garantir tipos numéricos corretos\n",
        "numeric_cols_teste = [col for col in df_teste_final_transformado.columns if df_teste_final_transformado[col].dtype in ['int64', 'float64', 'Int64', 'Float64']]\n",
        "for col in numeric_cols_teste:\n",
        "     # Verificar colunas numéricas chave\n",
        "     if col in ['Age', 'Income', 'Time_Customer'] or 'Mnt' in col or 'Num' in col or 'AcceptedCmp' in col or 'Recency' in col:\n",
        "         df_teste_final_transformado[col] = pd.to_numeric(df_teste_final_transformado[col], errors='coerce')\n",
        "         # Re-imputar NaNs se a coerção falhar (improvável, mas seguro)\n",
        "         if df_teste_final_transformado[col].isna().any():\n",
        "             if col in df_treino.columns: # Usar média do df_treino (após limpeza)\n",
        "                 media_treino = df_treino[col].mean()\n",
        "                 print(f\"Imputando NaNs (conversão) em '{col}' de Xtest com média do treino: {media_treino:.2f}\")\n",
        "                 df_teste_final_transformado[col].fillna(media_treino, inplace=True)\n",
        "             elif col in df_treino_completo.columns: # Fallback para média original\n",
        "                  media_treino_original = df_treino_completo[col].mean()\n",
        "                  print(f\"Aviso: Imputando NaNs (conversão) em '{col}' de Xtest com média *original* do treino: {media_treino_original:.2f}\")\n",
        "                  df_teste_final_transformado[col].fillna(media_treino_original, inplace=True)\n",
        "             else: # Fallback para média do próprio teste (menos ideal)\n",
        "                  media_teste = df_teste_final_transformado[col].mean()\n",
        "                  print(f\"Aviso Crítico: Imputando NaNs (conversão) em '{col}' de Xtest com média *do teste*: {media_teste:.2f}\")\n",
        "                  df_teste_final_transformado[col].fillna(media_teste, inplace=True)\n"
      ],
      "metadata": {
        "id": "hTbRioh3wgmA"
      },
      "execution_count": null,
      "outputs": []
    },
    {
      "cell_type": "code",
      "source": [
        "# --- 11.3 Engenharia de Atributos em Xtest.csv ---\n",
        "print(\"Aplicando Engenharia de Atributos em Xtest...\")\n",
        "# 'Age' e 'Time_Customer' já devem existir e estar no formato correto em Xtest.csv (verificar arquivo)"
      ],
      "metadata": {
        "id": "Rz61zWPNwq-R"
      },
      "execution_count": null,
      "outputs": []
    },
    {
      "cell_type": "code",
      "source": [
        "# Children_Total\n",
        "if 'Kidhome' in df_teste_final_transformado.columns and 'Teenhome' in df_teste_final_transformado.columns:\n",
        "    df_teste_final_transformado['Children_Total'] = df_teste_final_transformado['Kidhome'] + df_teste_final_transformado['Teenhome']\n",
        "    print(\"- Feature 'Children_Total' criada para Xtest.\")"
      ],
      "metadata": {
        "id": "NeMrztmJwq6N"
      },
      "execution_count": null,
      "outputs": []
    },
    {
      "cell_type": "code",
      "source": [
        "# Total Spending\n",
        "colunas_mnt_teste = [col for col in df_teste_final_transformado.columns if 'Mnt' in col]\n",
        "if colunas_mnt_teste:\n",
        "    df_teste_final_transformado['Total_Spending'] = df_teste_final_transformado[colunas_mnt_teste].sum(axis=1)\n",
        "    print(\"- Feature 'Total_Spending' criada para Xtest.\")"
      ],
      "metadata": {
        "id": "jH7paNIxwqu_"
      },
      "execution_count": null,
      "outputs": []
    },
    {
      "cell_type": "code",
      "source": [
        "# Total Purchases\n",
        "colunas_purch_teste = [col for col in df_teste_final_transformado.columns if 'Purchases' in col]\n",
        "if colunas_purch_teste:\n",
        "    df_teste_final_transformado['Total_Purchases'] = df_teste_final_transformado[colunas_purch_teste].sum(axis=1)\n",
        "    print(\"- Feature 'Total_Purchases' criada para Xtest.\")"
      ],
      "metadata": {
        "id": "HuWYLP7lwwM7"
      },
      "execution_count": null,
      "outputs": []
    },
    {
      "cell_type": "code",
      "source": [
        "# Total_Acc_Cmp\n",
        "if all(c in df_teste_final_transformado.columns for c in cmp_cols):\n",
        "    df_teste_final_transformado['Total_Acc_Cmp'] = df_teste_final_transformado[cmp_cols].sum(axis=1)\n",
        "    print(\"- Feature 'Total_Acc_Cmp' criada para Xtest.\")\n",
        "else:\n",
        "    print(\"- Aviso: Colunas de AcceptedCmp não encontradas em Xtest, 'Total_Acc_Cmp' não criada.\")"
      ],
      "metadata": {
        "id": "ZuXRdBUDwwHX"
      },
      "execution_count": null,
      "outputs": []
    },
    {
      "cell_type": "code",
      "source": [
        "# Income_Per_Capita\n",
        "if 'Marital_Status' in df_teste_final_transformado.columns and 'Income' in df_teste_final_transformado.columns and 'Children_Total' in df_teste_final_transformado.columns:\n",
        "    df_teste_final_transformado['Family_Size_Approx'] = df_teste_final_transformado['Marital_Status'].apply(family_size_approx)\n",
        "    df_teste_final_transformado['Income_Per_Capita'] = df_teste_final_transformado['Income'] / (df_teste_final_transformado['Family_Size_Approx'] + df_teste_final_transformado['Children_Total'])\n",
        "    df_teste_final_transformado['Income_Per_Capita'].replace([np.inf, -np.inf], 0, inplace=True)\n",
        "    df_teste_final_transformado['Income_Per_Capita'].fillna(0, inplace=True)\n",
        "    df_teste_final_transformado.drop('Family_Size_Approx', axis=1, inplace=True)\n",
        "    print(\"- Feature 'Income_Per_Capita' criada para Xtest.\")\n",
        "else:\n",
        "     print(\"- Aviso: Colunas necessárias para 'Income_Per_Capita' não encontradas em Xtest, feature não criada.\")"
      ],
      "metadata": {
        "id": "qLic3HlfwwCs"
      },
      "execution_count": null,
      "outputs": []
    },
    {
      "cell_type": "code",
      "source": [
        "# Garantir que as colunas em df_teste_final_transformado correspondam às esperadas pelo pipeline\n",
        "# (PyCaret's predict_model geralmente lida com isso, mas verificar é bom)\n",
        "print(\"\\nColunas em Xtest após transformações:\", df_teste_final_transformado.columns.tolist())\n",
        "print(\"\\nCabeçalho de Xtest (após limpeza/FE):\")\n",
        "print(df_teste_final_transformado.head())\n",
        "print(\"Shape de Xtest (após limpeza/FE):\", df_teste_final_transformado.shape)"
      ],
      "metadata": {
        "id": "F4OsKAygwv91"
      },
      "execution_count": null,
      "outputs": []
    },
    {
      "cell_type": "code",
      "source": [
        "#  --- 11.4 Realizar Predições ---\n",
        "if modelo_final:\n",
        "    print(\"\\nRealizando predições em Xtest.csv...\")\n",
        "    # CORREÇÃO AQUI: Adicionar raw_score=True\n",
        "    predicoes_teste_final = predict_model(modelo_final, data=df_teste_final_transformado, raw_score=True)\n",
        "    print(\"Predições concluídas.\")\n",
        "\n",
        "    print(\"\\nPrimeiras linhas das predições em Xtest.csv:\")\n",
        "    # Exibe 'prediction_label' (0 ou 1) e 'prediction_score_1' (probabilidade de ser 1)\n",
        "    print(predicoes_teste_final[['prediction_label', 'prediction_score_1']].head())\n",
        "\n",
        "    # Salvar as previsões (opcional)\n",
        "    # try:\n",
        "    #     predicoes_teste_final.to_csv('previsoes_xteste_final.csv', index=False)\n",
        "    #     print(\"\\nPredições de Xtest salvas em 'previsoes_xteste_final.csv'\")\n",
        "    # except Exception as e:\n",
        "    #     print(f\"\\nErro ao salvar previsões: {e}\")\n",
        "\n",
        "else:\n",
        "    print(\"Não é possível realizar predições em Xtest.csv, pois nenhum modelo foi finalizado.\")"
      ],
      "metadata": {
        "id": "IftJclgSwv5N"
      },
      "execution_count": null,
      "outputs": []
    },
    {
      "cell_type": "code",
      "source": [
        "print(\"\\n\" + \"=\"*60)\n",
        "print(\"FIM DO NOTEBOOK\")\n",
        "print(\"=\"*60 + \"\\n\")"
      ],
      "metadata": {
        "id": "SqyEsQi3xFQ2"
      },
      "execution_count": null,
      "outputs": []
    },
    {
      "cell_type": "markdown",
      "source": [
        "# Etapa 12: Salvar o Modelo Final (Opcional)"
      ],
      "metadata": {
        "id": "44ckxXI0xGWw"
      }
    },
    {
      "cell_type": "code",
      "source": [
        "# Descomente as linhas abaixo para salvar o modelo final treinado e o pipeline\n",
        "print(\"=\"*30)\n",
        "print(\"ETAPA 12: SALVAR MODELO FINAL (OPCIONAL)\")\n",
        "print(\"=\"*30)"
      ],
      "metadata": {
        "id": "F4wxb-gEz1pz"
      },
      "execution_count": null,
      "outputs": []
    },
    {
      "cell_type": "code",
      "source": [
        "# Descomente as linhas abaixo para salvar o modelo final treinado e o pipeline\n",
        "if modelo_final:\n",
        "   try:\n",
        "       save_model(modelo_final, 'modelo_ifood_final_refinado')\n",
        "       print(\"\\nModelo final salvo como 'modelo_ifood_final_refinado.pkl'\")\n",
        "       print(\"Este arquivo contém o pipeline de pré-processamento e o modelo treinado.\")\n",
        "   except Exception as e:\n",
        "       print(f\"\\nErro ao salvar o modelo: {e}\")\n",
        "else:\n",
        "   print(\"\\nNenhum modelo final para salvar.\")"
      ],
      "metadata": {
        "id": "luxHIM0JxHxc"
      },
      "execution_count": null,
      "outputs": []
    }
  ]
}